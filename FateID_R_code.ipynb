{
 "cells": [
  {
   "cell_type": "markdown",
   "metadata": {},
   "source": [
    "# Obtain FateID fate biases for each cell"
   ]
  },
  {
   "cell_type": "markdown",
   "metadata": {},
   "source": [
    " This notebook is intended to be run after running:  \n",
    " - part1 of the notebook FateID_dataprep_and_plots.ipynb  \n",
    " - the notebook FateID_get_distance_matrix.ipynb  \n",
    "\n",
    "Documentation and details on each step below available at https://github.com/dgrun/FateID  \n",
    "This notebook is based on the code provided in the FateID vignette: https://github.com/dgrun/FateID/blob/master/vignettes/FateID.Rmd "
   ]
  },
  {
   "cell_type": "code",
   "execution_count": 1,
   "metadata": {},
   "outputs": [],
   "source": [
    "library(FateID)"
   ]
  },
  {
   "cell_type": "code",
   "execution_count": 2,
   "metadata": {},
   "outputs": [
    {
     "data": {
      "text/html": [
       "<table>\n",
       "<thead><tr><th></th><th scope=col>X0</th><th scope=col>X1</th><th scope=col>X2</th><th scope=col>X3</th><th scope=col>X4</th><th scope=col>X5</th><th scope=col>X6</th><th scope=col>X7</th><th scope=col>X8</th><th scope=col>X9</th><th scope=col>⋯</th><th scope=col>X2339</th><th scope=col>X2340</th><th scope=col>X2341</th><th scope=col>X2342</th><th scope=col>X2343</th><th scope=col>X2344</th><th scope=col>X2345</th><th scope=col>X2346</th><th scope=col>X2347</th><th scope=col>X2348</th></tr></thead>\n",
       "<tbody>\n",
       "\t<tr><th scope=row>1110001J03Rik</th><td>0        </td><td>6.015038 </td><td>3.055301 </td><td>0.000000 </td><td>0        </td><td>0.5768676</td><td>0.8866034</td><td>5.027652 </td><td>0        </td><td>4.853191 </td><td>⋯        </td><td>2.997153 </td><td>0        </td><td>1.138693 </td><td>2.355158 </td><td>0.000000 </td><td>0.000000 </td><td>1.195886 </td><td>2.267574 </td><td>0        </td><td>0        </td></tr>\n",
       "\t<tr><th scope=row>1110002L01Rik</th><td>0        </td><td>0.000000 </td><td>0.000000 </td><td>0.000000 </td><td>0        </td><td>0.0000000</td><td>0.0000000</td><td>0.000000 </td><td>0        </td><td>0.000000 </td><td>⋯        </td><td>0.000000 </td><td>0        </td><td>0.000000 </td><td>0.000000 </td><td>1.440715 </td><td>0.000000 </td><td>0.000000 </td><td>0.000000 </td><td>0        </td><td>0        </td></tr>\n",
       "\t<tr><th scope=row>1110019D14Rik</th><td>0        </td><td>0.000000 </td><td>0.000000 </td><td>0.000000 </td><td>0        </td><td>0.0000000</td><td>0.0000000</td><td>0.000000 </td><td>0        </td><td>0.000000 </td><td>⋯        </td><td>1.498576 </td><td>0        </td><td>0.000000 </td><td>0.000000 </td><td>0.000000 </td><td>0.000000 </td><td>0.000000 </td><td>0.000000 </td><td>0        </td><td>0        </td></tr>\n",
       "\t<tr><th scope=row>1110046J04Rik</th><td>0        </td><td>0.000000 </td><td>0.000000 </td><td>0.000000 </td><td>0        </td><td>0.0000000</td><td>0.0000000</td><td>0.000000 </td><td>0        </td><td>0.000000 </td><td>⋯        </td><td>0.000000 </td><td>0        </td><td>0.000000 </td><td>0.000000 </td><td>0.000000 </td><td>3.700962 </td><td>0.000000 </td><td>0.000000 </td><td>0        </td><td>0        </td></tr>\n",
       "\t<tr><th scope=row>1500009L16Rik</th><td>0        </td><td>0.000000 </td><td>0.000000 </td><td>2.730748 </td><td>0        </td><td>0.5768676</td><td>0.8866034</td><td>0.000000 </td><td>0        </td><td>4.853191 </td><td>⋯        </td><td>0.000000 </td><td>0        </td><td>1.138693 </td><td>2.355158 </td><td>0.000000 </td><td>0.000000 </td><td>1.195886 </td><td>0.000000 </td><td>0        </td><td>0        </td></tr>\n",
       "\t<tr><th scope=row>1600002K03Rik</th><td>0        </td><td>0.000000 </td><td>0.000000 </td><td>0.000000 </td><td>0        </td><td>0.0000000</td><td>0.0000000</td><td>0.000000 </td><td>0        </td><td>2.426595 </td><td>⋯        </td><td>0.000000 </td><td>0        </td><td>0.000000 </td><td>0.000000 </td><td>0.000000 </td><td>0.000000 </td><td>0.000000 </td><td>0.000000 </td><td>0        </td><td>0        </td></tr>\n",
       "</tbody>\n",
       "</table>\n"
      ],
      "text/latex": [
       "\\begin{tabular}{r|lllllllllllllllllllllllllllllllllllllllllllllllllllllllllllllllllllllllllllllllllllllllllllllllllllllllllllllllllllllllllllllllllllllllllllllllllllllllllllllllllllllllllllllllllllllllllllllllllllllllllllllllllllllllllllllllllllllllllllllllllllllllllllllllllllllllllllllllllllllllllllllllllllllllllllllllllllllllllllllllllllllllllllllllllllllllllllllllllllllllllllllllllllllllllllllllllllllllllllllllllllllllllllllllllllllllllllllllllllllllllllllllllllllllllllllllllllllllllllllllllllllllllllllllllllllllllllllllllllllllllllllllllllllllllllllllllllllllllllllllllllllllllllllllllllllllllllllllllllllllllllllllllllllllllllllllllllllllllllllllllllllllllllllllllllllllllllllllllllllllllllllllllllllllllllllllllllllllllllllllllllllllllllllllllllllllllllllllllllllllllllllllllllllllllllllllllllllllllllllllllllllllllllllllllllllllllllllllllllllllllllllllllllllllllllllllllllllllllllllllllllllllllllllllllllllllllllllllllllllllllllllllllllllllllllllllllllllllllllllllllllllllllllllllllllllllllllllllllllllllllllllllllllllllllllllllllllllllllllllllllllllllllllllllllllllllllllllllllllllllllllllllllllllllllllllllllllllllllllllllllllllllllllllllllllllllllllllllllllllllllllllllllllllllllllllllllllllllllllllllllllllllllllllllllllllllllllllllllllllllllllllllllllllllllllllllllllllllllllllllllllllllllllllllllllllllllllllllllllllllllllllllllllllllllllllllllllllllllllllllllllllllllllllllllllllllllllllllllllllllllllllllllllllllllllllllllllllllllllllllllllllllllllllllllllllllllllllllllllllllllllllllllllllllllllllllllllllllllllllllllllllllllllllllllllllllllllllllllllllllllllllllllllllllllllllllllllllllllllllllllllllllllllllllllllllllllllllllllllllllllllllllllllllllllllllllllllllllllllllllllllllllllllllllllllllllllllllllllllllllllllllllllllllllllllllllllllllllllllllllllllllllllllllllllllllllllllllllllllllllllllllllllllllllllllllllllllllllllllllllllllllllllllllllllllllllllllllllllllllllllllllllllllllllllllllllllllllllllllllllllllllllllllllllllllllllllllllllllllllllllllllllllllllllllllllllllllllllllllllllllllllllllllllllllllllllllllllllllllllllllllllllllllllllllllllllllllllllllllllllllllllllllllllllllllllllllllllllllllllllllllllllllllllllllllllllllllllllllllllllllllllllllllllllllllllllllllllllllllllllllllllllllllllllllllllllllllllllllllllllllllllllllllllllllllllllllllllllllllllllllllllllllllllllllllllllllllllllllllllllllllllllllllllllllllllllllllll}\n",
       "  & X0 & X1 & X2 & X3 & X4 & X5 & X6 & X7 & X8 & X9 & ⋯ & X2339 & X2340 & X2341 & X2342 & X2343 & X2344 & X2345 & X2346 & X2347 & X2348\\\\\n",
       "\\hline\n",
       "\t1110001J03Rik & 0         & 6.015038  & 3.055301  & 0.000000  & 0         & 0.5768676 & 0.8866034 & 5.027652  & 0         & 4.853191  & ⋯         & 2.997153  & 0         & 1.138693  & 2.355158  & 0.000000  & 0.000000  & 1.195886  & 2.267574  & 0         & 0        \\\\\n",
       "\t1110002L01Rik & 0         & 0.000000  & 0.000000  & 0.000000  & 0         & 0.0000000 & 0.0000000 & 0.000000  & 0         & 0.000000  & ⋯         & 0.000000  & 0         & 0.000000  & 0.000000  & 1.440715  & 0.000000  & 0.000000  & 0.000000  & 0         & 0        \\\\\n",
       "\t1110019D14Rik & 0         & 0.000000  & 0.000000  & 0.000000  & 0         & 0.0000000 & 0.0000000 & 0.000000  & 0         & 0.000000  & ⋯         & 1.498576  & 0         & 0.000000  & 0.000000  & 0.000000  & 0.000000  & 0.000000  & 0.000000  & 0         & 0        \\\\\n",
       "\t1110046J04Rik & 0         & 0.000000  & 0.000000  & 0.000000  & 0         & 0.0000000 & 0.0000000 & 0.000000  & 0         & 0.000000  & ⋯         & 0.000000  & 0         & 0.000000  & 0.000000  & 0.000000  & 3.700962  & 0.000000  & 0.000000  & 0         & 0        \\\\\n",
       "\t1500009L16Rik & 0         & 0.000000  & 0.000000  & 2.730748  & 0         & 0.5768676 & 0.8866034 & 0.000000  & 0         & 4.853191  & ⋯         & 0.000000  & 0         & 1.138693  & 2.355158  & 0.000000  & 0.000000  & 1.195886  & 0.000000  & 0         & 0        \\\\\n",
       "\t1600002K03Rik & 0         & 0.000000  & 0.000000  & 0.000000  & 0         & 0.0000000 & 0.0000000 & 0.000000  & 0         & 2.426595  & ⋯         & 0.000000  & 0         & 0.000000  & 0.000000  & 0.000000  & 0.000000  & 0.000000  & 0.000000  & 0         & 0        \\\\\n",
       "\\end{tabular}\n"
      ],
      "text/markdown": [
       "\n",
       "| <!--/--> | X0 | X1 | X2 | X3 | X4 | X5 | X6 | X7 | X8 | X9 | ⋯ | X2339 | X2340 | X2341 | X2342 | X2343 | X2344 | X2345 | X2346 | X2347 | X2348 | \n",
       "|---|---|---|---|---|---|\n",
       "| 1110001J03Rik | 0         | 6.015038  | 3.055301  | 0.000000  | 0         | 0.5768676 | 0.8866034 | 5.027652  | 0         | 4.853191  | ⋯         | 2.997153  | 0         | 1.138693  | 2.355158  | 0.000000  | 0.000000  | 1.195886  | 2.267574  | 0         | 0         | \n",
       "| 1110002L01Rik | 0         | 0.000000  | 0.000000  | 0.000000  | 0         | 0.0000000 | 0.0000000 | 0.000000  | 0         | 0.000000  | ⋯         | 0.000000  | 0         | 0.000000  | 0.000000  | 1.440715  | 0.000000  | 0.000000  | 0.000000  | 0         | 0         | \n",
       "| 1110019D14Rik | 0         | 0.000000  | 0.000000  | 0.000000  | 0         | 0.0000000 | 0.0000000 | 0.000000  | 0         | 0.000000  | ⋯         | 1.498576  | 0         | 0.000000  | 0.000000  | 0.000000  | 0.000000  | 0.000000  | 0.000000  | 0         | 0         | \n",
       "| 1110046J04Rik | 0         | 0.000000  | 0.000000  | 0.000000  | 0         | 0.0000000 | 0.0000000 | 0.000000  | 0         | 0.000000  | ⋯         | 0.000000  | 0         | 0.000000  | 0.000000  | 0.000000  | 3.700962  | 0.000000  | 0.000000  | 0         | 0         | \n",
       "| 1500009L16Rik | 0         | 0.000000  | 0.000000  | 2.730748  | 0         | 0.5768676 | 0.8866034 | 0.000000  | 0         | 4.853191  | ⋯         | 0.000000  | 0         | 1.138693  | 2.355158  | 0.000000  | 0.000000  | 1.195886  | 0.000000  | 0         | 0         | \n",
       "| 1600002K03Rik | 0         | 0.000000  | 0.000000  | 0.000000  | 0         | 0.0000000 | 0.0000000 | 0.000000  | 0         | 2.426595  | ⋯         | 0.000000  | 0         | 0.000000  | 0.000000  | 0.000000  | 0.000000  | 0.000000  | 0.000000  | 0         | 0         | \n",
       "\n",
       "\n"
      ],
      "text/plain": [
       "              X0 X1       X2       X3       X4 X5        X6        X7       X8\n",
       "1110001J03Rik 0  6.015038 3.055301 0.000000 0  0.5768676 0.8866034 5.027652 0 \n",
       "1110002L01Rik 0  0.000000 0.000000 0.000000 0  0.0000000 0.0000000 0.000000 0 \n",
       "1110019D14Rik 0  0.000000 0.000000 0.000000 0  0.0000000 0.0000000 0.000000 0 \n",
       "1110046J04Rik 0  0.000000 0.000000 0.000000 0  0.0000000 0.0000000 0.000000 0 \n",
       "1500009L16Rik 0  0.000000 0.000000 2.730748 0  0.5768676 0.8866034 0.000000 0 \n",
       "1600002K03Rik 0  0.000000 0.000000 0.000000 0  0.0000000 0.0000000 0.000000 0 \n",
       "              X9       ⋯ X2339    X2340 X2341    X2342    X2343    X2344   \n",
       "1110001J03Rik 4.853191 ⋯ 2.997153 0     1.138693 2.355158 0.000000 0.000000\n",
       "1110002L01Rik 0.000000 ⋯ 0.000000 0     0.000000 0.000000 1.440715 0.000000\n",
       "1110019D14Rik 0.000000 ⋯ 1.498576 0     0.000000 0.000000 0.000000 0.000000\n",
       "1110046J04Rik 0.000000 ⋯ 0.000000 0     0.000000 0.000000 0.000000 3.700962\n",
       "1500009L16Rik 4.853191 ⋯ 0.000000 0     1.138693 2.355158 0.000000 0.000000\n",
       "1600002K03Rik 2.426595 ⋯ 0.000000 0     0.000000 0.000000 0.000000 0.000000\n",
       "              X2345    X2346    X2347 X2348\n",
       "1110001J03Rik 1.195886 2.267574 0     0    \n",
       "1110002L01Rik 0.000000 0.000000 0     0    \n",
       "1110019D14Rik 0.000000 0.000000 0     0    \n",
       "1110046J04Rik 0.000000 0.000000 0     0    \n",
       "1500009L16Rik 1.195886 0.000000 0     0    \n",
       "1600002K03Rik 0.000000 0.000000 0     0    "
      ]
     },
     "metadata": {},
     "output_type": "display_data"
    }
   ],
   "source": [
    "# load counts. Only variable genes retained. Same genes as used for SPRING\n",
    "x <- read.delim(\"outputs/fateid/counts_2000x2349.tsv\", row.names = 1)\n",
    "head(x)"
   ]
  },
  {
   "cell_type": "code",
   "execution_count": 3,
   "metadata": {},
   "outputs": [],
   "source": [
    "# load per a vector with a population label for each cell\n",
    "y <- read.delim(\"outputs/fateid/population_labels_1x2349.tsv\",row.names = 1)"
   ]
  },
  {
   "cell_type": "code",
   "execution_count": 4,
   "metadata": {},
   "outputs": [
    {
     "data": {
      "text/html": [
       "<table>\n",
       "<thead><tr><th></th><th scope=col>X0</th><th scope=col>X1</th><th scope=col>X2</th><th scope=col>X3</th><th scope=col>X4</th><th scope=col>X5</th><th scope=col>X6</th><th scope=col>X7</th><th scope=col>X8</th><th scope=col>X9</th><th scope=col>⋯</th><th scope=col>X2339</th><th scope=col>X2340</th><th scope=col>X2341</th><th scope=col>X2342</th><th scope=col>X2343</th><th scope=col>X2344</th><th scope=col>X2345</th><th scope=col>X2346</th><th scope=col>X2347</th><th scope=col>X2348</th></tr></thead>\n",
       "<tbody>\n",
       "\t<tr><th scope=row>0</th><td> 0.00000 </td><td>19.536278</td><td>14.43716 </td><td>17.51493 </td><td>17.129824</td><td>19.10968 </td><td>15.67887 </td><td>30.02929 </td><td>26.83539 </td><td>23.21699 </td><td>⋯        </td><td>12.22691 </td><td>12.48773 </td><td>16.70350 </td><td>23.23494 </td><td>14.91413 </td><td>10.51466 </td><td>16.95882 </td><td>25.43810 </td><td>17.258176</td><td>13.05202 </td></tr>\n",
       "\t<tr><th scope=row>1</th><td>19.53628 </td><td> 0.000000</td><td>12.08331 </td><td>12.57497 </td><td> 9.468279</td><td>18.65022 </td><td>13.12585 </td><td>32.68135 </td><td>24.11146 </td><td>20.30937 </td><td>⋯        </td><td>20.29460 </td><td>16.36014 </td><td>17.72861 </td><td>22.92619 </td><td>13.87239 </td><td>21.95393 </td><td>11.48501 </td><td>24.30502 </td><td>14.795166</td><td>16.78453 </td></tr>\n",
       "\t<tr><th scope=row>2</th><td>14.43716 </td><td>12.083312</td><td> 0.00000 </td><td>14.17729 </td><td> 8.808960</td><td>14.68157 </td><td>10.61676 </td><td>30.88181 </td><td>21.61003 </td><td>18.69259 </td><td>⋯        </td><td>15.55582 </td><td>11.45574 </td><td>14.88388 </td><td>20.66999 </td><td>10.63602 </td><td>17.89423 </td><td> 8.89202 </td><td>20.44100 </td><td> 8.710723</td><td>11.86535 </td></tr>\n",
       "\t<tr><th scope=row>3</th><td>17.51493 </td><td>12.574966</td><td>14.17729 </td><td> 0.00000 </td><td>13.516198</td><td>14.78116 </td><td>11.42538 </td><td>31.92538 </td><td>22.69755 </td><td>17.22091 </td><td>⋯        </td><td>17.61212 </td><td>14.66920 </td><td>14.14410 </td><td>18.54458 </td><td>12.57642 </td><td>19.06450 </td><td>11.45007 </td><td>22.32032 </td><td>16.982735</td><td>13.07702 </td></tr>\n",
       "\t<tr><th scope=row>4</th><td>17.12982 </td><td> 9.468279</td><td> 8.80896 </td><td>13.51620 </td><td> 0.000000</td><td>17.85583 </td><td>13.51059 </td><td>33.15644 </td><td>22.54636 </td><td>20.09944 </td><td>⋯        </td><td>18.52966 </td><td>14.64433 </td><td>16.69526 </td><td>21.97587 </td><td>13.86249 </td><td>19.24645 </td><td>11.59858 </td><td>22.78286 </td><td>12.149621</td><td>14.02727 </td></tr>\n",
       "\t<tr><th scope=row>5</th><td>19.10968 </td><td>18.650221</td><td>14.68157 </td><td>14.78116 </td><td>17.855826</td><td> 0.00000 </td><td>12.32485 </td><td>29.38897 </td><td>18.00407 </td><td>18.06774 </td><td>⋯        </td><td>15.71293 </td><td>17.33738 </td><td>10.13822 </td><td>15.71023 </td><td>11.75974 </td><td>19.34218 </td><td>12.45265 </td><td>13.84733 </td><td>16.504138</td><td>11.20797 </td></tr>\n",
       "</tbody>\n",
       "</table>\n"
      ],
      "text/latex": [
       "\\begin{tabular}{r|lllllllllllllllllllllllllllllllllllllllllllllllllllllllllllllllllllllllllllllllllllllllllllllllllllllllllllllllllllllllllllllllllllllllllllllllllllllllllllllllllllllllllllllllllllllllllllllllllllllllllllllllllllllllllllllllllllllllllllllllllllllllllllllllllllllllllllllllllllllllllllllllllllllllllllllllllllllllllllllllllllllllllllllllllllllllllllllllllllllllllllllllllllllllllllllllllllllllllllllllllllllllllllllllllllllllllllllllllllllllllllllllllllllllllllllllllllllllllllllllllllllllllllllllllllllllllllllllllllllllllllllllllllllllllllllllllllllllllllllllllllllllllllllllllllllllllllllllllllllllllllllllllllllllllllllllllllllllllllllllllllllllllllllllllllllllllllllllllllllllllllllllllllllllllllllllllllllllllllllllllllllllllllllllllllllllllllllllllllllllllllllllllllllllllllllllllllllllllllllllllllllllllllllllllllllllllllllllllllllllllllllllllllllllllllllllllllllllllllllllllllllllllllllllllllllllllllllllllllllllllllllllllllllllllllllllllllllllllllllllllllllllllllllllllllllllllllllllllllllllllllllllllllllllllllllllllllllllllllllllllllllllllllllllllllllllllllllllllllllllllllllllllllllllllllllllllllllllllllllllllllllllllllllllllllllllllllllllllllllllllllllllllllllllllllllllllllllllllllllllllllllllllllllllllllllllllllllllllllllllllllllllllllllllllllllllllllllllllllllllllllllllllllllllllllllllllllllllllllllllllllllllllllllllllllllllllllllllllllllllllllllllllllllllllllllllllllllllllllllllllllllllllllllllllllllllllllllllllllllllllllllllllllllllllllllllllllllllllllllllllllllllllllllllllllllllllllllllllllllllllllllllllllllllllllllllllllllllllllllllllllllllllllllllllllllllllllllllllllllllllllllllllllllllllllllllllllllllllllllllllllllllllllllllllllllllllllllllllllllllllllllllllllllllllllllllllllllllllllllllllllllllllllllllllllllllllllllllllllllllllllllllllllllllllllllllllllllllllllllllllllllllllllllllllllllllllllllllllllllllllllllllllllllllllllllllllllllllllllllllllllllllllllllllllllllllllllllllllllllllllllllllllllllllllllllllllllllllllllllllllllllllllllllllllllllllllllllllllllllllllllllllllllllllllllllllllllllllllllllllllllllllllllllllllllllllllllllllllllllllllllllllllllllllllllllllllllllllllllllllllllllllllllllllllllllllllllllllllllllllllllllllllllllllllllllllllllllllllllllllllllllllllllllllllllllllllllllllllllllllllllllllllllllllllllllllllllllllllllllllllllllllllllllllllllllllllllllllllllllllllllllllllllllllllllllllllllll}\n",
       "  & X0 & X1 & X2 & X3 & X4 & X5 & X6 & X7 & X8 & X9 & ⋯ & X2339 & X2340 & X2341 & X2342 & X2343 & X2344 & X2345 & X2346 & X2347 & X2348\\\\\n",
       "\\hline\n",
       "\t0 &  0.00000  & 19.536278 & 14.43716  & 17.51493  & 17.129824 & 19.10968  & 15.67887  & 30.02929  & 26.83539  & 23.21699  & ⋯         & 12.22691  & 12.48773  & 16.70350  & 23.23494  & 14.91413  & 10.51466  & 16.95882  & 25.43810  & 17.258176 & 13.05202 \\\\\n",
       "\t1 & 19.53628  &  0.000000 & 12.08331  & 12.57497  &  9.468279 & 18.65022  & 13.12585  & 32.68135  & 24.11146  & 20.30937  & ⋯         & 20.29460  & 16.36014  & 17.72861  & 22.92619  & 13.87239  & 21.95393  & 11.48501  & 24.30502  & 14.795166 & 16.78453 \\\\\n",
       "\t2 & 14.43716  & 12.083312 &  0.00000  & 14.17729  &  8.808960 & 14.68157  & 10.61676  & 30.88181  & 21.61003  & 18.69259  & ⋯         & 15.55582  & 11.45574  & 14.88388  & 20.66999  & 10.63602  & 17.89423  &  8.89202  & 20.44100  &  8.710723 & 11.86535 \\\\\n",
       "\t3 & 17.51493  & 12.574966 & 14.17729  &  0.00000  & 13.516198 & 14.78116  & 11.42538  & 31.92538  & 22.69755  & 17.22091  & ⋯         & 17.61212  & 14.66920  & 14.14410  & 18.54458  & 12.57642  & 19.06450  & 11.45007  & 22.32032  & 16.982735 & 13.07702 \\\\\n",
       "\t4 & 17.12982  &  9.468279 &  8.80896  & 13.51620  &  0.000000 & 17.85583  & 13.51059  & 33.15644  & 22.54636  & 20.09944  & ⋯         & 18.52966  & 14.64433  & 16.69526  & 21.97587  & 13.86249  & 19.24645  & 11.59858  & 22.78286  & 12.149621 & 14.02727 \\\\\n",
       "\t5 & 19.10968  & 18.650221 & 14.68157  & 14.78116  & 17.855826 &  0.00000  & 12.32485  & 29.38897  & 18.00407  & 18.06774  & ⋯         & 15.71293  & 17.33738  & 10.13822  & 15.71023  & 11.75974  & 19.34218  & 12.45265  & 13.84733  & 16.504138 & 11.20797 \\\\\n",
       "\\end{tabular}\n"
      ],
      "text/markdown": [
       "\n",
       "| <!--/--> | X0 | X1 | X2 | X3 | X4 | X5 | X6 | X7 | X8 | X9 | ⋯ | X2339 | X2340 | X2341 | X2342 | X2343 | X2344 | X2345 | X2346 | X2347 | X2348 | \n",
       "|---|---|---|---|---|---|\n",
       "| 0 |  0.00000  | 19.536278 | 14.43716  | 17.51493  | 17.129824 | 19.10968  | 15.67887  | 30.02929  | 26.83539  | 23.21699  | ⋯         | 12.22691  | 12.48773  | 16.70350  | 23.23494  | 14.91413  | 10.51466  | 16.95882  | 25.43810  | 17.258176 | 13.05202  | \n",
       "| 1 | 19.53628  |  0.000000 | 12.08331  | 12.57497  |  9.468279 | 18.65022  | 13.12585  | 32.68135  | 24.11146  | 20.30937  | ⋯         | 20.29460  | 16.36014  | 17.72861  | 22.92619  | 13.87239  | 21.95393  | 11.48501  | 24.30502  | 14.795166 | 16.78453  | \n",
       "| 2 | 14.43716  | 12.083312 |  0.00000  | 14.17729  |  8.808960 | 14.68157  | 10.61676  | 30.88181  | 21.61003  | 18.69259  | ⋯         | 15.55582  | 11.45574  | 14.88388  | 20.66999  | 10.63602  | 17.89423  |  8.89202  | 20.44100  |  8.710723 | 11.86535  | \n",
       "| 3 | 17.51493  | 12.574966 | 14.17729  |  0.00000  | 13.516198 | 14.78116  | 11.42538  | 31.92538  | 22.69755  | 17.22091  | ⋯         | 17.61212  | 14.66920  | 14.14410  | 18.54458  | 12.57642  | 19.06450  | 11.45007  | 22.32032  | 16.982735 | 13.07702  | \n",
       "| 4 | 17.12982  |  9.468279 |  8.80896  | 13.51620  |  0.000000 | 17.85583  | 13.51059  | 33.15644  | 22.54636  | 20.09944  | ⋯         | 18.52966  | 14.64433  | 16.69526  | 21.97587  | 13.86249  | 19.24645  | 11.59858  | 22.78286  | 12.149621 | 14.02727  | \n",
       "| 5 | 19.10968  | 18.650221 | 14.68157  | 14.78116  | 17.855826 |  0.00000  | 12.32485  | 29.38897  | 18.00407  | 18.06774  | ⋯         | 15.71293  | 17.33738  | 10.13822  | 15.71023  | 11.75974  | 19.34218  | 12.45265  | 13.84733  | 16.504138 | 11.20797  | \n",
       "\n",
       "\n"
      ],
      "text/plain": [
       "  X0       X1        X2       X3       X4        X5       X6       X7      \n",
       "0  0.00000 19.536278 14.43716 17.51493 17.129824 19.10968 15.67887 30.02929\n",
       "1 19.53628  0.000000 12.08331 12.57497  9.468279 18.65022 13.12585 32.68135\n",
       "2 14.43716 12.083312  0.00000 14.17729  8.808960 14.68157 10.61676 30.88181\n",
       "3 17.51493 12.574966 14.17729  0.00000 13.516198 14.78116 11.42538 31.92538\n",
       "4 17.12982  9.468279  8.80896 13.51620  0.000000 17.85583 13.51059 33.15644\n",
       "5 19.10968 18.650221 14.68157 14.78116 17.855826  0.00000 12.32485 29.38897\n",
       "  X8       X9       ⋯ X2339    X2340    X2341    X2342    X2343    X2344   \n",
       "0 26.83539 23.21699 ⋯ 12.22691 12.48773 16.70350 23.23494 14.91413 10.51466\n",
       "1 24.11146 20.30937 ⋯ 20.29460 16.36014 17.72861 22.92619 13.87239 21.95393\n",
       "2 21.61003 18.69259 ⋯ 15.55582 11.45574 14.88388 20.66999 10.63602 17.89423\n",
       "3 22.69755 17.22091 ⋯ 17.61212 14.66920 14.14410 18.54458 12.57642 19.06450\n",
       "4 22.54636 20.09944 ⋯ 18.52966 14.64433 16.69526 21.97587 13.86249 19.24645\n",
       "5 18.00407 18.06774 ⋯ 15.71293 17.33738 10.13822 15.71023 11.75974 19.34218\n",
       "  X2345    X2346    X2347     X2348   \n",
       "0 16.95882 25.43810 17.258176 13.05202\n",
       "1 11.48501 24.30502 14.795166 16.78453\n",
       "2  8.89202 20.44100  8.710723 11.86535\n",
       "3 11.45007 22.32032 16.982735 13.07702\n",
       "4 11.59858 22.78286 12.149621 14.02727\n",
       "5 12.45265 13.84733 16.504138 11.20797"
      ]
     },
     "metadata": {},
     "output_type": "display_data"
    }
   ],
   "source": [
    "# load distance matrix used for SPRING plot\n",
    "z <- read.delim(\"outputs/fateid/distance_matrix.tsv\",row.names = 1)\n",
    "head(z)"
   ]
  },
  {
   "cell_type": "code",
   "execution_count": 5,
   "metadata": {},
   "outputs": [],
   "source": [
    "# load list of endpoint (target or sink) population with population labels as integers:\n",
    "tar <- scan('outputs/fateid/labels_to_consider.tsv', what=numeric(), sep=\"\\t\")"
   ]
  },
  {
   "cell_type": "code",
   "execution_count": 6,
   "metadata": {
    "scrolled": false
   },
   "outputs": [
    {
     "name": "stdout",
     "output_type": "stream",
     "text": [
      "minnr: 5 \n",
      "minnrh: 10 \n",
      "test set size iteration 1 : 5 5 5 5 5 5 5 \n",
      "randomforest iteration 1 of 34 cells\n",
      "test set size iteration 2 : 1 1 1 1 1 5 1 \n",
      "randomforest iteration 2 of 10 cells\n",
      "test set size iteration 3 : 1 1 1 1 1 5 1 \n",
      "randomforest iteration 3 of 11 cells\n",
      "test set size iteration 4 : 0.8333333 0.8333333 0.8333333 0.8333333 0.8333333 5 0.8333333 \n",
      "randomforest iteration 4 of 11 cells\n",
      "test set size iteration 5 : 1 1 1 1 1 5 1 \n",
      "randomforest iteration 5 of 11 cells\n",
      "test set size iteration 6 : 0.8333333 0.8333333 0.8333333 0.8333333 0.8333333 5 0.8333333 \n",
      "randomforest iteration 6 of 11 cells\n",
      "test set size iteration 7 : 0.8333333 0.8333333 0.8333333 0.8333333 0.8333333 5 0.8333333 \n",
      "randomforest iteration 7 of 11 cells\n",
      "test set size iteration 8 : 1 1 1 1 1 5 1 \n",
      "randomforest iteration 8 of 11 cells\n",
      "test set size iteration 9 : 1.25 1.25 1.25 1.25 1.25 5 1.25 \n",
      "randomforest iteration 9 of 11 cells\n",
      "test set size iteration 10 : 1 1 1 1 1 5 1 \n",
      "randomforest iteration 10 of 11 cells\n",
      "test set size iteration 11 : 1.25 1.25 1.25 1.25 1.25 5 1.25 \n",
      "randomforest iteration 11 of 11 cells\n",
      "test set size iteration 12 : 1.25 1.25 1.25 1.25 1.25 5 1.25 \n",
      "randomforest iteration 12 of 11 cells\n",
      "test set size iteration 13 : 5 5 5 5 5 5 5 \n",
      "randomforest iteration 13 of 32 cells\n",
      "test set size iteration 14 : 5 5 5 5 5 5 5 \n",
      "randomforest iteration 14 of 33 cells\n",
      "test set size iteration 15 : 5 5 5 5 5 5 5 \n",
      "randomforest iteration 15 of 34 cells\n",
      "test set size iteration 16 : 5 5 5 5 5 5 5 \n",
      "randomforest iteration 16 of 32 cells\n",
      "test set size iteration 17 : 5 5 5 5 5 5 5 \n",
      "randomforest iteration 17 of 32 cells\n",
      "test set size iteration 18 : 5 5 5 5 5 5 5 \n",
      "randomforest iteration 18 of 34 cells\n",
      "test set size iteration 19 : 5 5 5 5 5 5 5 \n",
      "randomforest iteration 19 of 33 cells\n",
      "test set size iteration 20 : 5 5 5 5 5 5 5 \n",
      "randomforest iteration 20 of 34 cells\n",
      "test set size iteration 21 : 5 5 5 5 5 5 5 \n",
      "randomforest iteration 21 of 34 cells\n",
      "test set size iteration 22 : 5 5 5 5 5 5 5 \n",
      "randomforest iteration 22 of 31 cells\n",
      "test set size iteration 23 : 5 5 5 5 5 5 5 \n",
      "randomforest iteration 23 of 34 cells\n",
      "test set size iteration 24 : 5 5 5 5 5 5 5 \n",
      "randomforest iteration 24 of 34 cells\n",
      "test set size iteration 25 : 5 5 5 5 5 5 5 \n",
      "randomforest iteration 25 of 33 cells\n",
      "test set size iteration 26 : 5 5 5 5 5 5 5 \n",
      "randomforest iteration 26 of 33 cells\n",
      "test set size iteration 27 : 5 5 5 5 5 5 5 \n",
      "randomforest iteration 27 of 33 cells\n",
      "test set size iteration 28 : 5 5 5 5 5 5 5 \n",
      "randomforest iteration 28 of 35 cells\n",
      "test set size iteration 29 : 5 5 5 5 5 5 5 \n",
      "randomforest iteration 29 of 34 cells\n",
      "test set size iteration 30 : 5 5 5 5 5 5 5 \n",
      "randomforest iteration 30 of 32 cells\n",
      "test set size iteration 31 : 5 5 5 5 5 5 5 \n",
      "randomforest iteration 31 of 33 cells\n",
      "test set size iteration 32 : 5 5 5 5 5 5 5 \n",
      "randomforest iteration 32 of 35 cells\n",
      "test set size iteration 33 : 5 5 5 5 5 5 5 \n",
      "randomforest iteration 33 of 30 cells\n",
      "test set size iteration 34 : 5 5 5 5 5 5 5 \n",
      "randomforest iteration 34 of 34 cells\n",
      "test set size iteration 35 : 5 5 5 5 5 5 5 \n",
      "randomforest iteration 35 of 31 cells\n",
      "test set size iteration 36 : 5 5 5 5 5 5 5 \n",
      "randomforest iteration 36 of 34 cells\n",
      "test set size iteration 37 : 5 5 5 5 5 5 5 \n",
      "randomforest iteration 37 of 31 cells\n",
      "test set size iteration 38 : 5 5 5 5 5 5 5 \n",
      "randomforest iteration 38 of 34 cells\n",
      "test set size iteration 39 : 5 5 5 5 5 5 5 \n",
      "randomforest iteration 39 of 35 cells\n",
      "test set size iteration 40 : 5 5 5 5 5 5 5 \n",
      "randomforest iteration 40 of 33 cells\n",
      "test set size iteration 41 : 5 5 5 5 5 5 5 \n",
      "randomforest iteration 41 of 33 cells\n",
      "test set size iteration 42 : 5 5 5 5 5 5 5 \n",
      "randomforest iteration 42 of 30 cells\n",
      "test set size iteration 43 : 5 5 5 5 5 5 5 \n",
      "randomforest iteration 43 of 34 cells\n",
      "test set size iteration 44 : 5 5 5 5 5 5 5 \n",
      "randomforest iteration 44 of 32 cells\n",
      "test set size iteration 45 : 5 5 5 5 5 5 5 \n",
      "randomforest iteration 45 of 31 cells\n",
      "test set size iteration 46 : 5 5 5 5 5 5 5 \n",
      "randomforest iteration 46 of 30 cells\n",
      "test set size iteration 47 : 5 5 5 5 5 5 5 \n",
      "randomforest iteration 47 of 31 cells\n",
      "test set size iteration 48 : 5 5 5 5 5 5 5 \n",
      "randomforest iteration 48 of 30 cells\n",
      "test set size iteration 49 : 5 5 5 5 5 5 5 \n",
      "randomforest iteration 49 of 33 cells\n",
      "test set size iteration 50 : 5 5 5 5 5 5 5 \n",
      "randomforest iteration 50 of 33 cells\n",
      "test set size iteration 51 : 5 5 5 5 5 5 5 \n",
      "randomforest iteration 51 of 33 cells\n",
      "test set size iteration 52 : 5 5 5 5 5 5 5 \n",
      "randomforest iteration 52 of 30 cells\n",
      "test set size iteration 53 : 5 5 5 5 5 5 5 \n",
      "randomforest iteration 53 of 32 cells\n",
      "test set size iteration 54 : 5 5 5 5 5 5 5 \n",
      "randomforest iteration 54 of 30 cells\n",
      "test set size iteration 55 : 5 5 5 5 5 5 5 \n",
      "randomforest iteration 55 of 27 cells\n",
      "test set size iteration 56 : 5 5 5 5 5 5 5 \n",
      "randomforest iteration 56 of 28 cells\n",
      "test set size iteration 57 : 5 5 5 5 5 5 5 \n",
      "randomforest iteration 57 of 29 cells\n",
      "test set size iteration 58 : 5 5 5 5 5 5 5 \n",
      "randomforest iteration 58 of 27 cells\n",
      "test set size iteration 59 : 5 5 5 5 5 5 5 \n",
      "randomforest iteration 59 of 28 cells\n",
      "test set size iteration 60 : 5 5 5 5 5 5 5 \n",
      "randomforest iteration 60 of 21 cells\n",
      "test set size iteration 61 : 5 5 5 5 5 5 5 \n",
      "randomforest iteration 61 of 22 cells\n",
      "test set size iteration 62 : 5 5 5 5 5 5 5 \n",
      "randomforest iteration 62 of 14 cells\n",
      "test set size iteration 63 : 5 5 5 5 5 5 5 \n",
      "randomforest iteration 63 of 14 cells\n",
      "test set size iteration 64 : 5 5 5 5 5 5 5 \n",
      "randomforest iteration 64 of 8 cells\n",
      "test set size iteration 65 : 5 5 5 5 5 5 5 \n",
      "randomforest iteration 65 of 4 cells\n"
     ]
    }
   ],
   "source": [
    "# calculate fate bias of cell that are not within the target populations\n",
    "fb  <- fateBias(x, y, tar, z=z, minnr=5, minnrh=10, adapt=TRUE, confidence=0.75,\n",
    "                nbfactor=5, use.dist=FALSE, seed=12345, nbtree=NULL)"
   ]
  },
  {
   "cell_type": "code",
   "execution_count": 7,
   "metadata": {},
   "outputs": [
    {
     "data": {
      "text/html": [
       "<table>\n",
       "<thead><tr><th></th><th scope=col>t11</th><th scope=col>t9</th><th scope=col>t14</th><th scope=col>t6</th><th scope=col>t7</th><th scope=col>t12</th><th scope=col>t5</th></tr></thead>\n",
       "<tbody>\n",
       "\t<tr><th scope=row>X0</th><td>0.152</td><td>0.070</td><td>0.304</td><td>0.116</td><td>0.100</td><td>0.118</td><td>0.140</td></tr>\n",
       "\t<tr><th scope=row>X1</th><td>0.104</td><td>0.026</td><td>0.114</td><td>0.276</td><td>0.280</td><td>0.118</td><td>0.082</td></tr>\n",
       "\t<tr><th scope=row>X2</th><td>0.152</td><td>0.100</td><td>0.112</td><td>0.124</td><td>0.216</td><td>0.204</td><td>0.092</td></tr>\n",
       "\t<tr><th scope=row>X3</th><td>0.196</td><td>0.062</td><td>0.116</td><td>0.234</td><td>0.224</td><td>0.100</td><td>0.068</td></tr>\n",
       "\t<tr><th scope=row>X4</th><td>0.186</td><td>0.076</td><td>0.140</td><td>0.134</td><td>0.178</td><td>0.166</td><td>0.120</td></tr>\n",
       "\t<tr><th scope=row>X5</th><td>0.374</td><td>0.038</td><td>0.076</td><td>0.194</td><td>0.192</td><td>0.076</td><td>0.050</td></tr>\n",
       "</tbody>\n",
       "</table>\n"
      ],
      "text/latex": [
       "\\begin{tabular}{r|lllllll}\n",
       "  & t11 & t9 & t14 & t6 & t7 & t12 & t5\\\\\n",
       "\\hline\n",
       "\tX0 & 0.152 & 0.070 & 0.304 & 0.116 & 0.100 & 0.118 & 0.140\\\\\n",
       "\tX1 & 0.104 & 0.026 & 0.114 & 0.276 & 0.280 & 0.118 & 0.082\\\\\n",
       "\tX2 & 0.152 & 0.100 & 0.112 & 0.124 & 0.216 & 0.204 & 0.092\\\\\n",
       "\tX3 & 0.196 & 0.062 & 0.116 & 0.234 & 0.224 & 0.100 & 0.068\\\\\n",
       "\tX4 & 0.186 & 0.076 & 0.140 & 0.134 & 0.178 & 0.166 & 0.120\\\\\n",
       "\tX5 & 0.374 & 0.038 & 0.076 & 0.194 & 0.192 & 0.076 & 0.050\\\\\n",
       "\\end{tabular}\n"
      ],
      "text/markdown": [
       "\n",
       "| <!--/--> | t11 | t9 | t14 | t6 | t7 | t12 | t5 | \n",
       "|---|---|---|---|---|---|\n",
       "| X0 | 0.152 | 0.070 | 0.304 | 0.116 | 0.100 | 0.118 | 0.140 | \n",
       "| X1 | 0.104 | 0.026 | 0.114 | 0.276 | 0.280 | 0.118 | 0.082 | \n",
       "| X2 | 0.152 | 0.100 | 0.112 | 0.124 | 0.216 | 0.204 | 0.092 | \n",
       "| X3 | 0.196 | 0.062 | 0.116 | 0.234 | 0.224 | 0.100 | 0.068 | \n",
       "| X4 | 0.186 | 0.076 | 0.140 | 0.134 | 0.178 | 0.166 | 0.120 | \n",
       "| X5 | 0.374 | 0.038 | 0.076 | 0.194 | 0.192 | 0.076 | 0.050 | \n",
       "\n",
       "\n"
      ],
      "text/plain": [
       "   t11   t9    t14   t6    t7    t12   t5   \n",
       "X0 0.152 0.070 0.304 0.116 0.100 0.118 0.140\n",
       "X1 0.104 0.026 0.114 0.276 0.280 0.118 0.082\n",
       "X2 0.152 0.100 0.112 0.124 0.216 0.204 0.092\n",
       "X3 0.196 0.062 0.116 0.234 0.224 0.100 0.068\n",
       "X4 0.186 0.076 0.140 0.134 0.178 0.166 0.120\n",
       "X5 0.374 0.038 0.076 0.194 0.192 0.076 0.050"
      ]
     },
     "metadata": {},
     "output_type": "display_data"
    }
   ],
   "source": [
    "head(fb$prob)"
   ]
  },
  {
   "cell_type": "code",
   "execution_count": 8,
   "metadata": {},
   "outputs": [],
   "source": [
    "# save\n",
    "write.table(fb$prob, file = \"outputs/fateid/resulting_probs_custom_dist_2k_genes_7pop.tsv\",\n",
    "                    row.names = T, sep = \"\\t\", quote = F)"
   ]
  }
 ],
 "metadata": {
  "kernelspec": {
   "display_name": "R",
   "language": "R",
   "name": "ir"
  },
  "language_info": {
   "codemirror_mode": "r",
   "file_extension": ".r",
   "mimetype": "text/x-r-source",
   "name": "R",
   "pygments_lexer": "r",
   "version": "3.5.1"
  }
 },
 "nbformat": 4,
 "nbformat_minor": 2
}

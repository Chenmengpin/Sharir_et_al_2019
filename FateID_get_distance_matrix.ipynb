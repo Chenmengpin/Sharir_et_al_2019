{
 "cells": [
  {
   "cell_type": "markdown",
   "metadata": {},
   "source": [
    "# I repeat most steps exactly as for preparing data for spring. Here the goal is to only get the distance matrix."
   ]
  },
  {
   "cell_type": "markdown",
   "metadata": {},
   "source": [
    "# Recreate SPRING vizualisation of epithelial cells after regressing out the cell cycle\n",
    "Save graph and auxiliary files to SPRING directory for interactive exploration.  \n",
    "Allow the graph to fully relax using the browser version of force layout (empirically works best but slow).  \n",
    "Save xy coordinates in SPRING (browser version).  \n",
    "Load xy coordinates from the SPRING directory for further use within the notebook."
   ]
  },
  {
   "cell_type": "code",
   "execution_count": 1,
   "metadata": {},
   "outputs": [],
   "source": [
    "import os,sys\n",
    "import datetime"
   ]
  },
  {
   "cell_type": "markdown",
   "metadata": {},
   "source": [
    "### Import scanpy"
   ]
  },
  {
   "cell_type": "code",
   "execution_count": 2,
   "metadata": {},
   "outputs": [
    {
     "name": "stdout",
     "output_type": "stream",
     "text": [
      "scanpy==1.3.4 anndata==0.6.13 numpy==1.15.4 scipy==1.1.0 pandas==0.23.4 scikit-learn==0.20.1 statsmodels==0.9.0 python-igraph==0.7.1 louvain==0.6.1 \n",
      "Memory usage: current 0.17 GB, difference +0.17 GB\n"
     ]
    }
   ],
   "source": [
    "import scanpy.api as sc\n",
    "sc.logging.print_versions()\n",
    "sc.logging.print_memory_usage()\n",
    "sc.settings.verbosity = 2"
   ]
  },
  {
   "cell_type": "markdown",
   "metadata": {},
   "source": [
    "### Import my utility functions and import statements from github"
   ]
  },
  {
   "cell_type": "code",
   "execution_count": 3,
   "metadata": {},
   "outputs": [
    {
     "data": {
      "text/plain": [
       "'# This cell is run once to download my custom functions and import statements from github\\n\\n!git clone --depth=1 https://github.com/rapolaszilionis/utility_functions\\n    \\n# github doesn\\'t seem to have an option to download a specific version of the repo from the history.\\n# So I download my utility functions and save the download time by appending it to the directory name.\\n# These utility functions to be shared together with the notebook.\\n\\ntoappend = datetime.datetime.now().strftime(\\'%y%m%d_%Hh%M\\')\\nnewname = \"utility_functions_%s\"%toappend\\nprint(newname)\\n\\n\\n# rename the py file with utility functions\\nos.rename(\"utility_functions\",newname)'"
      ]
     },
     "execution_count": 3,
     "metadata": {},
     "output_type": "execute_result"
    }
   ],
   "source": [
    "\"\"\"# This cell is run once to download my custom functions and import statements from github\n",
    "\n",
    "!git clone --depth=1 https://github.com/rapolaszilionis/utility_functions\n",
    "    \n",
    "# github doesn't seem to have an option to download a specific version of the repo from the history.\n",
    "# So I download my utility functions and save the download time by appending it to the directory name.\n",
    "# These utility functions to be shared together with the notebook.\n",
    "\n",
    "toappend = datetime.datetime.now().strftime('%y%m%d_%Hh%M')\n",
    "newname = \"utility_functions_%s\"%toappend\n",
    "print(newname)\n",
    "\n",
    "\n",
    "# rename the py file with utility functions\n",
    "os.rename(\"utility_functions\",newname)\"\"\""
   ]
  },
  {
   "cell_type": "code",
   "execution_count": 4,
   "metadata": {},
   "outputs": [
    {
     "name": "stdout",
     "output_type": "stream",
     "text": [
      "python version: 3.6.7\n"
     ]
    }
   ],
   "source": [
    "# add the utility function folder to PATH\n",
    "sys.path.append(os.path.abspath(\"utility_functions_190425_11h32\"))\n",
    "\n",
    "from rz_import_statements import *\n",
    "import rz_functions as rz\n",
    "import rz_fig_params # this adjust mpl.rcParams, almost nothing to import\n",
    "import rz_utility_spring as srz"
   ]
  },
  {
   "cell_type": "markdown",
   "metadata": {},
   "source": [
    "## Load data and place into an annData object"
   ]
  },
  {
   "cell_type": "code",
   "execution_count": 5,
   "metadata": {},
   "outputs": [
    {
     "name": "stdout",
     "output_type": "stream",
     "text": [
      "average_gene_expression_per_population.tsv\r\n",
      "cell_info_8594x25.tsv\r\n",
      "control_barcodes.tsv\r\n",
      "control_genes.tsv\r\n",
      "control_loom.loom\r\n",
      "control_matrix.mtx\r\n",
      "gene_names_alphabetically.txt\r\n",
      "injury_barcodes.tsv\r\n",
      "injury_genes.tsv\r\n",
      "injury_loom.loom\r\n",
      "injury_matrix.mtx\r\n",
      "raw_counts_8594x27998.mtx\r\n"
     ]
    }
   ],
   "source": [
    "!ls data_from_geo"
   ]
  },
  {
   "cell_type": "code",
   "execution_count": 6,
   "metadata": {},
   "outputs": [],
   "source": [
    "obspath = 'data_from_geo/cell_info_8594x25.tsv'\n",
    "countpath = 'data_from_geo/raw_counts_8594x27998.mtx'\n",
    "genepath = 'data_from_geo/gene_names_alphabetically.txt'"
   ]
  },
  {
   "cell_type": "code",
   "execution_count": 7,
   "metadata": {},
   "outputs": [
    {
     "name": "stdout",
     "output_type": "stream",
     "text": [
      "(8594, 25)\n"
     ]
    },
    {
     "data": {
      "text/html": [
       "<div>\n",
       "<style scoped>\n",
       "    .dataframe tbody tr th:only-of-type {\n",
       "        vertical-align: middle;\n",
       "    }\n",
       "\n",
       "    .dataframe tbody tr th {\n",
       "        vertical-align: top;\n",
       "    }\n",
       "\n",
       "    .dataframe thead th {\n",
       "        text-align: right;\n",
       "    }\n",
       "</style>\n",
       "<table border=\"1\" class=\"dataframe\">\n",
       "  <thead>\n",
       "    <tr style=\"text-align: right;\">\n",
       "      <th></th>\n",
       "      <th>barcode</th>\n",
       "      <th>condition</th>\n",
       "      <th>total_counts</th>\n",
       "      <th>pass_quality_filters</th>\n",
       "      <th>inj_epithelial</th>\n",
       "      <th>ctr_epithelial</th>\n",
       "      <th>excluded_as_immune_or_mesench</th>\n",
       "      <th>class</th>\n",
       "      <th>population</th>\n",
       "      <th>phase</th>\n",
       "      <th>...</th>\n",
       "      <th>x_control</th>\n",
       "      <th>y_control</th>\n",
       "      <th>x_class3_exploded</th>\n",
       "      <th>y_class3_exploded</th>\n",
       "      <th>x_control_injured</th>\n",
       "      <th>y_control_injured</th>\n",
       "      <th>x_class1_CTR_cell_cyc_removed</th>\n",
       "      <th>y_class1_CTR_cell_cyc_removed</th>\n",
       "      <th>x_class1_INJ_cell_cyc_removed</th>\n",
       "      <th>y_class1_INJ_cell_cyc_removed</th>\n",
       "    </tr>\n",
       "  </thead>\n",
       "  <tbody>\n",
       "    <tr>\n",
       "      <th>0</th>\n",
       "      <td>AAACCTGAGTGCTGCC-1</td>\n",
       "      <td>control</td>\n",
       "      <td>2787</td>\n",
       "      <td>True</td>\n",
       "      <td>False</td>\n",
       "      <td>True</td>\n",
       "      <td>False</td>\n",
       "      <td>class3</td>\n",
       "      <td>ctr_DEEx</td>\n",
       "      <td>G1</td>\n",
       "      <td>...</td>\n",
       "      <td>783.705500</td>\n",
       "      <td>-377.074709</td>\n",
       "      <td>1082.172898</td>\n",
       "      <td>-266.303304</td>\n",
       "      <td>709.78614</td>\n",
       "      <td>-325.505019</td>\n",
       "      <td>NaN</td>\n",
       "      <td>NaN</td>\n",
       "      <td>NaN</td>\n",
       "      <td>NaN</td>\n",
       "    </tr>\n",
       "    <tr>\n",
       "      <th>1</th>\n",
       "      <td>AAACCTGAGTGGGTTG-1</td>\n",
       "      <td>control</td>\n",
       "      <td>3325</td>\n",
       "      <td>True</td>\n",
       "      <td>False</td>\n",
       "      <td>True</td>\n",
       "      <td>False</td>\n",
       "      <td>class3</td>\n",
       "      <td>ctr_upper_IEE</td>\n",
       "      <td>G1</td>\n",
       "      <td>...</td>\n",
       "      <td>709.612642</td>\n",
       "      <td>-429.409941</td>\n",
       "      <td>854.230866</td>\n",
       "      <td>-454.025809</td>\n",
       "      <td>529.15516</td>\n",
       "      <td>-471.961493</td>\n",
       "      <td>NaN</td>\n",
       "      <td>NaN</td>\n",
       "      <td>NaN</td>\n",
       "      <td>NaN</td>\n",
       "    </tr>\n",
       "    <tr>\n",
       "      <th>2</th>\n",
       "      <td>AAACCTGCAAGTCTAC-1</td>\n",
       "      <td>control</td>\n",
       "      <td>1781</td>\n",
       "      <td>False</td>\n",
       "      <td>False</td>\n",
       "      <td>False</td>\n",
       "      <td>False</td>\n",
       "      <td>NaN</td>\n",
       "      <td>NaN</td>\n",
       "      <td>NaN</td>\n",
       "      <td>...</td>\n",
       "      <td>NaN</td>\n",
       "      <td>NaN</td>\n",
       "      <td>NaN</td>\n",
       "      <td>NaN</td>\n",
       "      <td>NaN</td>\n",
       "      <td>NaN</td>\n",
       "      <td>NaN</td>\n",
       "      <td>NaN</td>\n",
       "      <td>NaN</td>\n",
       "      <td>NaN</td>\n",
       "    </tr>\n",
       "    <tr>\n",
       "      <th>3</th>\n",
       "      <td>AAACCTGCAATCTGCA-1</td>\n",
       "      <td>control</td>\n",
       "      <td>3468</td>\n",
       "      <td>True</td>\n",
       "      <td>False</td>\n",
       "      <td>False</td>\n",
       "      <td>True</td>\n",
       "      <td>NaN</td>\n",
       "      <td>NaN</td>\n",
       "      <td>NaN</td>\n",
       "      <td>...</td>\n",
       "      <td>NaN</td>\n",
       "      <td>NaN</td>\n",
       "      <td>NaN</td>\n",
       "      <td>NaN</td>\n",
       "      <td>NaN</td>\n",
       "      <td>NaN</td>\n",
       "      <td>NaN</td>\n",
       "      <td>NaN</td>\n",
       "      <td>NaN</td>\n",
       "      <td>NaN</td>\n",
       "    </tr>\n",
       "    <tr>\n",
       "      <th>4</th>\n",
       "      <td>AAACCTGCACGGTGTC-1</td>\n",
       "      <td>control</td>\n",
       "      <td>1745</td>\n",
       "      <td>False</td>\n",
       "      <td>False</td>\n",
       "      <td>False</td>\n",
       "      <td>False</td>\n",
       "      <td>NaN</td>\n",
       "      <td>NaN</td>\n",
       "      <td>NaN</td>\n",
       "      <td>...</td>\n",
       "      <td>NaN</td>\n",
       "      <td>NaN</td>\n",
       "      <td>NaN</td>\n",
       "      <td>NaN</td>\n",
       "      <td>NaN</td>\n",
       "      <td>NaN</td>\n",
       "      <td>NaN</td>\n",
       "      <td>NaN</td>\n",
       "      <td>NaN</td>\n",
       "      <td>NaN</td>\n",
       "    </tr>\n",
       "  </tbody>\n",
       "</table>\n",
       "<p>5 rows × 25 columns</p>\n",
       "</div>"
      ],
      "text/plain": [
       "              barcode condition  total_counts  pass_quality_filters  \\\n",
       "0  AAACCTGAGTGCTGCC-1   control          2787                  True   \n",
       "1  AAACCTGAGTGGGTTG-1   control          3325                  True   \n",
       "2  AAACCTGCAAGTCTAC-1   control          1781                 False   \n",
       "3  AAACCTGCAATCTGCA-1   control          3468                  True   \n",
       "4  AAACCTGCACGGTGTC-1   control          1745                 False   \n",
       "\n",
       "   inj_epithelial  ctr_epithelial  excluded_as_immune_or_mesench   class  \\\n",
       "0           False            True                          False  class3   \n",
       "1           False            True                          False  class3   \n",
       "2           False           False                          False     NaN   \n",
       "3           False           False                           True     NaN   \n",
       "4           False           False                          False     NaN   \n",
       "\n",
       "      population phase              ...                 x_control   y_control  \\\n",
       "0       ctr_DEEx    G1              ...                783.705500 -377.074709   \n",
       "1  ctr_upper_IEE    G1              ...                709.612642 -429.409941   \n",
       "2            NaN   NaN              ...                       NaN         NaN   \n",
       "3            NaN   NaN              ...                       NaN         NaN   \n",
       "4            NaN   NaN              ...                       NaN         NaN   \n",
       "\n",
       "  x_class3_exploded  y_class3_exploded x_control_injured  y_control_injured  \\\n",
       "0       1082.172898        -266.303304         709.78614        -325.505019   \n",
       "1        854.230866        -454.025809         529.15516        -471.961493   \n",
       "2               NaN                NaN               NaN                NaN   \n",
       "3               NaN                NaN               NaN                NaN   \n",
       "4               NaN                NaN               NaN                NaN   \n",
       "\n",
       "   x_class1_CTR_cell_cyc_removed  y_class1_CTR_cell_cyc_removed  \\\n",
       "0                            NaN                            NaN   \n",
       "1                            NaN                            NaN   \n",
       "2                            NaN                            NaN   \n",
       "3                            NaN                            NaN   \n",
       "4                            NaN                            NaN   \n",
       "\n",
       "   x_class1_INJ_cell_cyc_removed  y_class1_INJ_cell_cyc_removed  \n",
       "0                            NaN                            NaN  \n",
       "1                            NaN                            NaN  \n",
       "2                            NaN                            NaN  \n",
       "3                            NaN                            NaN  \n",
       "4                            NaN                            NaN  \n",
       "\n",
       "[5 rows x 25 columns]"
      ]
     },
     "execution_count": 7,
     "metadata": {},
     "output_type": "execute_result"
    }
   ],
   "source": [
    "# load cell info\n",
    "obs = pd.read_csv(obspath,sep='\\t',index_col=0)\n",
    "print(obs.shape)\n",
    "obs.head()"
   ]
  },
  {
   "cell_type": "code",
   "execution_count": 8,
   "metadata": {},
   "outputs": [
    {
     "name": "stdout",
     "output_type": "stream",
     "text": [
      "(8594, 27998)\n"
     ]
    }
   ],
   "source": [
    "# load counts\n",
    "adata = sc.read_mtx(countpath)\n",
    "print(adata.shape)\n",
    "\n",
    "# add genes (annotation of variables)\n",
    "adata.var['genes'] = np.loadtxt(genepath,dtype=str)\n",
    "\n",
    "# make sure var names are genes\n",
    "adata.var_names = adata.var['genes'].values\n",
    "\n",
    "# add obs (annotation of observations)\n",
    "adata.obs = obs\n",
    "\n",
    "# make sure index is unique AND a string\n",
    "adata.obs_names_make_unique()\n",
    "adata.obs_names = adata.obs_names.astype(str)"
   ]
  },
  {
   "cell_type": "markdown",
   "metadata": {},
   "source": [
    "## Scale (normalize) data"
   ]
  },
  {
   "cell_type": "code",
   "execution_count": 9,
   "metadata": {
    "scrolled": true
   },
   "outputs": [
    {
     "name": "stdout",
     "output_type": "stream",
     "text": [
      "[[2787.]\n",
      " [3325.]\n",
      " [1781.]\n",
      " [3468.]\n",
      " [1745.]]\n",
      "\n",
      "[[10000.   ]\n",
      " [10000.   ]\n",
      " [10000.001]\n",
      " [10000.   ]\n",
      " [ 9999.999]]\n"
     ]
    }
   ],
   "source": [
    "# turn into counts per 10k\n",
    "print(adata.X[:5,:].sum(axis=1))\n",
    "print()\n",
    "sc.pp.normalize_per_cell(adata, counts_per_cell_after=1e4)\n",
    "print(adata.X[:5,:].sum(axis=1))"
   ]
  },
  {
   "cell_type": "markdown",
   "metadata": {},
   "source": [
    "# Regress out the cell cycle using Scanpy (equivalent to implementation in Seurat).  \n",
    "inspired from here: https://nbviewer.jupyter.org/github/theislab/scanpy_usage/blob/master/180209_cell_cycle/cell_cycle.ipynb"
   ]
  },
  {
   "cell_type": "code",
   "execution_count": 10,
   "metadata": {},
   "outputs": [
    {
     "name": "stdout",
     "output_type": "stream",
     "text": [
      "filtered out 11145 genes that are detected in less than 0.5518459 counts\n"
     ]
    }
   ],
   "source": [
    "# out of all cells in adata, select only those you want to plot\n",
    "cell_mask = adata.obs['ctr_epithelial'].astype(bool).values\n",
    "\n",
    "\n",
    "# make a copy of adata only focusing on cells of interest\n",
    "cdata = adata[cell_mask,:].copy()\n",
    "\n",
    "# filter out genes with zero counts\n",
    "min_non_zero = cdata.X.data.min()\n",
    "sc.pp.filter_genes(cdata,min_counts=min_non_zero)\n",
    "\n",
    "# save a copy of data before taking the log:\n",
    "cdata.uns[\"X_lin_cptt\"] = cdata.X.copy() # for X linear counts-per-10-thousand\n",
    "\n",
    "# log transform (pseudovalue of 1)\n",
    "sc.pp.log1p(cdata)\n",
    "\n",
    "# zscore\n",
    "sc.pp.scale(cdata)\n",
    "\n",
    "# keep a copy of the data before regressing out cell cycle:\n",
    "cdata.uns[\"X_log_z\"] = cdata.X.copy() # for log transformed and zscored"
   ]
  },
  {
   "cell_type": "markdown",
   "metadata": {},
   "source": [
    "### S and G2M scores already calculated in a separate notebook"
   ]
  },
  {
   "cell_type": "code",
   "execution_count": 11,
   "metadata": {},
   "outputs": [],
   "source": [
    "# saving and load the obs dataframe somehow messes up the datatype, force the correct one\n",
    "cdata.obs[['S_score', 'G2M_score']] = cdata.obs[['S_score', 'G2M_score']].astype(float)"
   ]
  },
  {
   "cell_type": "markdown",
   "metadata": {},
   "source": [
    "## regress out cell cycle"
   ]
  },
  {
   "cell_type": "code",
   "execution_count": 12,
   "metadata": {},
   "outputs": [
    {
     "name": "stderr",
     "output_type": "stream",
     "text": [
      "... storing 'condition' as categorical\n",
      "... storing 'class' as categorical\n",
      "... storing 'population' as categorical\n",
      "... storing 'phase' as categorical\n",
      "... storing 'source_sink_for_pseudotime' as categorical\n",
      "... storing 'class2_3_like' as categorical\n"
     ]
    },
    {
     "name": "stdout",
     "output_type": "stream",
     "text": [
      "regressing out ['S_score', 'G2M_score']\n",
      "    finished (0:00:49.91)\n"
     ]
    }
   ],
   "source": [
    "sc.pp.regress_out(cdata, ['S_score', 'G2M_score'])\n",
    "\n",
    "#resclae\n",
    "sc.pp.scale(cdata)"
   ]
  },
  {
   "cell_type": "markdown",
   "metadata": {},
   "source": [
    "# Preprocess for SPRING"
   ]
  },
  {
   "cell_type": "code",
   "execution_count": 13,
   "metadata": {},
   "outputs": [],
   "source": [
    "project_dir = \"SPRING_dev-master/datasets/Sharir_et_al_2019/\""
   ]
  },
  {
   "cell_type": "code",
   "execution_count": 14,
   "metadata": {},
   "outputs": [
    {
     "data": {
      "text/plain": [
       "{'k': 5,\n",
       " 'cell_mask': array([ True,  True,  True, ...,  True,  True,  True]),\n",
       " 'min_counts': 3,\n",
       " 'min_cells': 3,\n",
       " 'base_ix': array([   0,    1,    2, ..., 2346, 2347, 2348]),\n",
       " 'num_pc': 20,\n",
       " 'plot_name': 'control_epithelial_no_cc'}"
      ]
     },
     "execution_count": 14,
     "metadata": {},
     "output_type": "execute_result"
    }
   ],
   "source": [
    "# chose a name for the spring subplot\n",
    "plot_name = 'control_epithelial_no_cc'\n",
    "\n",
    "# chose dataset for selecting abundant and variable genes\n",
    "# here I use linear counts-per-10k\n",
    "\n",
    "E = cdata.uns[\"X_lin_cptt\"]\n",
    "\n",
    "# in an attempt to be more organized I keep a log of spring parameter and intermediate data structures used in\n",
    "# the form of an unstructured annotation as part of an AnnData object.\n",
    "srz.start_spring_params(cdata,plot_name)\n",
    "\n",
    "# print the newly created dictionary, also define a variable to access it faster:\n",
    "pdict = cdata.uns['spring_params'][plot_name]\n",
    "pdict"
   ]
  },
  {
   "cell_type": "code",
   "execution_count": 15,
   "metadata": {},
   "outputs": [
    {
     "data": {
      "text/plain": [
       "{'k': 10,\n",
       " 'cell_mask': array([ True,  True, False, ..., False, False, False]),\n",
       " 'min_counts': 5,\n",
       " 'min_cells': 3,\n",
       " 'base_ix': array([   0,    1,    2, ..., 2346, 2347, 2348]),\n",
       " 'num_pc': 20,\n",
       " 'plot_name': 'control_epithelial_no_cc'}"
      ]
     },
     "execution_count": 15,
     "metadata": {},
     "output_type": "execute_result"
    }
   ],
   "source": [
    "# overwrite some of the parameters for SPRING\n",
    "pdict = cdata.uns['spring_params'][plot_name]\n",
    "pdict['cell_mask'] = cell_mask # record which cell out of all were used\n",
    "pdict['k'] = 10\n",
    "pdict['min_counts'] = 5\n",
    "pdict['min_cells'] = 3\n",
    "pdict"
   ]
  },
  {
   "cell_type": "markdown",
   "metadata": {},
   "source": [
    "### Filter genes"
   ]
  },
  {
   "cell_type": "code",
   "execution_count": 16,
   "metadata": {},
   "outputs": [
    {
     "name": "stdout",
     "output_type": "stream",
     "text": [
      "203 genes excluded based on name\n"
     ]
    }
   ],
   "source": [
    "# avoid genes starting with\n",
    "toavoid = ['mt-','Rps','Rpl','Mrpl','Mrps']\n",
    "\n",
    "# genes to exclude:\n",
    "exclude_gene_names = []\n",
    "for j in toavoid:\n",
    "    exclude_gene_names.append([i for i in adata.var['genes'] if i.startswith(j)])\n",
    "exclude_gene_names = rz.flatten_list_of_lists(exclude_gene_names)\n",
    "\n",
    "pdict['gene_names_excluded'] = exclude_gene_names\n",
    "print('%d genes excluded based on name'%len(exclude_gene_names))"
   ]
  },
  {
   "cell_type": "code",
   "execution_count": 17,
   "metadata": {},
   "outputs": [
    {
     "name": "stdout",
     "output_type": "stream",
     "text": [
      "9450 genes passing abundance filter\n"
     ]
    }
   ],
   "source": [
    "# filter on abundance:\n",
    "pdict['abundant_gene_mask'] = srz.filter_abund_genes(\n",
    "                                                     E,\n",
    "                                                     pdict['min_counts'],\n",
    "                                                     pdict['min_cells']\n",
    "                                                    )"
   ]
  },
  {
   "cell_type": "code",
   "execution_count": 18,
   "metadata": {},
   "outputs": [],
   "source": [
    "# calculate v score (Klein et al., 2015, see equation S4 and S13)\n",
    "pdict['v_score_dict'] = srz.vscores(E)"
   ]
  },
  {
   "cell_type": "code",
   "execution_count": 19,
   "metadata": {},
   "outputs": [
    {
     "name": "stdout",
     "output_type": "stream",
     "text": [
      "291 and 346 genes excluded as correlated to s and g2m scores, respectively\n"
     ]
    },
    {
     "name": "stderr",
     "output_type": "stream",
     "text": [
      "/Users/rapolaszilionis/anaconda3/lib/python3.6/site-packages/matplotlib/font_manager.py:1241: UserWarning: findfont: Font family ['Myriad Pro'] not found. Falling back to DejaVu Sans.\n",
      "  (prop.get_family(), self.defaultFamily[fontext]))\n",
      "/Users/rapolaszilionis/anaconda3/lib/python3.6/site-packages/matplotlib/font_manager.py:1241: UserWarning: findfont: Font family ['Myriad Pro'] not found. Falling back to DejaVu Sans.\n",
      "  (prop.get_family(), self.defaultFamily[fontext]))\n"
     ]
    },
    {
     "data": {
      "image/png": "[encoded data removed]",
      "text/plain": [
       "<Figure size 826.772x413.386 with 2 Axes>"
      ]
     },
     "metadata": {
      "needs_background": "light"
     },
     "output_type": "display_data"
    }
   ],
   "source": [
    "# if regressing out cell cycle, also remove genes correlated to cell cycle scores\n",
    "# those scores there calculated on log transformed counts-per-10k+1 data\n",
    "# use the same to calculate correlation\n",
    "data = cdata.uns[\"X_log_z\"]\n",
    "\n",
    "# get correlation to s and g2m scores:\n",
    "score = cdata.obs['S_score'].values\n",
    "cdata.var['corr_to_s_score'] = rz.pearsonr(score,data.T).flatten()\n",
    "\n",
    "score = cdata.obs['G2M_score'].values\n",
    "cdata.var['corr_to_g2m_score'] = rz.pearsonr(score,data.T).flatten()\n",
    "\n",
    "# exclude genes with positive correlation to cell cycle score above a chosen threshold:\n",
    "ts = 0.2\n",
    "pdict['corr_to_cell_cyc_threshold'] = ts\n",
    "\n",
    "# get names of gene too correlated to cell cycle\n",
    "pdict['genes_corr_to_s_score'] = cdata.var_names[cdata.var['corr_to_s_score']>ts]\n",
    "pdict['genes_corr_to_g2m_score'] = cdata.var_names[cdata.var['corr_to_g2m_score']>ts]\n",
    "print('%d and %d genes excluded as correlated to s and g2m scores, respectively'%(\n",
    "                                                        len(pdict['genes_corr_to_s_score']),\n",
    "                                                        len(pdict['genes_corr_to_g2m_score'])))\n",
    "\n",
    "# plot a a histogram of pearson r values:\n",
    "fig,gs = rz.startfig(14,7,columns=2,return_first_ax=False)\n",
    "\n",
    "for nr,lab in enumerate(['corr_to_s_score','corr_to_g2m_score']):\n",
    "    a = fig.add_subplot(gs[0,nr])\n",
    "    a.hist(cdata.var[lab],lw=0,bins=25,color='0.5')\n",
    "    a.set_title(lab);\n",
    "    a.set_yscale('log')\n",
    "    a.set_xlim(-1,1)\n",
    "    a.plot((ts,ts),(0,a.get_ylim()[1]))\n",
    "gs.tight_layout(fig)"
   ]
  },
  {
   "cell_type": "code",
   "execution_count": 20,
   "metadata": {},
   "outputs": [
    {
     "name": "stdout",
     "output_type": "stream",
     "text": [
      "8243\n",
      "8043\n",
      "8813 surviving genes so far\n"
     ]
    }
   ],
   "source": [
    "# combine gene filters so far:\n",
    "undesired = list(pdict['gene_names_excluded'])+\\\n",
    "            list(pdict['genes_corr_to_s_score'])+\\\n",
    "            list(pdict['genes_corr_to_g2m_score'])+\\\n",
    "            list(cdata.var_names[~pdict['abundant_gene_mask']])\n",
    "\n",
    "print(len(undesired))\n",
    "undesired = list(set(undesired))\n",
    "print(len(undesired))\n",
    "\n",
    "# boolean mask\n",
    "combmask = ~np.in1d(cdata.var_names,undesired)\n",
    "print(combmask.sum(),'surviving genes so far')"
   ]
  },
  {
   "cell_type": "code",
   "execution_count": 21,
   "metadata": {},
   "outputs": [
    {
     "data": {
      "image/png": "[encoded data removed]",
      "text/plain": [
       "<Figure size 450x450 with 1 Axes>"
      ]
     },
     "metadata": {
      "needs_background": "light"
     },
     "output_type": "display_data"
    }
   ],
   "source": [
    "# out of the surviving genes, select a fix number of most variable ones:\n",
    "nrvar = 2000\n",
    "pdict['nr_var_genes'] = nrvar\n",
    "\n",
    "# place v score and gene names into a temporary pd.Series for convenience:\n",
    "v = pd.Series(pdict['v_score_dict']['v_scores'],index=cdata.var_names)\n",
    "\n",
    "# apply filter so far:\n",
    "v = v[combmask]\n",
    "\n",
    "# get the names of the most variable genes:\n",
    "pdict['genes_used'] = v.sort_values(ascending=False)[:nrvar].index\n",
    "\n",
    "\n",
    "# plot a v score vs mean plot with genes used further colored in red\n",
    "ff = pdict['v_score_dict']['ff_gene']\n",
    "mu = pdict['v_score_dict']['mu_gene']\n",
    "finalmask = np.in1d(cdata.var_names,pdict['genes_used'])\n",
    "\n",
    "\n",
    "\n",
    "# check scatter\n",
    "s = 2\n",
    "plt.figure(figsize=(3,3))\n",
    "plt.scatter(mu,ff,lw=0,color='0.5',alpha=0.1,s=s)\n",
    "plt.scatter(mu[finalmask],ff[finalmask],lw=0,color='r',alpha=0.1,s=s)\n",
    "plt.xscale('log');\n",
    "plt.yscale('log');\n",
    "plt.xlim(0.0001,1000)\n",
    "plt.ylim(1,10000)\n",
    "plt.xlabel('Mean counts')\n",
    "plt.ylabel('Fano factor');"
   ]
  },
  {
   "cell_type": "markdown",
   "metadata": {},
   "source": [
    "### Prepare data for PCA"
   ]
  },
  {
   "cell_type": "code",
   "execution_count": 22,
   "metadata": {},
   "outputs": [
    {
     "name": "stdout",
     "output_type": "stream",
     "text": [
      "calculating the first 50 observed eigenvalues...\n",
      "calculating the random eigenvalues for 10 rounds of shuffling...\n",
      "1 \t 28 \t 0.02 min.\n",
      "2 \t 28 \t 0.04 min.\n",
      "3 \t 27 \t 0.06 min.\n",
      "4 \t 26 \t 0.08 min.\n",
      "5 \t 26 \t 0.10 min.\n",
      "6 \t 29 \t 0.11 min.\n",
      "7 \t 28 \t 0.13 min.\n",
      "8 \t 28 \t 0.15 min.\n",
      "9 \t 27 \t 0.17 min.\n",
      "10 \t 31 \t 0.19 min.\n",
      "26\n",
      "26\n"
     ]
    }
   ],
   "source": [
    "# use zscore after regressin out cell cycle\n",
    "Z = cdata[:,pdict['genes_used']].X.copy()\n",
    "\n",
    "# find the number of non-random PCs\n",
    "d = srz.find_num_pc(Z,start_pc=50,sparse=False)\n",
    "\n",
    "# record results to log:\n",
    "pdict['num_pc'] = d['num_pc']\n",
    "pdict['eigenvectors'] = d['pca'].components_\n",
    "pdict['eigenvalues'] = d['pca'].explained_variance_\n",
    "\n",
    "\n",
    "print(d['num_pc'])\n",
    "\n",
    "# In this notebook, I am recreating a previous analysis. There, the number of PCs was 26\n",
    "# Permutations are random (I didn't see a specific seed), so this number could be different this time. Force\n",
    "# 26\n",
    "\n",
    "d['num_pc'] = 26\n",
    "print(d['num_pc'])"
   ]
  },
  {
   "cell_type": "code",
   "execution_count": 23,
   "metadata": {},
   "outputs": [
    {
     "name": "stdout",
     "output_type": "stream",
     "text": [
      "(2349, 26)\n"
     ]
    }
   ],
   "source": [
    "# apply dimensionality reduction on Z (get principle components)\n",
    "# note, that eigenvalues are calculated base_ix only\n",
    "# make sure to provide a dense matrix Z\n",
    "\n",
    "P = pdict['eigenvectors'][:pdict['num_pc'],:].dot(Z.T).T\n",
    "print(P.shape)"
   ]
  },
  {
   "cell_type": "code",
   "execution_count": 27,
   "metadata": {},
   "outputs": [
    {
     "name": "stdout",
     "output_type": "stream",
     "text": [
      "(2757726,)\n",
      "(2349, 2349)\n"
     ]
    }
   ],
   "source": [
    "# Get distance matrix\n",
    "D = scipy.spatial.distance.pdist(P, metric='euclidean')\n",
    "print(D.shape)\n",
    "D = scipy.spatial.distance.squareform(D)\n",
    "print(D.shape)"
   ]
  },
  {
   "cell_type": "code",
   "execution_count": 31,
   "metadata": {},
   "outputs": [
    {
     "data": {
      "text/html": [
       "<div>\n",
       "<style scoped>\n",
       "    .dataframe tbody tr th:only-of-type {\n",
       "        vertical-align: middle;\n",
       "    }\n",
       "\n",
       "    .dataframe tbody tr th {\n",
       "        vertical-align: top;\n",
       "    }\n",
       "\n",
       "    .dataframe thead th {\n",
       "        text-align: right;\n",
       "    }\n",
       "</style>\n",
       "<table border=\"1\" class=\"dataframe\">\n",
       "  <thead>\n",
       "    <tr style=\"text-align: right;\">\n",
       "      <th></th>\n",
       "      <th>0</th>\n",
       "      <th>1</th>\n",
       "      <th>2</th>\n",
       "      <th>3</th>\n",
       "      <th>4</th>\n",
       "      <th>5</th>\n",
       "      <th>6</th>\n",
       "      <th>7</th>\n",
       "      <th>8</th>\n",
       "      <th>9</th>\n",
       "      <th>...</th>\n",
       "      <th>2339</th>\n",
       "      <th>2340</th>\n",
       "      <th>2341</th>\n",
       "      <th>2342</th>\n",
       "      <th>2343</th>\n",
       "      <th>2344</th>\n",
       "      <th>2345</th>\n",
       "      <th>2346</th>\n",
       "      <th>2347</th>\n",
       "      <th>2348</th>\n",
       "    </tr>\n",
       "  </thead>\n",
       "  <tbody>\n",
       "    <tr>\n",
       "      <th>0</th>\n",
       "      <td>0.000000</td>\n",
       "      <td>19.536278</td>\n",
       "      <td>14.437163</td>\n",
       "      <td>17.514926</td>\n",
       "      <td>17.129824</td>\n",
       "      <td>19.109681</td>\n",
       "      <td>15.678866</td>\n",
       "      <td>30.029285</td>\n",
       "      <td>26.835395</td>\n",
       "      <td>23.216986</td>\n",
       "      <td>...</td>\n",
       "      <td>12.226913</td>\n",
       "      <td>12.487727</td>\n",
       "      <td>16.703503</td>\n",
       "      <td>23.234938</td>\n",
       "      <td>14.914133</td>\n",
       "      <td>10.514656</td>\n",
       "      <td>16.958821</td>\n",
       "      <td>25.438098</td>\n",
       "      <td>17.258176</td>\n",
       "      <td>13.052017</td>\n",
       "    </tr>\n",
       "    <tr>\n",
       "      <th>1</th>\n",
       "      <td>19.536278</td>\n",
       "      <td>0.000000</td>\n",
       "      <td>12.083312</td>\n",
       "      <td>12.574966</td>\n",
       "      <td>9.468279</td>\n",
       "      <td>18.650221</td>\n",
       "      <td>13.125847</td>\n",
       "      <td>32.681348</td>\n",
       "      <td>24.111456</td>\n",
       "      <td>20.309367</td>\n",
       "      <td>...</td>\n",
       "      <td>20.294598</td>\n",
       "      <td>16.360143</td>\n",
       "      <td>17.728614</td>\n",
       "      <td>22.926194</td>\n",
       "      <td>13.872389</td>\n",
       "      <td>21.953933</td>\n",
       "      <td>11.485009</td>\n",
       "      <td>24.305016</td>\n",
       "      <td>14.795166</td>\n",
       "      <td>16.784530</td>\n",
       "    </tr>\n",
       "    <tr>\n",
       "      <th>2</th>\n",
       "      <td>14.437163</td>\n",
       "      <td>12.083312</td>\n",
       "      <td>0.000000</td>\n",
       "      <td>14.177287</td>\n",
       "      <td>8.808960</td>\n",
       "      <td>14.681568</td>\n",
       "      <td>10.616764</td>\n",
       "      <td>30.881809</td>\n",
       "      <td>21.610034</td>\n",
       "      <td>18.692588</td>\n",
       "      <td>...</td>\n",
       "      <td>15.555817</td>\n",
       "      <td>11.455744</td>\n",
       "      <td>14.883876</td>\n",
       "      <td>20.669987</td>\n",
       "      <td>10.636019</td>\n",
       "      <td>17.894232</td>\n",
       "      <td>8.892020</td>\n",
       "      <td>20.441001</td>\n",
       "      <td>8.710723</td>\n",
       "      <td>11.865352</td>\n",
       "    </tr>\n",
       "    <tr>\n",
       "      <th>3</th>\n",
       "      <td>17.514926</td>\n",
       "      <td>12.574966</td>\n",
       "      <td>14.177287</td>\n",
       "      <td>0.000000</td>\n",
       "      <td>13.516198</td>\n",
       "      <td>14.781156</td>\n",
       "      <td>11.425380</td>\n",
       "      <td>31.925382</td>\n",
       "      <td>22.697547</td>\n",
       "      <td>17.220905</td>\n",
       "      <td>...</td>\n",
       "      <td>17.612123</td>\n",
       "      <td>14.669201</td>\n",
       "      <td>14.144104</td>\n",
       "      <td>18.544578</td>\n",
       "      <td>12.576422</td>\n",
       "      <td>19.064505</td>\n",
       "      <td>11.450073</td>\n",
       "      <td>22.320324</td>\n",
       "      <td>16.982735</td>\n",
       "      <td>13.077017</td>\n",
       "    </tr>\n",
       "    <tr>\n",
       "      <th>4</th>\n",
       "      <td>17.129824</td>\n",
       "      <td>9.468279</td>\n",
       "      <td>8.808960</td>\n",
       "      <td>13.516198</td>\n",
       "      <td>0.000000</td>\n",
       "      <td>17.855826</td>\n",
       "      <td>13.510593</td>\n",
       "      <td>33.156441</td>\n",
       "      <td>22.546363</td>\n",
       "      <td>20.099436</td>\n",
       "      <td>...</td>\n",
       "      <td>18.529662</td>\n",
       "      <td>14.644331</td>\n",
       "      <td>16.695261</td>\n",
       "      <td>21.975865</td>\n",
       "      <td>13.862488</td>\n",
       "      <td>19.246447</td>\n",
       "      <td>11.598577</td>\n",
       "      <td>22.782857</td>\n",
       "      <td>12.149621</td>\n",
       "      <td>14.027275</td>\n",
       "    </tr>\n",
       "  </tbody>\n",
       "</table>\n",
       "<p>5 rows × 2349 columns</p>\n",
       "</div>"
      ],
      "text/plain": [
       "        0          1          2          3          4          5     \\\n",
       "0   0.000000  19.536278  14.437163  17.514926  17.129824  19.109681   \n",
       "1  19.536278   0.000000  12.083312  12.574966   9.468279  18.650221   \n",
       "2  14.437163  12.083312   0.000000  14.177287   8.808960  14.681568   \n",
       "3  17.514926  12.574966  14.177287   0.000000  13.516198  14.781156   \n",
       "4  17.129824   9.468279   8.808960  13.516198   0.000000  17.855826   \n",
       "\n",
       "        6          7          8          9       ...           2339  \\\n",
       "0  15.678866  30.029285  26.835395  23.216986    ...      12.226913   \n",
       "1  13.125847  32.681348  24.111456  20.309367    ...      20.294598   \n",
       "2  10.616764  30.881809  21.610034  18.692588    ...      15.555817   \n",
       "3  11.425380  31.925382  22.697547  17.220905    ...      17.612123   \n",
       "4  13.510593  33.156441  22.546363  20.099436    ...      18.529662   \n",
       "\n",
       "        2340       2341       2342       2343       2344       2345  \\\n",
       "0  12.487727  16.703503  23.234938  14.914133  10.514656  16.958821   \n",
       "1  16.360143  17.728614  22.926194  13.872389  21.953933  11.485009   \n",
       "2  11.455744  14.883876  20.669987  10.636019  17.894232   8.892020   \n",
       "3  14.669201  14.144104  18.544578  12.576422  19.064505  11.450073   \n",
       "4  14.644331  16.695261  21.975865  13.862488  19.246447  11.598577   \n",
       "\n",
       "        2346       2347       2348  \n",
       "0  25.438098  17.258176  13.052017  \n",
       "1  24.305016  14.795166  16.784530  \n",
       "2  20.441001   8.710723  11.865352  \n",
       "3  22.320324  16.982735  13.077017  \n",
       "4  22.782857  12.149621  14.027275  \n",
       "\n",
       "[5 rows x 2349 columns]"
      ]
     },
     "execution_count": 31,
     "metadata": {},
     "output_type": "execute_result"
    }
   ],
   "source": [
    "D.head()"
   ]
  },
  {
   "cell_type": "code",
   "execution_count": 32,
   "metadata": {},
   "outputs": [],
   "source": [
    "# save as tsv\n",
    "D = pd.DataFrame(D)\n",
    "D.to_csv('outputs/fateid/distance_matrix.tsv',sep='\\t',index=True)"
   ]
  },
  {
   "cell_type": "code",
   "execution_count": 34,
   "metadata": {},
   "outputs": [],
   "source": [
    "!open outputs/fateid"
   ]
  },
  {
   "cell_type": "code",
   "execution_count": 33,
   "metadata": {},
   "outputs": [
    {
     "name": "stdout",
     "output_type": "stream",
     "text": [
      "\t0\t1\t2\t3\t4\t5\t6\t7\t8\t9\t10\t11\t12\t13\t14\t15\t16\t17\t18\t19\t20\t21\t22\t23\t24\t25\t26\t27\t28\t29\t30\t31\t32\t33\t34\t35\t36\t37\t38\t39\t40\t41\t42\t43\t44\t45\t46\t47\t48\t49\t50\t51\t52\t53\t54\t55\t56\t57\t58\t59\t60\t61\t62\t63\t64\t65\t66\t67\t68\t69\t70\t71\t72\t73\t74\t75\t76\t77\t78\t79\t80\t81\t82\t83\t84\t85\t86\t87\t88\t89\t90\t91\t92\t93\t94\t95\t96\t97\t98\t99\t100\t101\t102\t103\t104\t105\t106\t107\t108\t109\t110\t111\t112\t113\t114\t115\t116\t117\t118\t119\t120\t121\t122\t123\t124\t125\t126\t127\t128\t129\t130\t131\t132\t133\t134\t135\t136\t137\t138\t139\t140\t141\t142\t143\t144\t145\t146\t147\t148\t149\t150\t151\t152\t153\t154\t155\t156\t157\t158\t159\t160\t161\t162\t163\t164\t165\t166\t167\t168\t169\t170\t171\t172\t173\t174\t175\t176\t177\t178\t179\t180\t181\t182\t183\t184\t185\t186\t187\t188\t189\t190\t191\t192\t193\t194\t195\t196\t197\t198\t199\t200\t201\t202\t203\t204\t205\t206\t207\t208\t209\t210\t211\t212\t213\t214\t215\t216\t217\t218\t219\t220\t221\t222\t223\t224\t225\t226\t227\t228\t229\t230\t231\t232\t233\t234\t235\t236\t237\t238\t239\t240\t241\t242\t243\t244\t245\t246\t247\t248\t249\t250\t251\t252\t253\t254\t255\t256\t257\t258\t259\t260\t261\t262\t263\t264\t265\t266\t267\t268\t269\t270\t271\t272\t273\t274\t275\t276\t277\t278\t279\t280\t281\t282\t283\t284\t285\t286\t287\t288\t289\t290\t291\t292\t293\t294\t295\t296\t297\t298\t299\t300\t301\t302\t303\t304\t305\t306\t307\t308\t309\t310\t311\t312\t313\t314\t315\t316\t317\t318\t319\t320\t321\t322\t323\t324\t325\t326\t327\t328\t329\t330\t331\t332\t333\t334\t335\t336\t337\t338\t339\t340\t341\t342\t343\t344\t345\t346\t347\t348\t349\t350\t351\t352\t353\t354\t355\t356\t357\t358\t359\t360\t361\t362\t363\t364\t365\t366\t367\t368\t369\t370\t371\t372\t373\t374\t375\t376\t377\t378\t379\t380\t381\t382\t383\t384\t385\t386\t387\t388\t389\t390\t391\t392\t393\t394\t395\t396\t397\t398\t399\t400\t401\t402\t403\t404\t405\t406\t407\t408\t409\t410\t411\t412\t413\t414\t415\t416\t417\t418\t419\t420\t421\t422\t423\t424\t425\t426\t427\t428\t429\t430\t431\t432\t433\t434\t435\t436\t437\t438\t439\t440\t441\t442\t443\t444\t445\t446\t447\t448\t449\t450\t451\t452\t453\t454\t455\t456\t457\t458\t459\t460\t461\t462\t463\t464\t465\t466\t467\t468\t469\t470\t471\t472\t473\t474\t475\t476\t477\t478\t479\t480\t481\t482\t483\t484\t485\t486\t487\t488\t489\t490\t491\t492\t493\t494\t495\t496\t497\t498\t499\t500\t501\t502\t503\t504\t505\t506\t507\t508\t509\t510\t511\t512\t513\t514\t515\t516\t517\t518\t519\t520\t521\t522\t523\t524\t525\t526\t527\t528\t529\t530\t531\t532\t533\t534\t535\t536\t537\t538\t539\t540\t541\t542\t543\t544\t545\t546\t547\t548\t549\t550\t551\t552\t553\t554\t555\t556\t557\t558\t559\t560\t561\t562\t563\t564\t565\t566\t567\t568\t569\t570\t571\t572\t573\t574\t575\t576\t577\t578\t579\t580\t581\t582\t583\t584\t585\t586\t587\t588\t589\t590\t591\t592\t593\t594\t595\t596\t597\t598\t599\t600\t601\t602\t603\t604\t605\t606\t607\t608\t609\t610\t611\t612\t613\t614\t615\t616\t617\t618\t619\t620\t621\t622\t623\t624\t625\t626\t627\t628\t629\t630\t631\t632\t633\t634\t635\t636\t637\t638\t639\t640\t641\t642\t643\t644\t645\t646\t647\t648\t649\t650\t651\t652\t653\t654\t655\t656\t657\t658\t659\t660\t661\t662\t663\t664\t665\t666\t667\t668\t669\t670\t671\t672\t673\t674\t675\t676\t677\t678\t679\t680\t681\t682\t683\t684\t685\t686\t687\t688\t689\t690\t691\t692\t693\t694\t695\t696\t697\t698\t699\t700\t701\t702\t703\t704\t705\t706\t707\t708\t709\t710\t711\t712\t713\t714\t715\t716\t717\t718\t719\t720\t721\t722\t723\t724\t725\t726\t727\t728\t729\t730\t731\t732\t733\t734\t735\t736\t737\t738\t739\t740\t741\t742\t743\t744\t745\t746\t747\t748\t749\t750\t751\t752\t753\t754\t755\t756\t757\t758\t759\t760\t761\t762\t763\t764\t765\t766\t767\t768\t769\t770\t771\t772\t773\t774\t775\t776\t777\t778\t779\t780\t781\t782\t783\t784\t785\t786\t787\t788\t789\t790\t791\t792\t793\t794\t795\t796\t797\t798\t799\t800\t801\t802\t803\t804\t805\t806\t807\t808\t809\t810\t811\t812\t813\t814\t815\t816\t817\t818\t819\t820\t821\t822\t823\t824\t825\t826\t827\t828\t829\t830\t831\t832\t833\t834\t835\t836\t837\t838\t839\t840\t841\t842\t843\t844\t845\t846\t847\t848\t849\t850\t851\t852\t853\t854\t855\t856\t857\t858\t859\t860\t861\t862\t863\t864\t865\t866\t867\t868\t869\t870\t871\t872\t873\t874\t875\t876\t877\t878\t879\t880\t881\t882\t883\t884\t885\t886\t887\t888\t889\t890\t891\t892\t893\t894\t895\t896\t897\t898\t899\t900\t901\t902\t903\t904\t905\t906\t907\t908\t909\t910\t911\t912\t913\t914\t915\t916\t917\t918\t919\t920\t921\t922\t923\t924\t925\t926\t927\t928\t929\t930\t931\t932\t933\t934\t935\t936\t937\t938\t939\t940\t941\t942\t943\t944\t945\t946\t947\t948\t949\t950\t951\t952\t953\t954\t955\t956\t957\t958\t959\t960\t961\t962\t963\t964\t965\t966\t967\t968\t969\t970\t971\t972\t973\t974\t975\t976\t977\t978\t979\t980\t981\t982\t983\t984\t985\t986\t987\t988\t989\t990\t991\t992\t993\t994\t995\t996\t997\t998\t999\t1000\t1001\t1002\t1003\t1004\t1005\t1006\t1007\t1008\t1009\t1010\t1011\t1012\t1013\t1014\t1015\t1016\t1017\t1018\t1019\t1020\t1021\t1022\t1023\t1024\t1025\t1026\t1027\t1028\t1029\t1030\t1031\t1032\t1033\t1034\t1035\t1036\t1037\t1038\t1039\t1040\t1041\t1042\t1043\t1044\t1045\t1046\t1047\t1048\t1049\t1050\t1051\t1052\t1053\t1054\t1055\t1056\t1057\t1058\t1059\t1060\t1061\t1062\t1063\t1064\t1065\t1066\t1067\t1068\t1069\t1070\t1071\t1072\t1073\t1074\t1075\t1076\t1077\t1078\t1079\t1080\t1081\t1082\t1083\t1084\t1085\t1086\t1087\t1088\t1089\t1090\t1091\t1092\t1093\t1094\t1095\t1096\t1097\t1098\t1099\t1100\t1101\t1102\t1103\t1104\t1105\t1106\t1107\t1108\t1109\t1110\t1111\t1112\t1113\t1114\t1115\t1116\t1117\t1118\t1119\t1120\t1121\t1122\t1123\t1124\t1125\t1126\t1127\t1128\t1129\t1130\t1131\t1132\t1133\t1134\t1135\t1136\t1137\t1138\t1139\t1140\t1141\t1142\t1143\t1144\t1145\t1146\t1147\t1148\t1149\t1150\t1151\t1152\t1153\t1154\t1155\t1156\t1157\t1158\t1159\t1160\t1161\t1162\t1163\t1164\t1165\t1166\t1167\t1168\t1169\t1170\t1171\t1172\t1173\t1174\t1175\t1176\t1177\t1178\t1179\t1180\t1181\t1182\t1183\t1184\t1185\t1186\t1187\t1188\t1189\t1190\t1191\t1192\t1193\t1194\t1195\t1196\t1197\t1198\t1199\t1200\t1201\t1202\t1203\t1204\t1205\t1206\t1207\t1208\t1209\t1210\t1211\t1212\t1213\t1214\t1215\t1216\t1217\t1218\t1219\t1220\t1221\t1222\t1223\t1224\t1225\t1226\t1227\t1228\t1229\t1230\t1231\t1232\t1233\t1234\t1235\t1236\t1237\t1238\t1239\t1240\t1241\t1242\t1243\t1244\t1245\t1246\t1247\t1248\t1249\t1250\t1251\t1252\t1253\t1254\t1255\t1256\t1257\t1258\t1259\t1260\t1261\t1262\t1263\t1264\t1265\t1266\t1267\t1268\t1269\t1270\t1271\t1272\t1273\t1274\t1275\t1276\t1277\t1278\t1279\t1280\t1281\t1282\t1283\t1284\t1285\t1286\t1287\t1288\t1289\t1290\t1291\t1292\t1293\t1294\t1295\t1296\t1297\t1298\t1299\t1300\t1301\t1302\t1303\t1304\t1305\t1306\t1307\t1308\t1309\t1310\t1311\t1312\t1313\t1314\t1315\t1316\t1317\t1318\t1319\t1320\t1321\t1322\t1323\t1324\t1325\t1326\t1327\t1328\t1329\t1330\t1331\t1332\t1333\t1334\t1335\t1336\t1337\t1338\t1339\t1340\t1341\t1342\t1343\t1344\t1345\t1346\t1347\t1348\t1349\t1350\t1351\t1352\t1353\t1354\t1355\t1356\t1357\t1358\t1359\t1360\t1361\t1362\t1363\t1364\t1365\t1366\t1367\t1368\t1369\t1370\t1371\t1372\t1373\t1374\t1375\t1376\t1377\t1378\t1379\t1380\t1381\t1382\t1383\t1384\t1385\t1386\t1387\t1388\t1389\t1390\t1391\t1392\t1393\t1394\t1395\t1396\t1397\t1398\t1399\t1400\t1401\t1402\t1403\t1404\t1405\t1406\t1407\t1408\t1409\t1410\t1411\t1412\t1413\t1414\t1415\t1416\t1417\t1418\t1419\t1420\t1421\t1422\t1423\t1424\t1425\t1426\t1427\t1428\t1429\t1430\t1431\t1432\t1433\t1434\t1435\t1436\t1437\t1438\t1439\t1440\t1441\t1442\t1443\t1444\t1445\t1446\t1447\t1448\t1449\t1450\t1451\t1452\t1453\t1454\t1455\t1456\t1457\t1458\t1459\t1460\t1461\t1462\t1463\t1464\t1465\t1466\t1467\t1468\t1469\t1470\t1471\t1472\t1473\t1474\t1475\t1476\t1477\t1478\t1479\t1480\t1481\t1482\t1483\t1484\t1485\t1486\t1487\t1488\t1489\t1490\t1491\t1492\t1493\t1494\t1495\t1496\t1497\t1498\t1499\t1500\t1501\t1502\t1503\t1504\t1505\t1506\t1507\t1508\t1509\t1510\t1511\t1512\t1513\t1514\t1515\t1516\t1517\t1518\t1519\t1520\t1521\t1522\t1523\t1524\t1525\t1526\t1527\t1528\t1529\t1530\t1531\t1532\t1533\t1534\t1535\t1536\t1537\t1538\t1539\t1540\t1541\t1542\t1543\t1544\t1545\t1546\t1547\t1548\t1549\t1550\t1551\t1552\t1553\t1554\t1555\t1556\t1557\t1558\t1559\t1560\t1561\t1562\t1563\t1564\t1565\t1566\t1567\t1568\t1569\t1570\t1571\t1572\t1573\t1574\t1575\t1576\t1577\t1578\t1579\t1580\t1581\t1582\t1583\t1584\t1585\t1586\t1587\t1588\t1589\t1590\t1591\t1592\t1593\t1594\t1595\t1596\t1597\t1598\t1599\t1600\t1601\t1602\t1603\t1604\t1605\t1606\t1607\t1608\t1609\t1610\t1611\t1612\t1613\t1614\t1615\t1616\t1617\t1618\t1619\t1620\t1621\t1622\t1623\t1624\t1625\t1626\t1627\t1628\t1629\t1630\t1631\t1632\t1633\t1634\t1635\t1636\t1637\t1638\t1639\t1640\t1641\t1642\t1643\t1644\t1645\t1646\t1647\t1648\t1649\t1650\t1651\t1652\t1653\t1654\t1655\t1656\t1657\t1658\t1659\t1660\t1661\t1662\t1663\t1664\t1665\t1666\t1667\t1668\t1669\t1670\t1671\t1672\t1673\t1674\t1675\t1676\t1677\t1678\t1679\t1680\t1681\t1682\t1683\t1684\t1685\t1686\t1687\t1688\t1689\t1690\t1691\t1692\t1693\t1694\t1695\t1696\t1697\t1698\t1699\t1700\t1701\t1702\t1703\t1704\t1705\t1706\t1707\t1708\t1709\t1710\t1711\t1712\t1713\t1714\t1715\t1716\t1717\t1718\t1719\t1720\t1721\t1722\t1723\t1724\t1725\t1726\t1727\t1728\t1729\t1730\t1731\t1732\t1733\t1734\t1735\t1736\t1737\t1738\t1739\t1740\t1741\t1742\t1743\t1744\t1745\t1746\t1747\t1748\t1749\t1750\t1751\t1752\t1753\t1754\t1755\t1756\t1757\t1758\t1759\t1760\t1761\t1762\t1763\t1764\t1765\t1766\t1767\t1768\t1769\t1770\t1771\t1772\t1773\t1774\t1775\t1776\t1777\t1778\t1779\t1780\t1781\t1782\t1783\t1784\t1785\t1786\t1787\t1788\t1789\t1790\t1791\t1792\t1793\t1794\t1795\t1796\t1797\t1798\t1799\t1800\t1801\t1802\t1803\t1804\t1805\t1806\t1807\t1808\t1809\t1810\t1811\t1812\t1813\t1814\t1815\t1816\t1817\t1818\t1819\t1820\t1821\t1822\t1823\t1824\t1825\t1826\t1827\t1828\t1829\t1830\t1831\t1832\t1833\t1834\t1835\t1836\t1837\t1838\t1839\t1840\t1841\t1842\t1843\t1844\t1845\t1846\t1847\t1848\t1849\t1850\t1851\t1852\t1853\t1854\t1855\t1856\t1857\t1858\t1859\t1860\t1861\t1862\t1863\t1864\t1865\t1866\t1867\t1868\t1869\t1870\t1871\t1872\t1873\t1874\t1875\t1876\t1877\t1878\t1879\t1880\t1881\t1882\t1883\t1884\t1885\t1886\t1887\t1888\t1889\t1890\t1891\t1892\t1893\t1894\t1895\t1896\t1897\t1898\t1899\t1900\t1901\t1902\t1903\t1904\t1905\t1906\t1907\t1908\t1909\t1910\t1911\t1912\t1913\t1914\t1915\t1916\t1917\t1918\t1919\t1920\t1921\t1922\t1923\t1924\t1925\t1926\t1927\t1928\t1929\t1930\t1931\t1932\t1933\t1934\t1935\t1936\t1937\t1938\t1939\t1940\t1941\t1942\t1943\t1944\t1945\t1946\t1947\t1948\t1949\t1950\t1951\t1952\t1953\t1954\t1955\t1956\t1957\t1958\t1959\t1960\t1961\t1962\t1963\t1964\t1965\t1966\t1967\t1968\t1969\t1970\t1971\t1972\t1973\t1974\t1975\t1976\t1977\t1978\t1979\t1980\t1981\t1982\t1983\t1984\t1985\t1986\t1987\t1988\t1989\t1990\t1991\t1992\t1993\t1994\t1995\t1996\t1997\t1998\t1999\t2000\t2001\t2002\t2003\t2004\t2005\t2006\t2007\t2008\t2009\t2010\t2011\t2012\t2013\t2014\t2015\t2016\t2017\t2018\t2019\t2020\t2021\t2022\t2023\t2024\t2025\t2026\t2027\t2028\t2029\t2030\t2031\t2032\t2033\t2034\t2035\t2036\t2037\t2038\t2039\t2040\t2041\t2042\t2043\t2044\t2045\t2046\t2047\t2048\t2049\t2050\t2051\t2052\t2053\t2054\t2055\t2056\t2057\t2058\t2059\t2060\t2061\t2062\t2063\t2064\t2065\t2066\t2067\t2068\t2069\t2070\t2071\t2072\t2073\t2074\t2075\t2076\t2077\t2078\t2079\t2080\t2081\t2082\t2083\t2084\t2085\t2086\t2087\t2088\t2089\t2090\t2091\t2092\t2093\t2094\t2095\t2096\t2097\t2098\t2099\t2100\t2101\t2102\t2103\t2104\t2105\t2106\t2107\t2108\t2109\t2110\t2111\t2112\t2113\t2114\t2115\t2116\t2117\t2118\t2119\t2120\t2121\t2122\t2123\t2124\t2125\t2126\t2127\t2128\t2129\t2130\t2131\t2132\t2133\t2134\t2135\t2136\t2137\t2138\t2139\t2140\t2141\t2142\t2143\t2144\t2145\t2146\t2147\t2148\t2149\t2150\t2151\t2152\t2153\t2154\t2155\t2156\t2157\t2158\t2159\t2160\t2161\t2162\t2163\t2164\t2165\t2166\t2167\t2168\t2169\t2170\t2171\t2172\t2173\t2174\t2175\t2176\t2177\t2178\t2179\t2180\t2181\t2182\t2183\t2184\t2185\t2186\t2187\t2188\t2189\t2190\t2191\t2192\t2193\t2194\t2195\t2196\t2197\t2198\t2199\t2200\t2201\t2202\t2203\t2204\t2205\t2206\t2207\t2208\t2209\t2210\t2211\t2212\t2213\t2214\t2215\t2216\t2217\t2218\t2219\t2220\t2221\t2222\t2223\t2224\t2225\t2226\t2227\t2228\t2229\t2230\t2231\t2232\t2233\t2234\t2235\t2236\t2237\t2238\t2239\t2240\t2241\t2242\t2243\t2244\t2245\t2246\t2247\t2248\t2249\t2250\t2251\t2252\t2253\t2254\t2255\t2256\t2257\t2258\t2259\t2260\t2261\t2262\t2263\t2264\t2265\t2266\t2267\t2268\t2269\t2270\t2271\t2272\t2273\t2274\t2275\t2276\t2277\t2278\t2279\t2280\t2281\t2282\t2283\t2284\t2285\t2286\t2287\t2288\t2289\t2290\t2291\t2292\t2293\t2294\t2295\t2296\t2297\t2298\t2299\t2300\t2301\t2302\t2303\t2304\t2305\t2306\t2307\t2308\t2309\t2310\t2311\t2312\t2313\t2314\t2315\t2316\t2317\t2318\t2319\t2320\t2321\t2322\t2323\t2324\t2325\t2326\t2327\t2328\t2329\t2330\t2331\t2332\t2333\t2334\t2335\t2336\t2337\t2338\t2339\t2340\t2341\t2342\t2343\t2344\t2345\t2346\t2347\t2348\r\n",
      "0\t0.0\t19.536277865534238\t14.437162789113385\t17.51492588471239\t17.12982388413369\t19.109681041002567\t15.67886587436314\t30.029285232155516\t26.835394649233265\t23.216985668520735\t13.48902649249293\t23.397640738604846\t22.1327792197629\t21.269413406497165\t16.92078567068285\t21.974289136504012\t29.611109661696506\t20.399145378006413\t17.124026601568293\t25.869148159569065\t22.666566096999116\t21.781135339255282\t17.575436838351347\t16.893269363477657\t16.28407696905241\t27.191292210633225\t16.524815244883733\t25.349324561739596\t16.368260061483042\t22.349122969300158\t20.0285852827269\t14.085658032401405\t14.90751033147274\t16.39270317564005\t15.03877963946507\t24.680019156559304\t14.639492982928765\t16.850787826228242\t19.330119053716345\t15.29050234600114\t19.83196881640298\t25.79004531271904\t24.24595687573306\t11.472577387787917\t16.07556720589008\t40.13655189776282\t33.11578469692174\t22.62372359763278\t14.872217226291852\t16.53754983977073\t18.688126103368127\t18.341826690073844\t16.924464406858093\t20.079210408077294\t22.323593672527807\t24.98331543625987\t16.36636865996383\t24.97054639657777\t23.00065219742636\t16.443770068300157\t17.383789164641993\t13.600402984217181\t17.787862091355933\t17.272834282450603\t19.18714387209029\t16.95621698385879\t19.67980740279467\t21.596241810208017\t14.755645004359948\t14.333933363555193\t16.785229997294593\t18.94235523402485\t21.08415047596192\t23.09631427868067\t20.86813079465962\t19.647855002613273\t38.809159468085745\t11.364273420704713\t15.529430193248832\t17.39405157477097\t27.771960291095922\t17.421990105865724\t14.679987765025325\t22.460379974532444\t26.205964388302274\t16.686265849897573\t12.952589670673\t17.638892216701382\t17.32434601811492\t22.274113906009507\t18.21486900230705\t16.10488705039888\t38.073551275183526\t16.960375642865436\t17.40967275615207\t16.927573503652695\t16.05191159752993\t18.435462010481334\t18.120549882758244\t24.308457518448595\t15.154397208920521\t13.468834057983468\t14.895408593886824\t14.938756144509973\t17.868415385272826\t36.54489916261504\t28.038887825626738\t14.939377208373605\t19.466037159049243\t17.10984486633701\t18.64304687637362\t16.6631670020172\t16.98127538298237\t17.574983994412136\t18.26495885153339\t18.792843156046644\t17.201344221089705\t18.58618322962635\t25.733745306854527\t18.467961364852723\t15.642654737594741\t19.365450210526895\t13.487921736138409\t21.218110731194994\t25.451848810879245\t18.694584682539496\t17.81898407737731\t19.9558438395543\t16.454177072357396\t18.924832903061603\t29.218822556925158\t18.65817183662832\t15.097935659440026\t18.4510576557917\t15.797481508886172\t18.6861106852521\t19.71635815393589\t12.545912623367915\t17.986880680959015\t15.346013667125744\t18.80003857378979\t19.85450346743358\t20.034791909957654\t15.812893636431477\t10.495301685243174\t19.791360668182197\t13.04911239409619\t14.43087176528474\t26.447298560815202\t16.896302471379485\t15.640241691915863\t25.01342109178812\t19.16350164069457\t18.17151110773705\t17.308116956969013\t16.036822919674357\t13.692439153120311\t18.182627609168566\t18.311536746934426\t16.840583063272234\t18.66268164065196\t19.29334230847128\t18.839202690888843\t20.787839022122913\t21.950533440231002\t13.340985087337364\t14.690742667610737\t30.010717812702755\t19.27082251313088\t18.654900301348576\t20.995773587893787\t14.629556373247025\t22.87513198227928\t15.05111699203126\t24.375735851652358\t18.63746987467733\t8.948901134208505\t32.511750071714154\t17.436291828458288\t24.28902731932179\t13.000812219964727\t16.430121505479292\t24.49576479510574\t23.68660466118386\t18.913031943686125\t19.843209698850696\t20.585665049244\t17.80886872722277\t18.868125887865823\t18.343818559545184\t16.70356955149057\t18.3578416894442\t18.851435600220583\t15.245949712178607\t19.665256723713245\t13.99087582879247\t16.979790130518133\t21.189717432127505\t13.582940997073148\t24.099868677379817\t20.021450381507627\t15.565367571450901\t18.17947199041876\t19.1161512104338\t21.469746597655252\t25.004845392357343\t17.330696969466974\t18.174167718318703\t8.028519320394615\t24.261180283317653\t22.158891638312493\t27.213472426542587\t14.643987443442965\t16.662322969709294\t17.855441193486932\t15.90057902964389\t28.08127681388445\t16.212670405844353\t15.199856989454485\t18.512692850942372\t28.567886966158376\t26.25578627766439\t17.146073203929365\t19.573334912432664\t15.765618914168936\t20.690195060729533\t17.62454373723926\t20.422315018488224\t17.55323341748282\t17.518173558131686\t19.180126195951697\t24.63673692403419\t15.197783136161965\t28.506561993764265\t17.091537131351668\t25.182727876110846\t16.419486083552062\t15.556887480318721\t21.275420401366773\t37.19105281792229\t20.282836926254376\t18.97253278148708\t23.847709546401546\t17.7385553323738\t19.31313568971406\t24.553769501461268\t17.2905980511666\t19.488745632435965\t20.927649984273156\t28.17166210161722\t29.005030451144773\t17.39938651724947\t21.217237118794227\t23.66017874507122\t10.2895486118438\t18.301215977963352\t20.637623352012575\t21.13935310039438\t19.526740050992057\t16.395277021946885\t18.919696161471535\t11.558032814398729\t22.595522594501762\t26.343105726399195\t22.630755121746127\t29.95786025593244\t18.423409665065595\t15.376832189008312\t18.815289260995332\t17.572483257529317\t16.108204557015455\t15.803577445854438\t29.404468661870848\t19.83222562460425\t14.920281570553351\t19.276153840345465\t19.366598639848682\t17.024609386780668\t14.061551181691367\t17.41646759986333\t15.56807041068819\t23.39126123825552\t19.153434442096966\t19.33984823824363\t21.32249159361756\t22.692514960411767\t24.682068900288254\t18.672283152717625\t27.1232611628731\t19.531303790680504\t17.922706469954687\t22.988388240380825\t21.944490946251683\t12.210298608138048\t20.337847121752244\t19.6620373348854\t15.632154363330537\t18.589886556996223\t33.27018029215425\t18.02472808759451\t19.134896853045184\t19.49205746496268\t16.192232701056927\t16.8012986059445\t16.412862347783083\t17.838882552770148\t27.438520945722328\t23.115532270130224\t17.76024888727337\t28.99663940971071\t16.974452084484668\t21.42211980201609\t20.867029759268664\t21.346144498952686\t20.45568091128824\t19.033684358964436\t23.156601522264115\t15.167367880863809\t17.117091148867697\t12.661239458412435\t15.607629806393737\t16.29873368750737\t24.614755367701317\t16.558963621798622\t13.52460666092348\t14.360425821409688\t17.431787236885025\t17.44301014857601\t24.720705383252348\t16.32733462898788\t26.496590204648296\t19.070913473696216\t14.72293460231747\t19.87022053757774\t15.10073887608751\t17.346483474389416\t16.10728168856945\t22.813010843982553\t19.390588316757054\t15.09480685725476\t14.785494908948236\t15.225872283216098\t16.113794284639535\t19.158269609926382\t14.528640815861353\t15.252910705242678\t19.762542983324796\t12.7409914175273\t16.11372711108403\t20.822101981611066\t29.591150011322775\t39.57552490778533\t18.166861561494194\t18.358408117915957\t20.86588854616015\t16.303112920935256\t24.23138030835073\t17.503146803176683\t21.06502334097031\t31.87151931338016\t16.65133326239003\t25.2722436078133\t13.807880664801736\t19.578447334262435\t27.057670343706178\t21.170566652443004\t17.259732854471142\t15.059002622176807\t16.07290558686018\t17.69551325974718\t29.12606344253478\t12.838406890070754\t18.676187619569465\t14.842477477550753\t20.10752717295741\t25.195139595591666\t18.051027140753334\t14.845273499275672\t15.321351084033443\t25.18748022502223\t16.630288407719412\t22.629111513415904\t22.064609656459584\t14.569523372184454\t15.2182285839017\t32.81617718228362\t18.378598057568535\t12.170625024130775\t17.30280694528449\t14.239069897652973\t18.243505403777274\t26.72511325940108\t21.2489110510342\t15.08852530820852\t28.610396999910655\t16.353684330378847\t16.153902535875073\t28.242057303338587\t15.93046824483223\t20.890015745550254\t22.672599801343416\t13.537422155476898\t14.893052815490265\t17.10699591476274\t31.549817558439344\t18.57098936000292\t21.317657558052233\t16.595847657431836\t26.84601964277744\t16.248619382759458\t26.234810884601703\t14.026163758877729\t28.152693190448172\t25.036831232261783\t15.93316543971657\t15.911928472572246\t18.467385977488686\t16.209427718333405\t29.3602576175444\t18.198084413010648\t18.863298310110075\t28.703483359174733\t12.558594731060596\t17.465092955387973\t18.71090813089741\t24.823791663517063\t23.489454475196823\t17.41654420441235\t17.244579567745912\t14.488867128702747\t16.094462636004277\t17.21979516605434\t21.359245674702297\t12.969305500608534\t16.55381461764215\t16.73464325578257\t17.361894079812423\t14.659851982234526\t18.693824662824888\t22.8093062367916\t14.972101511592586\t20.804969829388526\t16.64623693701652\t26.348393511967195\t25.660055242437494\t28.57827279806016\t25.676384304583912\t21.432866297111364\t17.196096352115482\t31.587603521644333\t17.973105742384426\t15.891199333952299\t15.668430076949196\t15.307688083183383\t19.200950480974598\t17.284681993483908\t27.572463486898467\t16.725467282592025\t23.305973755652882\t16.85577683451585\t16.835132278988404\t21.04240396856809\t20.13536995786093\t23.520872048098223\t21.846834328200476\t15.739228655526945\t25.20607507776556\t19.407831861949965\t26.210038126946984\t26.5036524757572\t17.736176487420693\t15.260108613809978\t30.24432811463629\t34.505333672448295\t14.385878355841106\t28.320986990289512\t30.415358985432466\t19.56899088971498\t19.02313758387846\t18.06104502543892\t34.250035073459635\t20.12035847990035\t36.88887454410187\t17.53259722150999\t16.40207496825945\t17.175907267200035\t17.86961742854537\t14.745695236521545\t15.805107124887142\t26.474833320219275\t17.491331188566292\t19.028876839316364\t19.81148714276354\t19.760647052575887\t13.376802424184215\t24.97602289019734\t27.331778322663897\t17.236076090524573\t14.556282433718714\t19.654379588658344\t41.948337608490405\t21.537407796111108\t21.844339359111398\t16.920798093404493\t14.574920108136313\t25.07512536487872\t16.32283672428689\t20.451349530931452\t18.744151156739814\t31.634996475171878\t23.360153600531216\t15.177913105569393\t32.652375552897006\t10.61025736060509\t11.76805352007626\t24.07315492623263\t21.848010284563976\t36.36343478183787\t17.025261694574056\t17.691630634309053\t22.516595368802328\t15.795654663090334\t16.983997172759782\t17.36034384873057\t20.008110112768776\t14.415714241366887\t28.264047725452162\t17.87087217181541\t24.146863570212155\t20.739909644834498\t18.752424328410598\t24.78326348247571\t18.279629685876408\t23.44664406609299\t15.391926618823865\t19.891649199626542\t19.955524214712664\t12.59386678139609\t20.462678587370984\t19.212695014653903\t20.338505383608112\t17.364790218740204\t25.314755753311694\t26.393997438838152\t16.066901527716194\t15.490808478639655\t17.908146858083857\t19.804687511238157\t17.780280279935777\t15.6529977123205\t16.22782929977689\t19.193245946006357\t24.763291294309212\t26.026869247963177\t21.23881149579492\t20.193357466027653\t20.55801833216679\t17.449037252379348\t19.848598962144223\t17.457258400244854\t14.112753085692413\t19.019491481009368\t17.44632136351252\t18.82598760739646\t17.738980576803524\t17.12818881684648\t20.74648460242342\t16.305840810307636\t15.751638644454871\t30.68763884677406\t15.678850731927787\t17.2132629666728\t15.715065721199949\t27.006668900589183\t25.171021488912253\t17.86769693620205\t23.940179276779784\t32.075262675293835\t16.423832596482733\t15.921834017872703\t18.682794656796915\t20.00191212776247\t21.38893735726059\t16.739418469968516\t18.899480842610952\t23.66569160738104\t16.90739233543604\t16.106018607530302\t15.352532275045926\t17.520239482722914\t18.067388665885282\t14.3084976888363\t12.827750563423484\t13.450599495856505\t18.949785944844727\t18.187796585930958\t17.826506650728884\t22.33550388865656\t14.280274740518806\t17.472719467022696\t44.82830104579607\t20.83811126640238\t20.294830743981073\t16.29365681430419\t22.520314752659143\t16.26243099500271\t16.11337084273699\t17.23743898901534\t26.36784453186313\t22.613547800637264\t16.826706838555516\t17.57041085014047\t16.418969770050147\t16.916148189253615\t15.514771092362738\t8.777727365555595\t11.843345470252581\t20.509881049270284\t17.90956922202965\t23.317213269463117\t14.487489839386267\t16.108105692244795\t24.24526394789239\t15.964912668563114\t19.501539397564688\t24.252247626787792\t18.027841847883153\t20.23763275591348\t16.891131710195168\t13.01929641123297\t13.926180137982607\t18.527680978261802\t18.307511375996896\t20.98569356048246\t15.190089154514489\t22.4190319656506\t19.588272473038863\t20.009585403413933\t24.184081751736723\t21.93907680300367\t22.907847569247327\t32.80106163572218\t14.188865378278592\t19.528295444727927\t33.388560617294175\t18.715175395007105\t37.25196175207883\t22.311521729022036\t17.16895609299984\t15.162411369495258\t26.027493158257588\t18.928697340839097\t33.455369955401935\t15.297016543906627\t21.357831626716656\t14.884804157181302\t28.593201853637517\t11.965821211557286\t14.423984588000916\t15.604339965837703\t23.477516518777783\t19.468815441044036\t27.47238000090837\t17.303923263872715\t18.28618396305691\t15.555729151023332\t9.249430039853673\t18.98184477484839\t17.05396431004604\t22.047998930906616\t13.509545038633542\t17.860906487359618\t17.88784001055864\t20.720234805396416\t26.86077758492886\t9.24585477664283\t19.715025671915974\t17.284854302461405\t23.25438729481588\t25.231381051475473\t15.053951897281209\t15.5032518631614\t19.47065467327128\t22.175770901190585\t15.83884160562295\t18.554370260844184\t24.97437119385277\t11.219051732346408\t16.303141009500994\t18.907928408267825\t16.6443811772308\t23.073550071164007\t16.61161972775377\t14.819320215018108\t16.52853854608189\t30.396151309071815\t21.067072668028167\t15.73244364244275\t18.04013529238346\t19.323410946525435\t15.80646908045552\t17.830736139486284\t17.862077818762728\t26.03195232742154\t33.30117686377924\t17.53929875276801\t20.19855084094487\t20.11872483443333\t21.009867887853584\t13.609601110470885\t17.84858488173971\t19.547089822605273\t17.59100464609086\t18.575940579986458\t19.43728125819601\t19.023677446554835\t18.366061009715843\t18.91752779392875\t16.299271605407174\t22.5385080716312\t29.890060506908284\t27.74750544079163\t16.94433383665989\t15.884941346115735\t22.429609794475876\t15.94258885089724\t17.781172196196266\t20.09579590437554\t11.29832171699097\t22.44551390084818\t15.649540011493054\t16.453182016358507\t19.229269427205995\t32.78229731348002\t18.534879485212684\t15.428781076374074\t20.600325457832735\t15.235749239915245\t17.736290730537362\t19.395340086473066\t12.658643813937946\t17.14390056036128\t17.220152548404116\t15.835581147605719\t12.336405945792244\t10.914901651085868\t25.772912090798233\t21.13949386727122\t18.84291261092031\t19.335790186514778\t16.333185006494688\t18.11199756674004\t18.070862012423568\t28.989068275554477\t16.70883606380011\t25.646848564981887\t12.40448096872522\t23.968457462970537\t14.95729973348092\t13.271710490487832\t15.594402265350954\t17.843989309411246\t19.00749744756263\t14.169986296938902\t15.572943382350362\t11.630521869545607\t14.197236063676627\t24.2416461806902\t18.283454470978185\t13.37383248632773\t23.584393119949052\t20.804818026745735\t19.487261407601746\t16.684747757523507\t17.14485034435607\t18.80123724318419\t16.33368643850981\t19.424370491263083\t19.67614329654954\t18.13976130812031\t28.663101706470094\t22.837428636481686\t34.20397041536129\t16.773776456777373\t18.84995484359731\t17.629058603569717\t16.067513804839347\t18.48972875528546\t20.602843561266262\t27.580520596773557\t14.741612735249166\t19.990772419004717\t18.33805779898132\t20.052811621239957\t21.878869421187694\t21.84759949856559\t14.828815486556902\t17.554374890844308\t18.624073951826325\t20.601406500206007\t15.166460524279207\t18.881915449881998\t16.737127398468694\t13.387793990675313\t23.241153216241088\t15.708358776044037\t14.70466699344738\t15.859711162234367\t17.753569489832913\t20.52314161991909\t18.763642223300014\t30.854334989617026\t17.088523584215\t29.245040010653607\t20.08490217282717\t20.001891825409505\t17.023313921500502\t15.413658960671386\t23.299879640820375\t13.91473389036196\t18.243959261043518\t21.299826491991134\t22.19683984428617\t18.638833683540643\t13.248931159066581\t35.93204683933449\t19.092401051841755\t13.407898836290054\t21.571871034856237\t17.761744865738663\t16.426038613054367\t25.202872075690607\t18.912776699033664\t18.46906770071263\t19.96743169022001\t13.986947036587939\t24.627370463604784\t17.48526223522102\t17.404710659539468\t29.219410085995687\t23.24650541818006\t13.723660870316365\t23.418596876858363\t21.204655347951135\t25.006830310097353\t21.830276695973154\t20.046851708388793\t30.110121049226642\t21.34538156616488\t13.182234287431703\t15.109567572994191\t17.501673008573153\t16.54591791882724\t17.773778495439263\t23.649519157439716\t20.294192150064926\t17.74959880450099\t16.04803183088463\t18.99243954361974\t23.71479378439051\t17.943521440650407\t18.35915703923819\t20.93291995314437\t23.1031835781401\t29.200602821269054\t19.503685302224508\t13.67995734869802\t21.399429403449304\t16.870989510596946\t20.71245311012096\t12.206302053635563\t20.564517565664435\t18.327482132212296\t18.70576568333828\t19.736222068423483\t20.624171298293987\t14.42362586820864\t17.377457447108632\t22.48141133552633\t30.495686947801516\t28.40698183425373\t26.168735536998707\t16.532737483518893\t16.50102492109827\t22.92457880705556\t20.274985436978408\t28.821468644382545\t14.149105632209563\t17.142206209688116\t17.482649872496342\t20.113719810677132\t15.655998054980145\t16.040796710707095\t22.150075157210917\t17.272086132934056\t14.15332977237685\t17.29064587448369\t15.514047908955064\t23.297476790441568\t32.45887617479038\t13.810256855780842\t20.796158045290877\t14.484389993360638\t16.982868677513082\t19.053373836798606\t18.359122495216056\t19.714837456647903\t17.11971475495391\t15.316123147027618\t15.830010540551354\t17.215712447182923\t24.128554476619\t18.808069379369933\t18.966876699390145\t19.47246844592293\t19.2309144636326\t28.92457404388387\t19.061375486643467\t28.64027039094701\t20.24803145589227\t16.98466171118842\t35.01243138345154\t27.23189738111968\t17.771103354483134\t15.943006304615155\t14.596835522243818\t17.549654626062296\t15.985406442477764\t18.27767059536538\t19.718078515481793\t20.03872365073872\t14.95682634670694\t34.39777405006267\t14.934467865852794\t17.959789099781712\t15.940363686835276\t17.557051784119604\t20.188648693134596\t29.776527542163954\t16.600963957428156\t23.93420777058643\t14.521219433565374\t24.33515883147566\t17.562889277446008\t18.34416909610905\t13.974767690975867\t23.151133718432668\t20.84176985392935\t16.156237657812746\t14.577450513690767\t20.84282362392746\t16.186707334436417\t23.29545878086337\t18.29772181772696\t20.692369195628476\t11.701618451100702\t20.710225266195735\t16.74022529828973\t17.396846902547132\t20.28426712493472\t17.087239280086447\t18.958993605748162\t15.89087182373213\t17.14617783836816\t18.020720529372795\t26.980855580109367\t15.11342737402196\t18.738000557951285\t18.948002397502407\t17.346766710217054\t16.97981987904724\t19.42879756970877\t25.344619512876257\t21.317657754919818\t36.3211193001769\t26.192669956451105\t19.168955303568023\t17.592489347764122\t35.09164649484311\t18.960870741697885\t18.220945023233025\t11.478083227162859\t15.770542770529323\t21.553028986046055\t18.22119195002754\t24.883710507516643\t13.871491421471323\t18.413875229122503\t19.199063142101117\t18.14601956827045\t22.470643544941755\t13.075178769228147\t16.640178715385808\t20.849131232533363\t23.59370659190499\t18.746911503321773\t18.031057510590898\t12.381530627328193\t19.000168221465657\t13.00724670298848\t18.961034778817563\t16.23385404641683\t14.121579870806546\t14.085460581224153\t14.44601102939274\t17.915769169012407\t26.502264476716757\t21.640750751756027\t15.368195897461378\t14.79100307483516\t21.77219590280893\t13.929556923741448\t24.487895752337458\t14.598674009998847\t20.660047579433627\t20.033440076623346\t27.56171156631946\t16.05903505986249\t16.648027232768243\t14.192899425891028\t15.702794471616926\t18.335959798148913\t19.099804509799768\t25.91172835081284\t16.85349545021516\t19.14313181513389\t18.92813673705091\t17.401256577704522\t19.31460052807056\t19.15603764077333\t18.124125870684907\t24.10674007944195\t16.834417377594132\t18.929533001941014\t23.577566120087383\t17.029076824054187\t31.55887483081492\t16.33124384469482\t20.326340337780024\t15.220645007720544\t18.709366843707258\t16.661456840501415\t17.523220519807133\t13.894671636427557\t16.819228292747635\t15.863776350249289\t16.837999581114687\t17.849396720535864\t14.35576934929422\t23.712745191160423\t16.715529943039602\t22.031385043079762\t16.317191772267943\t18.490448808278988\t19.575333624504218\t17.755995793547044\t30.704323291516324\t15.817251162628676\t18.546016585581402\t14.89578931268129\t26.73764921582527\t17.434007748105874\t24.827510210944432\t9.859725768523296\t16.06091576366456\t20.13316133517486\t17.055207565382286\t12.24134187878836\t14.179286358078546\t22.27616893285178\t19.86744538662078\t17.2095679185413\t15.617978807441526\t22.604392336576034\t17.614205602419446\t37.21882575886868\t22.248007682219736\t24.059532825927942\t24.158240068556854\t26.008997829739002\t34.748187912551366\t17.99046903152709\t22.576167383174536\t33.170395679288646\t23.888254816185736\t17.557743490367184\t14.843502719562075\t11.456907180536417\t20.983108005509113\t21.275501259173645\t16.33564434968071\t17.72412439226111\t15.163600652599822\t15.585956220133516\t19.681821032625937\t13.690029395303938\t17.456929279507335\t20.255334581109576\t22.214046026713138\t30.514193594905713\t19.64463619090034\t20.647942248855145\t21.95976926151687\t14.817139920892185\t18.383445842474412\t26.115157912323756\t20.006907855755696\t19.324876991496275\t22.453251266519754\t19.850718042345665\t19.422879864218594\t22.732758037628606\t16.211138775605374\t17.018437783475992\t17.184477491228677\t21.056576986274358\t31.533791400618846\t15.751717197780795\t21.819459037265414\t14.009231146803678\t26.842511017049898\t19.427277972278677\t18.46648325038045\t19.022118294247488\t20.81222075907393\t15.819879614447402\t15.853523005035907\t18.129436020038145\t20.147083062019554\t22.80227015260948\t17.259085207759885\t20.773761922800233\t14.74774644068993\t14.61783255086786\t20.06527304729541\t16.147836844771245\t15.132235836526977\t16.13917205021555\t18.025253383125243\t20.25065150254226\t25.63667917704745\t25.044242981106024\t16.85168588278438\t22.09989070724335\t42.32663924363362\t33.732866105340605\t18.660935391976935\t18.71476299265419\t26.13367706800301\t23.033295476767417\t16.183432268692805\t29.29572057499807\t22.931864857607536\t16.503601278530038\t20.51803405475624\t15.059052271233744\t15.162438661442566\t19.008703039511936\t18.03395987543778\t16.24392896752734\t14.468219229909202\t21.240467981225702\t17.314139782369097\t23.231952549782413\t21.234370873134147\t21.965723647730364\t13.911625180834712\t20.893379578586845\t20.53049956947691\t22.517203688747074\t15.998172420303085\t27.97410163767566\t33.429778284539346\t22.59208402893608\t14.462170015632836\t24.029790308843705\t13.110238245809256\t24.294495143845246\t24.79651547128976\t17.450028176812253\t15.354720616145064\t23.09820092937183\t27.782014706064302\t18.831820448023084\t20.26301077618453\t17.6342290625295\t18.055293773856256\t23.150482586614093\t23.56103236797278\t23.897479380082704\t14.883672036088686\t26.085295979879508\t17.744018767510035\t29.366824141616835\t18.635564526306265\t20.82940014429376\t10.91857515327339\t16.365803145256294\t28.566954394233683\t18.53503254065409\t15.19756664595734\t17.04380339595061\t18.127028751462994\t16.847584221131523\t18.39557736356242\t16.326103800329285\t20.76009159278895\t20.137805180174123\t15.008399719357863\t24.463412181863404\t26.577924016955777\t20.899510915257288\t18.52072733369996\t18.99052278592339\t13.936581046123413\t18.41706415132076\t20.835301838517985\t16.395719687822734\t27.36541127257107\t16.942897016340567\t17.700687028893945\t22.909197107426444\t22.543546967096496\t20.009734199414513\t18.539818085345782\t21.77940956845241\t20.73868772265884\t16.605512887487652\t18.66141745195169\t20.459388795711696\t16.153722030310632\t17.650757213267514\t15.300278273346377\t10.727558956036967\t13.219245652351882\t18.858211559070515\t26.184208287015895\t10.439282817727157\t15.311280164760717\t22.63583785474424\t15.645846940237883\t38.52265125251459\t17.902903625710174\t19.034457462546495\t23.4409570591643\t20.310842840981064\t18.913638068819317\t18.407824800011245\t32.33754669560741\t27.055869219074022\t15.558190824856373\t12.013779637254347\t21.491655553259296\t17.628786194709242\t18.260353664591953\t15.658594093742572\t14.154854386788784\t19.68588876755928\t25.492119821848274\t18.640913173643614\t17.329166143254753\t15.789814159967488\t20.66335408270517\t17.902232840572147\t17.15750366471055\t17.072862087577516\t8.343979316790959\t20.094409418547496\t26.891600211060844\t17.78372649133693\t17.409641102649125\t32.64121125101037\t33.45291835827003\t15.61853757675773\t20.702434768148233\t17.269765808939862\t14.521116034005841\t15.673993682186115\t25.894933633389773\t18.241771440971814\t19.598527524738653\t15.283951265625449\t18.5929522808099\t15.88316488521153\t22.883708586920598\t13.402758552985324\t18.77663867015627\t22.141011829675158\t17.809476788206787\t17.910101361071767\t10.270009281915796\t23.34581314041062\t18.554035098167358\t15.581973784711181\t16.548534018997792\t37.92366276088014\t15.058064712287852\t25.367253596421744\t17.202473745609616\t19.15379442802295\t18.56089894828915\t35.7675585148445\t17.895557531305617\t26.106095617374226\t17.024044336486476\t21.594853701743503\t12.243347899328294\t14.317866307579619\t18.855408534668612\t26.055299189662428\t15.693309428407723\t16.42465957959763\t19.554548982075406\t15.388384522027874\t16.918718171558798\t18.756906364014252\t27.481414393407636\t12.45679125541488\t17.774323440777895\t22.07449223496641\t21.692383381020427\t13.486921323370492\t16.28912123273893\t20.754086945067534\t34.1196190918729\t24.745432415346666\t19.422899223505087\t12.337314550041109\t19.31475376667837\t17.722135932260663\t31.84008296507511\t25.913200581274854\t17.955695913056882\t22.923463612497393\t26.08752065760819\t18.171672261711276\t10.845999877794648\t16.994873750730154\t21.15253644568032\t15.845534772172439\t34.6497249757652\t16.251123572440527\t29.509347176442898\t18.156034492158117\t21.448022660704268\t27.62485869826357\t19.21374518771352\t21.474156089830714\t22.045610886133638\t19.558590183410654\t19.93373117590678\t18.465161665532225\t17.310978905010014\t16.13803023193382\t17.13998490231141\t19.487880369230854\t18.989100305670025\t16.517848898313044\t18.689383141391623\t27.348476020864\t11.365024953527017\t17.884646400470583\t23.420185502246287\t12.960394749671659\t14.511533483826788\t14.149630616178575\t17.5113435912936\t12.940921245165269\t19.114230730900275\t16.08579136957173\t11.170939209372122\t14.207635470233832\t72.5022218844359\t31.383742943383336\t22.375381536418192\t14.773076446595113\t24.928061593036375\t22.172871721219437\t34.63358701189009\t11.707009380198468\t17.766679939928196\t30.169634958049915\t20.344571820412806\t14.66173333954293\t34.4909330884212\t15.805972332708665\t16.807406967429614\t17.49367955390631\t17.96065657722462\t20.457360500786827\t16.83861429824453\t19.61938372240323\t20.521553854254734\t17.519816304826513\t26.816456305281083\t20.882251895312578\t17.01201199525333\t23.19934200356333\t16.518192025544124\t17.280598802225622\t15.163332692091254\t13.96737069023566\t23.342198453477675\t16.146165130910134\t16.75967840022981\t17.185663384922915\t19.376657502132865\t17.659976896727752\t24.936625315193055\t15.797245108574183\t16.904572345841824\t23.687248539328422\t18.163163983977473\t13.680014305787733\t18.099117637562284\t19.26501739403655\t15.564117203589621\t14.723803853493735\t17.452312370774365\t13.944126778196871\t23.32605783360789\t27.84968533147635\t17.927196006661553\t21.853301654468446\t14.666914699819044\t27.480411828974468\t13.815328203807336\t25.83925309276457\t16.120207553959197\t17.955068798411048\t18.174638370237552\t19.87214719519135\t17.88708917806899\t21.79540883051772\t19.01765487003956\t21.051248932579263\t23.40955813902151\t21.6757598361536\t27.743121320496847\t21.09099950026643\t15.056693147973887\t16.282747760454285\t26.678902165080242\t15.234760174653099\t17.093454854289217\t26.977660653443248\t22.396819127266017\t26.51703215625596\t14.754108909406964\t18.65928851294991\t23.097929651902163\t17.82107855751511\t16.40395958750919\t14.393923156271748\t30.94662843223621\t33.67042132705134\t18.445760703072132\t17.211976402170254\t14.12996983950492\t18.668680063862148\t16.912312588490952\t12.166340747377845\t21.684657098584374\t20.56605564343896\t17.556959702097124\t17.73558993588903\t15.456053907645503\t39.52095407891905\t27.302002084925387\t14.6604321638712\t19.30452040484029\t15.183011264433508\t16.624864861073473\t12.691148263218196\t22.044204108247545\t15.601325189287575\t17.187577214519862\t16.138691932260706\t22.15347020380014\t19.085355638132736\t16.70326880479168\t24.195559697005187\t16.054950317473352\t32.31879837215641\t18.001500171590223\t16.437954424162633\t23.35034420100662\t16.15894431232267\t16.96788534112952\t16.36085784211153\t23.660166419634237\t17.199282916616276\t16.464148430886443\t23.527793580123337\t17.184038330042426\t18.22874646633326\t9.914285226921146\t15.473408183199318\t15.590621713490128\t33.62685179617591\t18.555932755739715\t15.161784506465697\t20.38960892480953\t28.537007832526836\t12.02513158834393\t23.45384082665762\t13.050495210305693\t16.692025909280915\t17.495948519361725\t18.85960201628405\t16.44628921260793\t14.78418794721917\t13.214989952327494\t36.80814859104006\t15.563193579060087\t28.597768025533092\t26.38574443715245\t15.615446022984282\t16.861093025265426\t33.07605099624324\t16.966433401429036\t26.308185015159477\t15.194456265350171\t17.662326486464387\t14.88715943521183\t27.169460849776982\t22.44382867387127\t14.943085857587377\t17.233536654279497\t15.666391357577313\t19.636466805444854\t14.740157656710224\t24.066285135832484\t16.100840675313496\t22.17044499299075\t18.508735155351406\t16.652000246060197\t26.103506013471602\t18.11569480550457\t22.120905466722817\t11.42428783074663\t10.254331154584257\t21.227621778681147\t16.73355437805532\t19.56237094259905\t13.653791962440993\t12.947480344346001\t24.3901564561463\t12.4506929474317\t15.677648558623668\t16.582675802121948\t35.79926202168952\t12.589844202655812\t28.486704731444\t20.560494229604227\t17.088315601334525\t15.498242016911137\t12.692539660039014\t22.98797342905584\t19.06483290573379\t15.215725417848676\t21.22395601954364\t16.2313763830788\t20.28659851216646\t29.25569341688235\t19.07606524895988\t23.233436069650214\t35.309518303666195\t31.613568366176455\t17.382651677308992\t17.512648091341347\t16.61203144740407\t23.409679568371278\t19.26914361794083\t18.06878353861619\t18.878952067412534\t16.81073909807559\t16.39338746197726\t19.315255589528565\t22.056497346106816\t18.81525291179821\t14.693762646633477\t13.068824616919896\t19.07727766138963\t13.492337120841091\t15.884706507188362\t31.56067737159921\t15.68904007705689\t21.452195502837384\t15.75310370528633\t16.946812297618763\t18.630638761316472\t35.1096151809024\t17.362763149937873\t22.177436619259137\t10.399580174714998\t12.666804041364445\t17.400623061698244\t22.802742215961146\t18.219461218268776\t18.89145598144452\t28.87188710227282\t18.07123990037473\t27.957594192145194\t19.24521663925104\t20.290621758940183\t15.270983664941442\t18.737684354179773\t23.671221385429114\t22.086517190555952\t35.63115724257865\t20.14979746469321\t21.009311284082536\t15.184517022066792\t24.935945175232657\t21.669350263313838\t17.632676207118905\t17.793741219520513\t16.913094777998776\t16.35153841777882\t21.63101606601102\t15.114554072019162\t21.455466011465766\t28.60914269468748\t33.593753995431584\t21.18464896742223\t17.720506715889048\t25.0045073728353\t15.9220169547124\t19.977476217464066\t30.8627729191241\t15.13313570313607\t18.52823324806121\t15.030057122085077\t21.98937775381414\t18.56696119823869\t16.95028348287261\t19.203592368935656\t34.66578074680271\t24.752263834739093\t13.417757686359279\t14.418596333283503\t32.03020635804248\t15.726118155423052\t15.077858718292234\t15.043176503288503\t20.342804514375306\t18.675991819123244\t19.80227629613226\t21.63034233113716\t19.993961885488307\t21.354651324507437\t17.161895400353938\t19.577299564154597\t17.983254565312123\t15.509717704655786\t17.675006489398992\t16.123623091821717\t19.245767090175978\t19.410335947502936\t16.540647084854644\t17.656840336868367\t17.240601947166898\t12.939125945719042\t27.522728477377335\t18.190618867164606\t20.205680273079228\t17.22851158468762\t25.19418355918714\t17.84741824507164\t13.74750836154056\t16.225940918079623\t17.63700504358523\t14.152369293320008\t16.6861343115007\t16.829463890600337\t16.071087420406958\t19.87479011621502\t13.683059614345515\t22.123964553437077\t20.0685005339202\t23.875837794618366\t33.28028097055438\t16.987304673431257\t29.218767426429263\t20.764845212504493\t18.544972515642705\t19.3318021260397\t18.909315711665325\t15.360956645610402\t17.078503700136743\t25.79478309951447\t17.002305676221503\t16.99920779847003\t20.86918883851933\t24.10256316115763\t20.310868928425283\t25.226435541148458\t15.009739583023345\t12.806978413081351\t21.265227429438557\t20.298426500141005\t16.6198460385766\t24.28772141272518\t13.25246171877089\t23.60904008191584\t15.752817652977727\t17.124391806772735\t14.058591275325671\t19.35468073137769\t20.057536659630856\t18.06080893684511\t23.743006577488025\t16.073840301510852\t17.877693891903945\t21.318880943784674\t25.856027677633705\t13.013018763662505\t17.970928296714234\t23.105379598671004\t16.721201517407152\t18.603704332233992\t19.507905336319688\t22.84672186784725\t13.641085546471256\t15.375495166646685\t16.858602111593093\t16.846165200043394\t16.30766778465841\t22.31400382777511\t17.233156667809325\t18.555322498276386\t21.63401024787268\t16.253218185653726\t16.375410280983093\t17.8734737816162\t20.518905716858438\t23.13212403118637\t26.126997818492494\t14.804635310146006\t16.802278205289102\t17.352525633172622\t15.754334235292163\t22.66504304085953\t13.23923214153215\t17.132950167019057\t14.063172159826253\t15.600528601915844\t20.954020242197323\t36.60344105283579\t20.395913838255726\t23.273562255056603\t29.73408969337441\t16.998354522288178\t23.70146355710728\t34.85652626478819\t16.677439429369414\t21.5682360272973\t15.650498524967693\t22.4756811850905\t20.599614605828613\t30.37725562913668\t14.35357595099438\t16.164357999975387\t20.76845270746236\t21.031956317551757\t17.5849758128084\t17.859674304483992\t37.76401075844844\t21.67354622409284\t16.455217793820054\t15.171533355702568\t17.702431419657206\t24.44413936000083\t15.857496357483853\t15.014727786422977\t17.337242463372256\t15.602326399730975\t18.743753284404846\t36.62257369461902\t19.649157815866904\t22.871600997812767\t18.415683584181632\t17.425584994227535\t17.597829664473842\t15.654087239941568\t17.00855338198494\t18.60858761781388\t16.05734435526362\t18.124516192341208\t22.685501710436398\t22.423741897630748\t20.82606095937656\t22.672974719166177\t15.538898923938476\t17.97658764905145\t14.673709916864224\t16.57266769787789\t19.209207750849544\t18.111716412136513\t16.810651247604696\t17.113544374929138\t15.576586123935352\t20.157251620449205\t11.044361959991209\t19.07986998972247\t18.160643972484827\t21.295953416325613\t15.581138051115406\t22.934956502533446\t21.66082189767268\t16.48410150451016\t12.744852587811101\t17.32030932260009\t18.11049129757608\t21.56436469965987\t14.460705236220127\t15.46150741757021\t16.710359480954676\t18.593706669595228\t26.435556367795318\t20.930844978290946\t18.37585432187195\t16.867704564080693\t22.512620182738043\t15.00027472540048\t27.388294204023644\t21.339672839274247\t18.61243108085601\t18.164239825803644\t22.812296398483006\t16.54645548698109\t15.679020667941924\t21.625978641650864\t34.63874516354779\t33.59577462376857\t16.52367667857368\t16.525325477349995\t20.292390916891794\t18.667420757720183\t18.049686683009917\t22.093584924590864\t16.569986254473797\t13.667897312975208\t17.929032179700627\t26.167794178115013\t13.040011901807711\t14.291889876660305\t36.273291739399625\t14.68538956263964\t15.834820714820435\t17.089561474045613\t22.871741736866028\t20.06379284364057\t16.908321714012217\t16.06288252432271\t17.78452922445148\t22.688774595209697\t17.519572081894086\t17.343032906239877\t20.251455215174452\t16.919074870359722\t16.121853345974547\t19.46159645967842\t17.842511458858066\t16.328705938536284\t21.09220002462916\t18.396252433799404\t10.180744003968073\t27.578680313148165\t14.269821388397855\t18.32214137302334\t18.46383850716831\t15.280041934385645\t13.927826731123918\t18.235689447617684\t21.35730889578749\t27.61701714121546\t22.80496977952822\t14.584441182467776\t21.092666998394357\t22.01808846267036\t21.29006605430774\t23.074733093504985\t21.537651993574435\t23.272923384550726\t18.468931445554624\t20.901561970890103\t12.016644953757558\t14.736060716383065\t15.3829927387808\t19.937819463673804\t16.286829783998677\t16.117372460920105\t16.502987672607755\t22.74272111005939\t29.982995758309116\t15.840660085209718\t15.668183533431272\t16.27410256290651\t16.18788409347416\t20.274963282535364\t19.400953161135877\t15.496450789802655\t27.584738317743703\t13.831593718858544\t17.647237028171652\t30.88159442928927\t18.53293720189784\t17.073564094166642\t19.42678611152443\t16.77545755469923\t15.561697443346574\t14.426507284631823\t9.780628010164106\t16.807135336645686\t23.260728095979587\t13.527150785138971\t21.436425803458313\t13.712161143135326\t16.06407189553409\t17.48017948666903\t17.288956824784083\t16.598752309111656\t26.086429299004944\t17.7675307787904\t13.643471020325633\t19.146383372998315\t19.678201181588253\t19.304116572365828\t16.907265669978823\t17.406060322863244\t14.358381585113321\t18.93386588561943\t34.24446152742938\t18.24321767678981\t16.10257814131092\t15.668494142902166\t16.79728574982982\t20.732936036562815\t16.689552734269544\t20.988389628667058\t21.952480298570894\t18.73960384951415\t15.117978616861912\t18.30361702771573\t15.97290038470416\t19.927714861499716\t20.85675716815306\t22.973029692549105\t19.084538706458922\t20.697439916351147\t15.646663237575572\t18.10054845783734\t20.627735682515745\t22.424369928321067\t19.64127028532935\t17.28471465955098\t14.742600981789852\t18.28087165022405\t11.992371103269326\t20.083343106597756\t22.37300458555408\t13.450668578442809\t22.049482324292583\t11.635379286476567\t14.981464401740439\t31.056964651442897\t16.792446419646236\t21.20762891788867\t17.210399939263944\t21.103279144315163\t21.401282458570748\t21.037813221264113\t18.938182307232577\t17.449091530723692\t20.076761240432\t15.663362938074647\t16.698924365159588\t20.083660070577224\t19.911645840670907\t20.32492459985031\t40.882685684113234\t20.38877492392932\t25.288979898376013\t35.6585794276239\t21.442983473039888\t19.205624508460833\t14.444887803179448\t17.212202026981355\t17.771872220367364\t27.039603990948105\t15.315899078548613\t33.94706687823097\t16.618950475107003\t16.71136191009963\t20.00206127918402\t11.382794817498887\t23.295040512396056\t24.382609794856982\t11.270851858648042\t16.452251966800397\t16.164234827628178\t27.951820850106095\t21.741517064343515\t20.719816714368996\t26.0892120656322\t28.423310961287125\t16.694678579840275\t17.119729467983518\t13.22139287470444\t16.26990040524422\t28.452903707947634\t21.134393489032977\t11.040245194585598\t18.272683564300312\t16.927215782479063\t16.16327164683048\t16.334775683944425\t13.84144878471661\t16.434902846380492\t15.862254598898149\t23.889821488569005\t22.62588160908794\t11.462650776230806\t14.01965591837612\t16.11864650188694\t17.435161821614674\t15.445649878184097\t37.14457285252756\t17.87555199808501\t15.599256817022795\t26.87357496564807\t43.581483005143966\t25.373583626305617\t31.217659958940846\t22.76503351788614\t16.337454028053255\t22.899914997820627\t19.747989400383172\t19.024148637737497\t15.601794960588677\t17.147601322168484\t19.491165457196463\t16.027456036066145\t16.373091683766752\t17.664531180134023\t22.286271153210432\t35.68427886515828\t15.079144834117637\t18.291625213238184\t35.098790003901634\t19.20651319601442\t16.143293756724134\t25.497156984639474\t22.77139842141971\t21.983295419167312\t32.222000860687835\t24.899680326259002\t18.298535102375297\t34.55032243735425\t18.452445617968365\t15.559312063511019\t20.151955765354085\t18.441675610842235\t24.56080794412343\t18.012550270197476\t20.06360062389378\t16.165944980992084\t16.94791903342334\t18.687244581543734\t17.276177911306245\t23.6247354861157\t18.579526100174153\t19.087683572096036\t15.933552656501336\t21.129629112712184\t21.56850203160394\t18.783085711886265\t22.11529920281817\t19.937543089317668\t14.041505081151863\t17.601748948401006\t12.220652885342934\t15.322963485679466\t13.22507656030353\t35.10005324897312\t14.396463281886431\t15.340863881197931\t18.758714574935446\t16.21616954926959\t21.190474792749534\t18.351085651229337\t18.1985515143878\t18.803953018571526\t17.24793218455326\t17.682726400989203\t23.491708042265426\t17.000713779343748\t14.450796354549043\t17.869646661286847\t15.947127632326593\t21.99771606563544\t16.753225938104766\t31.85186581854053\t30.71121345869498\t14.400983191691555\t22.745619336423047\t18.92252809360949\t20.741819720346463\t17.648793926140613\t13.186010956588813\t17.725655200949284\t19.53045940391733\t19.325456924106128\t32.87174035212901\t16.208676914369548\t25.99382201601976\t15.255448754735447\t15.854330012601741\t16.872349073156908\t17.32608842847313\t16.33985207901609\t16.071701272699464\t20.915255274346556\t33.88858632043369\t35.27630873468275\t20.252551995843454\t21.19703711023467\t16.661226985590083\t30.134380618796044\t22.46801957855713\t15.48224568190827\t36.74087358071631\t14.92658810176076\t25.700193991047982\t18.980888740350785\t18.402661593818326\t16.394925977079524\t15.868139445580919\t26.806869052833314\t17.806384879000856\t16.96812674825765\t19.5607261330275\t16.804014378609477\t16.429453296279984\t19.393996799696765\t31.85651508485058\t16.331850607659504\t27.75264582199601\t17.318123007243095\t14.916873455607838\t19.12172808540239\t17.48397703972456\t29.048140158936004\t15.605096688149343\t16.984006943397926\t14.497750835383394\t18.903582740414087\t18.510737374579353\t14.194329181246276\t18.02018008922419\t11.838230135158035\t18.685943754858606\t20.525424042384206\t19.475259050873028\t34.70166367459856\t19.971926426872336\t22.910459701057807\t18.447714202755982\t17.316816771561534\t15.997133246665774\t18.7199743401804\t16.4483214176827\t20.644833954873448\t19.12072606178159\t40.40275263620027\t14.5183631319251\t16.894303795631124\t34.73111727544575\t15.375619145494495\t18.97259682903342\t20.192772794740062\t17.86661056732146\t17.63102396129881\t15.635786777267551\t17.35367029979492\t15.254448098148798\t16.345522355393605\t18.71659762282074\t16.6955771293736\t23.92376388185626\t17.670813599268282\t20.95272926685849\t16.18312071357443\t19.8903382223535\t17.009940148255232\t16.88124495300114\t35.904969564644226\t23.258667351244846\t17.91118627820793\t22.001822076657614\t21.635716847566414\t27.202646337682186\t17.15661056379505\t19.992962181692075\t15.447320982598846\t19.90495977958505\t17.614447458445962\t18.940766397964882\t21.17287261795502\t17.671533740056937\t15.414529745352079\t16.920067936479892\t18.137464592126598\t27.755619651877826\t16.760487912843647\t24.380863064932086\t24.624151190612363\t16.921603419508266\t17.29461750074363\t19.444633600040707\t21.20565154728337\t20.17638216993477\t21.162363707973096\t16.93612120106374\t19.453736892616764\t40.88907249608233\t26.988473935057215\t49.8296764290817\t27.18221755107257\t17.854333056589994\t17.479773733781467\t20.036626234630294\t17.653203752918593\t19.041901429413993\t20.453890022794287\t16.691637863876885\t19.06111036557698\t19.226600658561804\t28.34267251817743\t14.888525794491494\t16.73118298022024\t17.513768159157962\t17.712762839369937\t15.542438633527375\t15.078609284469072\t19.365370958121872\t16.544019353285933\t15.9679997351138\t15.94729008404098\t15.115298735963899\t17.805845236551207\t16.5455474652206\t18.94856457388589\t27.656852255520153\t13.74836435275313\t41.40527809459841\t17.505224408616943\t27.814270018272243\t15.076059177550016\t20.754921681425245\t18.011169057165148\t28.806038791549003\t15.748863667211365\t22.073240237623473\t22.177499375608246\t13.541836509672056\t13.363797565268788\t22.24565238056386\t17.2522480376295\t19.85788164071344\t30.88722407986424\t38.344532932617035\t17.783850223363743\t17.34837532846267\t14.875520214821682\t23.66383209511475\t12.510467019727624\t17.99341980420804\t24.34577163484488\t17.929301459111997\t19.752926281592845\t37.73727124643175\t19.098498530189485\t15.37784521887982\t17.51025719089287\t19.79813357575008\t22.68401726607023\t15.70963347552088\t15.254371529063008\t15.211737180849054\t14.138739867113554\t19.676707139416216\t15.303300622914865\t16.519974487651385\t23.819966169767056\t21.00257974620292\t19.00825790707878\t17.084442013101896\t17.368063017042832\t14.258356952473603\t35.15837214020473\t18.418120635804225\t14.542567181550567\t17.49468218456981\t28.545843291717595\t20.90794194024693\t17.82539960165152\t28.074192478300297\t27.930259623847373\t16.72938193221011\t24.77425629553428\t15.010734215123472\t17.644531075785974\t32.738922282764655\t38.75377014724778\t16.151003450162996\t17.641000432051744\t19.406488676774\t13.246497857941248\t18.060542944169864\t21.175133787835417\t14.334961600478078\t15.423832451052219\t14.927770652295894\t21.117172158680358\t10.135491176945855\t21.826574309552505\t17.995162326059724\t21.028346224341075\t16.074501826504143\t16.28601252264911\t17.253606258855033\t17.5553167240743\t13.563446048882307\t19.752701179626253\t29.724627117834633\t16.003657345898677\t12.22691314059874\t12.487726712866353\t16.703502860535835\t23.234938233290684\t14.914132708756428\t10.51465613155629\t16.958821252550386\t25.438098384444842\t17.258176289108746\t13.052017272549872\r\n"
     ]
    }
   ],
   "source": [
    "!head -2 outputs/fateid/distance_matrix.tsv"
   ]
  },
  {
   "cell_type": "code",
   "execution_count": null,
   "metadata": {},
   "outputs": [],
   "source": []
  }
 ],
 "metadata": {
  "kernelspec": {
   "display_name": "Python 3",
   "language": "python",
   "name": "python3"
  },
  "language_info": {
   "codemirror_mode": {
    "name": "ipython",
    "version": 3
   },
   "file_extension": ".py",
   "mimetype": "text/x-python",
   "name": "python",
   "nbconvert_exporter": "python",
   "pygments_lexer": "ipython3",
   "version": "3.6.7"
  }
 },
 "nbformat": 4,
 "nbformat_minor": 2
}

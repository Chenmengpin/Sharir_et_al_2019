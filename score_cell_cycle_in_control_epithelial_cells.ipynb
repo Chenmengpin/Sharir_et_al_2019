{
 "cells": [
  {
   "cell_type": "markdown",
   "metadata": {},
   "source": [
    "# Score cell cycle"
   ]
  },
  {
   "cell_type": "code",
   "execution_count": 1,
   "metadata": {},
   "outputs": [],
   "source": [
    "import os,sys\n",
    "import datetime"
   ]
  },
  {
   "cell_type": "markdown",
   "metadata": {},
   "source": [
    "### Import scanpy"
   ]
  },
  {
   "cell_type": "code",
   "execution_count": 2,
   "metadata": {},
   "outputs": [
    {
     "name": "stdout",
     "output_type": "stream",
     "text": [
      "scanpy==1.3.4 anndata==0.6.13 numpy==1.15.4 scipy==1.1.0 pandas==0.23.4 scikit-learn==0.20.1 statsmodels==0.9.0 python-igraph==0.7.1 louvain==0.6.1 \n",
      "Memory usage: current 0.17 GB, difference +0.17 GB\n"
     ]
    }
   ],
   "source": [
    "import scanpy.api as sc\n",
    "sc.logging.print_versions()\n",
    "sc.logging.print_memory_usage()\n",
    "sc.settings.verbosity = 2"
   ]
  },
  {
   "cell_type": "markdown",
   "metadata": {},
   "source": [
    "### Import my utility functions and import statements from github"
   ]
  },
  {
   "cell_type": "code",
   "execution_count": 3,
   "metadata": {},
   "outputs": [
    {
     "data": {
      "text/plain": [
       "'# This cell is run once to download my custom functions and import statements from github\\n\\n!git clone --depth=1 https://github.com/rapolaszilionis/utility_functions\\n    \\n# github doesn\\'t seem to have an option to download a specific version of the repo from the history.\\n# So I download my utility functions and save the download time by appending it to the directory name.\\n# These utility functions to be shared together with the notebook.\\n\\ntoappend = datetime.datetime.now().strftime(\\'%y%m%d_%Hh%M\\')\\nnewname = \"utility_functions_%s\"%toappend\\nprint(newname)\\n\\n\\n# rename the py file with utility functions\\nos.rename(\"utility_functions\",newname)'"
      ]
     },
     "execution_count": 3,
     "metadata": {},
     "output_type": "execute_result"
    }
   ],
   "source": [
    "\"\"\"# This cell is run once to download my custom functions and import statements from github\n",
    "\n",
    "!git clone --depth=1 https://github.com/rapolaszilionis/utility_functions\n",
    "    \n",
    "# github doesn't seem to have an option to download a specific version of the repo from the history.\n",
    "# So I download my utility functions and save the download time by appending it to the directory name.\n",
    "# These utility functions to be shared together with the notebook.\n",
    "\n",
    "toappend = datetime.datetime.now().strftime('%y%m%d_%Hh%M')\n",
    "newname = \"utility_functions_%s\"%toappend\n",
    "print(newname)\n",
    "\n",
    "\n",
    "# rename the py file with utility functions\n",
    "os.rename(\"utility_functions\",newname)\"\"\""
   ]
  },
  {
   "cell_type": "code",
   "execution_count": 4,
   "metadata": {},
   "outputs": [
    {
     "name": "stdout",
     "output_type": "stream",
     "text": [
      "python version: 3.6.7\n"
     ]
    }
   ],
   "source": [
    "# add the utility function folder to PATH\n",
    "sys.path.append(os.path.abspath(\"utility_functions_190425_11h32\"))\n",
    "\n",
    "from rz_import_statements import *\n",
    "import rz_functions as rz\n",
    "import rz_fig_params # this adjust mpl.rcParams, almost nothing to import\n",
    "import rz_utility_spring as srz"
   ]
  },
  {
   "cell_type": "markdown",
   "metadata": {},
   "source": [
    "## Load data and place into an annData object"
   ]
  },
  {
   "cell_type": "code",
   "execution_count": 5,
   "metadata": {},
   "outputs": [
    {
     "name": "stdout",
     "output_type": "stream",
     "text": [
      "cell_info_8594x25.tsv         injury_barcodes.tsv\r\n",
      "control_barcodes.tsv          injury_genes.tsv\r\n",
      "control_genes.tsv             injury_loom.loom\r\n",
      "control_loom.loom             injury_matrix.mtx\r\n",
      "control_matrix.mtx            raw_counts_8594x27998.mtx\r\n",
      "gene_names_alphabetically.txt\r\n"
     ]
    }
   ],
   "source": [
    "!ls data_from_geo"
   ]
  },
  {
   "cell_type": "code",
   "execution_count": 6,
   "metadata": {},
   "outputs": [],
   "source": [
    "obspath = 'data_from_geo/cell_info_8594x25.tsv'\n",
    "countpath = 'data_from_geo/raw_counts_8594x27998.mtx'\n",
    "genepath = 'data_from_geo/gene_names_alphabetically.txt'"
   ]
  },
  {
   "cell_type": "code",
   "execution_count": 7,
   "metadata": {},
   "outputs": [
    {
     "name": "stdout",
     "output_type": "stream",
     "text": [
      "(8594, 25)\n"
     ]
    },
    {
     "data": {
      "text/html": [
       "<div>\n",
       "<style scoped>\n",
       "    .dataframe tbody tr th:only-of-type {\n",
       "        vertical-align: middle;\n",
       "    }\n",
       "\n",
       "    .dataframe tbody tr th {\n",
       "        vertical-align: top;\n",
       "    }\n",
       "\n",
       "    .dataframe thead th {\n",
       "        text-align: right;\n",
       "    }\n",
       "</style>\n",
       "<table border=\"1\" class=\"dataframe\">\n",
       "  <thead>\n",
       "    <tr style=\"text-align: right;\">\n",
       "      <th></th>\n",
       "      <th>barcode</th>\n",
       "      <th>condition</th>\n",
       "      <th>total_counts</th>\n",
       "      <th>pass_quality_filters</th>\n",
       "      <th>inj_epithelial</th>\n",
       "      <th>ctr_epithelial</th>\n",
       "      <th>excluded_as_immune_or_mesench</th>\n",
       "      <th>class</th>\n",
       "      <th>population</th>\n",
       "      <th>phase</th>\n",
       "      <th>...</th>\n",
       "      <th>x_control</th>\n",
       "      <th>y_control</th>\n",
       "      <th>x_class3_exploded</th>\n",
       "      <th>y_class3_exploded</th>\n",
       "      <th>x_control_injured</th>\n",
       "      <th>y_control_injured</th>\n",
       "      <th>x_class1_CTR_cell_cyc_removed</th>\n",
       "      <th>y_class1_CTR_cell_cyc_removed</th>\n",
       "      <th>x_class1_INJ_cell_cyc_removed</th>\n",
       "      <th>y_class1_INJ_cell_cyc_removed</th>\n",
       "    </tr>\n",
       "  </thead>\n",
       "  <tbody>\n",
       "    <tr>\n",
       "      <th>0</th>\n",
       "      <td>AAACCTGAGTGCTGCC-1</td>\n",
       "      <td>control</td>\n",
       "      <td>2787</td>\n",
       "      <td>True</td>\n",
       "      <td>False</td>\n",
       "      <td>True</td>\n",
       "      <td>False</td>\n",
       "      <td>class3</td>\n",
       "      <td>ctr_DEEx</td>\n",
       "      <td>G1</td>\n",
       "      <td>...</td>\n",
       "      <td>783.705500</td>\n",
       "      <td>-377.074709</td>\n",
       "      <td>1082.172898</td>\n",
       "      <td>-266.303304</td>\n",
       "      <td>709.78614</td>\n",
       "      <td>-325.505019</td>\n",
       "      <td>NaN</td>\n",
       "      <td>NaN</td>\n",
       "      <td>NaN</td>\n",
       "      <td>NaN</td>\n",
       "    </tr>\n",
       "    <tr>\n",
       "      <th>1</th>\n",
       "      <td>AAACCTGAGTGGGTTG-1</td>\n",
       "      <td>control</td>\n",
       "      <td>3325</td>\n",
       "      <td>True</td>\n",
       "      <td>False</td>\n",
       "      <td>True</td>\n",
       "      <td>False</td>\n",
       "      <td>class3</td>\n",
       "      <td>ctr_upper_IEE</td>\n",
       "      <td>G1</td>\n",
       "      <td>...</td>\n",
       "      <td>709.612642</td>\n",
       "      <td>-429.409941</td>\n",
       "      <td>854.230866</td>\n",
       "      <td>-454.025809</td>\n",
       "      <td>529.15516</td>\n",
       "      <td>-471.961493</td>\n",
       "      <td>NaN</td>\n",
       "      <td>NaN</td>\n",
       "      <td>NaN</td>\n",
       "      <td>NaN</td>\n",
       "    </tr>\n",
       "    <tr>\n",
       "      <th>2</th>\n",
       "      <td>AAACCTGCAAGTCTAC-1</td>\n",
       "      <td>control</td>\n",
       "      <td>1781</td>\n",
       "      <td>False</td>\n",
       "      <td>False</td>\n",
       "      <td>False</td>\n",
       "      <td>False</td>\n",
       "      <td>NaN</td>\n",
       "      <td>NaN</td>\n",
       "      <td>NaN</td>\n",
       "      <td>...</td>\n",
       "      <td>NaN</td>\n",
       "      <td>NaN</td>\n",
       "      <td>NaN</td>\n",
       "      <td>NaN</td>\n",
       "      <td>NaN</td>\n",
       "      <td>NaN</td>\n",
       "      <td>NaN</td>\n",
       "      <td>NaN</td>\n",
       "      <td>NaN</td>\n",
       "      <td>NaN</td>\n",
       "    </tr>\n",
       "    <tr>\n",
       "      <th>3</th>\n",
       "      <td>AAACCTGCAATCTGCA-1</td>\n",
       "      <td>control</td>\n",
       "      <td>3468</td>\n",
       "      <td>True</td>\n",
       "      <td>False</td>\n",
       "      <td>False</td>\n",
       "      <td>True</td>\n",
       "      <td>NaN</td>\n",
       "      <td>NaN</td>\n",
       "      <td>NaN</td>\n",
       "      <td>...</td>\n",
       "      <td>NaN</td>\n",
       "      <td>NaN</td>\n",
       "      <td>NaN</td>\n",
       "      <td>NaN</td>\n",
       "      <td>NaN</td>\n",
       "      <td>NaN</td>\n",
       "      <td>NaN</td>\n",
       "      <td>NaN</td>\n",
       "      <td>NaN</td>\n",
       "      <td>NaN</td>\n",
       "    </tr>\n",
       "    <tr>\n",
       "      <th>4</th>\n",
       "      <td>AAACCTGCACGGTGTC-1</td>\n",
       "      <td>control</td>\n",
       "      <td>1745</td>\n",
       "      <td>False</td>\n",
       "      <td>False</td>\n",
       "      <td>False</td>\n",
       "      <td>False</td>\n",
       "      <td>NaN</td>\n",
       "      <td>NaN</td>\n",
       "      <td>NaN</td>\n",
       "      <td>...</td>\n",
       "      <td>NaN</td>\n",
       "      <td>NaN</td>\n",
       "      <td>NaN</td>\n",
       "      <td>NaN</td>\n",
       "      <td>NaN</td>\n",
       "      <td>NaN</td>\n",
       "      <td>NaN</td>\n",
       "      <td>NaN</td>\n",
       "      <td>NaN</td>\n",
       "      <td>NaN</td>\n",
       "    </tr>\n",
       "  </tbody>\n",
       "</table>\n",
       "<p>5 rows × 25 columns</p>\n",
       "</div>"
      ],
      "text/plain": [
       "              barcode condition  total_counts  pass_quality_filters  \\\n",
       "0  AAACCTGAGTGCTGCC-1   control          2787                  True   \n",
       "1  AAACCTGAGTGGGTTG-1   control          3325                  True   \n",
       "2  AAACCTGCAAGTCTAC-1   control          1781                 False   \n",
       "3  AAACCTGCAATCTGCA-1   control          3468                  True   \n",
       "4  AAACCTGCACGGTGTC-1   control          1745                 False   \n",
       "\n",
       "   inj_epithelial  ctr_epithelial  excluded_as_immune_or_mesench   class  \\\n",
       "0           False            True                          False  class3   \n",
       "1           False            True                          False  class3   \n",
       "2           False           False                          False     NaN   \n",
       "3           False           False                           True     NaN   \n",
       "4           False           False                          False     NaN   \n",
       "\n",
       "      population phase              ...                 x_control   y_control  \\\n",
       "0       ctr_DEEx    G1              ...                783.705500 -377.074709   \n",
       "1  ctr_upper_IEE    G1              ...                709.612642 -429.409941   \n",
       "2            NaN   NaN              ...                       NaN         NaN   \n",
       "3            NaN   NaN              ...                       NaN         NaN   \n",
       "4            NaN   NaN              ...                       NaN         NaN   \n",
       "\n",
       "  x_class3_exploded  y_class3_exploded x_control_injured  y_control_injured  \\\n",
       "0       1082.172898        -266.303304         709.78614        -325.505019   \n",
       "1        854.230866        -454.025809         529.15516        -471.961493   \n",
       "2               NaN                NaN               NaN                NaN   \n",
       "3               NaN                NaN               NaN                NaN   \n",
       "4               NaN                NaN               NaN                NaN   \n",
       "\n",
       "   x_class1_CTR_cell_cyc_removed  y_class1_CTR_cell_cyc_removed  \\\n",
       "0                            NaN                            NaN   \n",
       "1                            NaN                            NaN   \n",
       "2                            NaN                            NaN   \n",
       "3                            NaN                            NaN   \n",
       "4                            NaN                            NaN   \n",
       "\n",
       "   x_class1_INJ_cell_cyc_removed  y_class1_INJ_cell_cyc_removed  \n",
       "0                            NaN                            NaN  \n",
       "1                            NaN                            NaN  \n",
       "2                            NaN                            NaN  \n",
       "3                            NaN                            NaN  \n",
       "4                            NaN                            NaN  \n",
       "\n",
       "[5 rows x 25 columns]"
      ]
     },
     "execution_count": 7,
     "metadata": {},
     "output_type": "execute_result"
    }
   ],
   "source": [
    "# load cell info\n",
    "obs = pd.read_csv(obspath,sep='\\t',index_col=0)\n",
    "print(obs.shape)\n",
    "obs.head()"
   ]
  },
  {
   "cell_type": "code",
   "execution_count": 8,
   "metadata": {},
   "outputs": [
    {
     "name": "stdout",
     "output_type": "stream",
     "text": [
      "(8594, 27998)\n"
     ]
    }
   ],
   "source": [
    "# load counts\n",
    "adata = sc.read_mtx(countpath)\n",
    "print(adata.shape)\n",
    "\n",
    "# add genes (annotation of variables)\n",
    "adata.var['genes'] = np.loadtxt(genepath,dtype=str)\n",
    "\n",
    "# make sure var names are genes\n",
    "adata.var_names = adata.var['genes'].values\n",
    "\n",
    "# add obs (annotation of observations)\n",
    "adata.obs = obs\n",
    "\n",
    "# make sure index is unique AND a string\n",
    "adata.obs_names_make_unique()\n",
    "adata.obs_names = adata.obs_names.astype(str)"
   ]
  },
  {
   "cell_type": "markdown",
   "metadata": {},
   "source": [
    "## Download cell cycle gene list"
   ]
  },
  {
   "cell_type": "code",
   "execution_count": 14,
   "metadata": {},
   "outputs": [
    {
     "name": "stdout",
     "output_type": "stream",
     "text": [
      "97 97\n"
     ]
    }
   ],
   "source": [
    "#!mkdir -p Seurat_cell_cycle\n",
    "# download cell cycles genes from here:\n",
    "# https://www.dropbox.com/s/3dby3bjsaf5arrw/cell_cycle_vignette_files.zip?dl=1\n",
    "# place into Seural_cell_cycle, unzip\n",
    "\n",
    "ccpath = 'Seurat_cell_cycle/cell_cycle_vignette_files/regev_lab_cell_cycle_genes.txt'\n",
    "cell_cycle_genes = np.loadtxt(ccpath,dtype='str')\n",
    "\n",
    "print(len(cell_cycle_genes),len(set(cell_cycle_genes)))\n",
    "\n",
    "s_genes = cell_cycle_genes[:43]\n",
    "g2m_genes = cell_cycle_genes[43:]"
   ]
  },
  {
   "cell_type": "markdown",
   "metadata": {},
   "source": [
    "### Human-to-mouse gene translation"
   ]
  },
  {
   "cell_type": "code",
   "execution_count": 16,
   "metadata": {},
   "outputs": [
    {
     "name": "stdout",
     "output_type": "stream",
     "text": [
      "mkdir: mouse_human_orthologs: File exists\n",
      "  % Total    % Received % Xferd  Average Speed   Time    Time     Time  Current\n",
      "                                 Dload  Upload   Total   Spent    Left  Speed\n",
      "100 1482k  100 1482k    0     0   215k      0  0:00:06  0:00:06 --:--:--  321k\n"
     ]
    }
   ],
   "source": [
    "# whoops, looks like these are human genes, and I have mouse data\n",
    "# download a mouse-human orthology table fro mgi\n",
    "# in general, for this purpose I want to be permissive\n",
    "\n",
    "#opath = \"http://www.informatics.jax.org/downloads/reports/HMD_HumanPhenotype.rpt\"\n",
    "#toappend = datetime.datetime.now().strftime('%y%m%d_%Hh%M')\n",
    "#!mkdir mouse_human_orthologs\n",
    "#!cd mouse_human_orthologs && curl -LO $opath\n",
    "#!echo \"Downloaded from $opath \\n on $toappend\" > mouse_human_orthologs/readme.txt"
   ]
  },
  {
   "cell_type": "code",
   "execution_count": 17,
   "metadata": {},
   "outputs": [
    {
     "name": "stdout",
     "output_type": "stream",
     "text": [
      "43\n",
      "42\n",
      "42\n",
      "42\n",
      "52\n",
      "52\n",
      "52\n",
      "94\n",
      "94\n"
     ]
    }
   ],
   "source": [
    "oframe = pd.read_csv('mouse_human_orthologs/HMD_HumanPhenotype.rpt',sep='\\t',header=None)\n",
    "\n",
    "# human to mouse dictionary\n",
    "h2m = {}\n",
    "for h,m in zip(oframe[0],oframe[4]):\n",
    "    if h not in h2m:\n",
    "        h2m[h] = []\n",
    "    h2m[h] = h2m[h]+[m]\n",
    "\n",
    "    \n",
    "# translate s_genes\n",
    "# check the length before\n",
    "print(len(s_genes))\n",
    "\n",
    "# translate\n",
    "s_genes = [h2m[i] for i in s_genes if i in h2m]\n",
    "print(len(s_genes)) # if fewer, some human genes were not in the dictionary\n",
    "\n",
    "# flatten\n",
    "s_genes = rz.flatten_list_of_lists(s_genes)\n",
    "print(len(s_genes))\n",
    "\n",
    "# make sure no gene names repeated after translation\n",
    "s_genes = rz.oset(s_genes)\n",
    "print(len(s_genes))\n",
    "\n",
    "# same with g2m_genes\n",
    "g2m_genes = [h2m[i] for i in g2m_genes if i in h2m]\n",
    "print(len(g2m_genes)) # if fewer, some human genes were not in the dictionary\n",
    "\n",
    "# flatten\n",
    "g2m_genes = rz.flatten_list_of_lists(g2m_genes)\n",
    "print(len(g2m_genes))\n",
    "\n",
    "# make sure no gene names repeated after translation\n",
    "g2m_genes = rz.oset(g2m_genes)\n",
    "print(len(g2m_genes))\n",
    "\n",
    "# overwrite cell cycle genes\n",
    "cell_cycle_genes = s_genes + g2m_genes\n",
    "print(len(cell_cycle_genes))\n",
    "cell_cycle_genes = rz.oset(cell_cycle_genes)d\n",
    "print(len(cell_cycle_genes))"
   ]
  },
  {
   "cell_type": "markdown",
   "metadata": {},
   "source": [
    "### Calculate cell cycle scores"
   ]
  },
  {
   "cell_type": "code",
   "execution_count": 18,
   "metadata": {},
   "outputs": [
    {
     "name": "stdout",
     "output_type": "stream",
     "text": [
      "2349\n"
     ]
    }
   ],
   "source": [
    "# select cells to consider...\n",
    "cell_mask = adata.obs['ctr_epithelial'].astype(bool).values\n",
    "print(cell_mask.sum())"
   ]
  },
  {
   "cell_type": "code",
   "execution_count": 19,
   "metadata": {},
   "outputs": [
    {
     "name": "stdout",
     "output_type": "stream",
     "text": [
      "filtered out 11145 genes that are detected in less than 1.0 counts\n"
     ]
    }
   ],
   "source": [
    "# make a copy of adata only focusing on cells of interest\n",
    "cdata = adata[cell_mask,:].copy()\n",
    "\n",
    "# filter out genes with zero counts\n",
    "min_non_zero = cdata.X.data.min()\n",
    "sc.pp.filter_genes(cdata,min_counts=min_non_zero)\n",
    "\n",
    "# scale to 1e4 total counts\n",
    "sc.pp.normalize_per_cell(cdata, counts_per_cell_after=1e4)\n",
    "\n",
    "# log transform\n",
    "sc.pp.log1p(cdata)\n",
    "\n",
    "# zscore\n",
    "sc.pp.scale(cdata)"
   ]
  },
  {
   "cell_type": "code",
   "execution_count": 12,
   "metadata": {},
   "outputs": [
    {
     "name": "stdout",
     "output_type": "stream",
     "text": [
      "filtered out 2017 genes that are detected in less than 0.25150827 counts\n"
     ]
    }
   ],
   "source": [
    "# make a copy of adata only focusing on cells of interest\n",
    "cdata = adata[cell_mask,:].copy()\n",
    "\n",
    "# filter out genes with zero counts\n",
    "min_non_zero = cdata.X.data.min()\n",
    "sc.pp.filter_genes(cdata,min_counts=min_non_zero)\n",
    "\n",
    "# scale to 1e4 total counts\n",
    "sc.pp.normalize_per_cell(cdata, counts_per_cell_after=1e4)\n",
    "\n",
    "# log transform\n",
    "sc.pp.log1p(cdata)\n",
    "\n",
    "# zscore\n",
    "sc.pp.scale(cdata)"
   ]
  },
  {
   "cell_type": "code",
   "execution_count": 20,
   "metadata": {},
   "outputs": [
    {
     "name": "stdout",
     "output_type": "stream",
     "text": [
      "42 52 94\n",
      "42 52 94\n"
     ]
    }
   ],
   "source": [
    "# make sure to only leave those cell cycle genes I have in the reduced dataset\n",
    "print(len(s_genes),len(g2m_genes),len(cell_cycle_genes))\n",
    "s_genes = [i for i in s_genes if i in cdata.var_names]\n",
    "g2m_genes = [i for i in g2m_genes if i in cdata.var_names]\n",
    "cell_cycle_genes = [i for i in cell_cycle_genes if i in cdata.var_names]\n",
    "print(len(s_genes),len(g2m_genes),len(cell_cycle_genes))"
   ]
  },
  {
   "cell_type": "code",
   "execution_count": 33,
   "metadata": {},
   "outputs": [
    {
     "name": "stdout",
     "output_type": "stream",
     "text": [
      "Help on function score_genes in module scanpy.tools.score_genes:\n",
      "\n",
      "score_genes(adata, gene_list, ctrl_size=50, gene_pool=None, n_bins=25, score_name='score', random_state=0, copy=False, use_raw=False)\n",
      "    Score a set of genes [Satija15]_.\n",
      "    \n",
      "    The score is the average expression of a set of genes subtracted with the\n",
      "    average expression of a reference set of genes. The reference set is\n",
      "    randomly sampled from the `gene_pool` for each binned expression value.\n",
      "    \n",
      "    This reproduces the approach in Seurat [Satija15]_ and has been implemented\n",
      "    for Scanpy by Davide Cittaro.\n",
      "    \n",
      "    Parameters\n",
      "    ----------\n",
      "    adata : :class:`~anndata.AnnData`\n",
      "        The annotated data matrix.\n",
      "    gene_list : iterable\n",
      "        The list of gene names used for score calculation.\n",
      "    ctrl_size : `int`, optional (default: 50)\n",
      "        Number of reference genes to be sampled. If `len(gene_list)` is not too\n",
      "        low, you can set `ctrl_size=len(gene_list)`.\n",
      "    gene_pool : `list` or `None`, optional (default: `None`)\n",
      "        Genes for sampling the reference set. Default is all genes.\n",
      "    n_bins : `int`, optional (default: 25)\n",
      "        Number of expression level bins for sampling.\n",
      "    score_name : `str`, optional (default: `'score'`)\n",
      "        Name of the field to be added in `.obs`.\n",
      "    random_state : `int`, optional (default: 0)\n",
      "        The random seed for sampling.\n",
      "    copy : `bool`, optional (default: `False`)\n",
      "        Copy `adata` or modify it inplace.\n",
      "    use_raw : `bool`, optional (default: `False`)\n",
      "        Use `raw` attribute of `adata` if present.\n",
      "    Returns\n",
      "    -------\n",
      "    Depending on `copy`, returns or updates `adata` with an additional field\n",
      "    `score_name`.\n",
      "    \n",
      "    Examples\n",
      "    --------\n",
      "    See this `notebook <https://github.com/theislab/scanpy_usage/tree/master/180209_cell_cycle>`__.\n",
      "\n"
     ]
    }
   ],
   "source": [
    "help(sc.tl.score_genes)"
   ]
  },
  {
   "cell_type": "code",
   "execution_count": 21,
   "metadata": {},
   "outputs": [
    {
     "name": "stdout",
     "output_type": "stream",
     "text": [
      "calculating cell cycle phase\n",
      "computing score 'S_score'\n",
      "    finished (0:00:00.85)\n",
      "computing score 'G2M_score'\n",
      "    finished (0:00:00.76)\n"
     ]
    }
   ],
   "source": [
    "# score cell cycle\n",
    "sc.tl.score_genes_cell_cycle(cdata, s_genes=s_genes, g2m_genes=g2m_genes, random_state=1)"
   ]
  },
  {
   "cell_type": "markdown",
   "metadata": {},
   "source": [
    "# Compare results obtained here to the ones provided on in adata.obs   \n",
    "Slight differences are expected because of the random sampling when calling   \n",
    "sc.tl.score_genes_cell_cycle"
   ]
  },
  {
   "cell_type": "code",
   "execution_count": 41,
   "metadata": {},
   "outputs": [
    {
     "data": {
      "image/png": "[encoded data removed]",
      "text/plain": [
       "<Figure size 150x150 with 1 Axes>"
      ]
     },
     "metadata": {
      "needs_background": "light"
     },
     "output_type": "display_data"
    },
    {
     "data": {
      "image/png": "[encoded data removed]",
      "text/plain": [
       "<Figure size 150x150 with 1 Axes>"
      ]
     },
     "metadata": {
      "needs_background": "light"
     },
     "output_type": "display_data"
    }
   ],
   "source": [
    "label = 'S_score'\n",
    "x = adata[cell_mask].obs[label]\n",
    "y = cdata.obs[label]\n",
    "\n",
    "plt.figure(figsize=(1,1))\n",
    "plt.scatter(x,y,s=1)\n",
    "plt.xlabel('as provided on GEO')\n",
    "plt.ylabel('recreated here')\n",
    "plt.title(label)\n",
    "plt.show()\n",
    "\n",
    "\n",
    "label = 'G2M_score'\n",
    "x = adata[cell_mask].obs[label]\n",
    "y = cdata.obs[label]\n",
    "\n",
    "plt.figure(figsize=(1,1))\n",
    "plt.scatter(x,y,s=1)\n",
    "plt.xlabel('as provided on GEO')\n",
    "plt.ylabel('recreated here')\n",
    "plt.title(label)\n",
    "plt.show()"
   ]
  },
  {
   "cell_type": "code",
   "execution_count": 48,
   "metadata": {},
   "outputs": [
    {
     "name": "stdout",
     "output_type": "stream",
     "text": [
      "50 cells out of 2349 receive a different phase label\n"
     ]
    }
   ],
   "source": [
    "mismatches = adata[cell_mask].obs['phase'].values != cdata.obs['phase'].values\n",
    "print(\"%d cells out of %d receive a different phase label\"%(mismatches.sum(),len(mismatches)))"
   ]
  }
 ],
 "metadata": {
  "kernelspec": {
   "display_name": "Python 3",
   "language": "python",
   "name": "python3"
  },
  "language_info": {
   "codemirror_mode": {
    "name": "ipython",
    "version": 3
   },
   "file_extension": ".py",
   "mimetype": "text/x-python",
   "name": "python",
   "nbconvert_exporter": "python",
   "pygments_lexer": "ipython3",
   "version": "3.6.7"
  }
 },
 "nbformat": 4,
 "nbformat_minor": 2
}

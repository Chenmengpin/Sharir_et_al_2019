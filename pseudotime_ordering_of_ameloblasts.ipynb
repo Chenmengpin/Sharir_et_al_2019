{
 "cells": [
  {
   "cell_type": "markdown",
   "metadata": {},
   "source": [
    "# Order ameloblasts by pseudotime   \n",
    "See https://github.com/AllonKleinLab/PBA and [1] for more details on the \"potential\" value used to order ameloblasts.\n",
    "\n",
    "\n",
    "[1] Weinreb C, Wolock S, Tusi BK, Socolovsky M, Klein AM. Fundamental limits on dynamic inference from single-cell snapshots. Proc Natl Acad Sci U S A. 2018 Mar 6;115(10):E2467–76."
   ]
  },
  {
   "cell_type": "code",
   "execution_count": 1,
   "metadata": {},
   "outputs": [],
   "source": [
    "import os,sys\n",
    "import datetime"
   ]
  },
  {
   "cell_type": "markdown",
   "metadata": {},
   "source": [
    "### Import scanpy"
   ]
  },
  {
   "cell_type": "code",
   "execution_count": 2,
   "metadata": {},
   "outputs": [
    {
     "name": "stdout",
     "output_type": "stream",
     "text": [
      "scanpy==1.3.4 anndata==0.6.13 numpy==1.15.4 scipy==1.1.0 pandas==0.23.4 scikit-learn==0.20.1 statsmodels==0.9.0 python-igraph==0.7.1 louvain==0.6.1 \n",
      "Memory usage: current 0.17 GB, difference +0.17 GB\n"
     ]
    }
   ],
   "source": [
    "import scanpy.api as sc\n",
    "sc.logging.print_versions()\n",
    "sc.logging.print_memory_usage()\n",
    "sc.settings.verbosity = 2"
   ]
  },
  {
   "cell_type": "markdown",
   "metadata": {},
   "source": [
    "### Import my utility functions and import statements from github"
   ]
  },
  {
   "cell_type": "code",
   "execution_count": 3,
   "metadata": {},
   "outputs": [
    {
     "data": {
      "text/plain": [
       "'# This cell is run once to download my custom functions and import statements from github\\n\\n!git clone --depth=1 https://github.com/rapolaszilionis/utility_functions\\n    \\n# github doesn\\'t seem to have an option to download a specific version of the repo from the history.\\n# So I download my utility functions and save the download time by appending it to the directory name.\\n# These utility functions to be shared together with the notebook.\\n\\ntoappend = datetime.datetime.now().strftime(\\'%y%m%d_%Hh%M\\')\\nnewname = \"utility_functions_%s\"%toappend\\nprint(newname)\\n\\n\\n# rename the py file with utility functions\\nos.rename(\"utility_functions\",newname)'"
      ]
     },
     "execution_count": 3,
     "metadata": {},
     "output_type": "execute_result"
    }
   ],
   "source": [
    "\"\"\"# This cell is run once to download my custom functions and import statements from github\n",
    "\n",
    "!git clone --depth=1 https://github.com/rapolaszilionis/utility_functions\n",
    "    \n",
    "# github doesn't seem to have an option to download a specific version of the repo from the history.\n",
    "# So I download my utility functions and save the download time by appending it to the directory name.\n",
    "# These utility functions to be shared together with the notebook.\n",
    "\n",
    "toappend = datetime.datetime.now().strftime('%y%m%d_%Hh%M')\n",
    "newname = \"utility_functions_%s\"%toappend\n",
    "print(newname)\n",
    "\n",
    "\n",
    "# rename the py file with utility functions\n",
    "os.rename(\"utility_functions\",newname)\"\"\""
   ]
  },
  {
   "cell_type": "code",
   "execution_count": 4,
   "metadata": {},
   "outputs": [
    {
     "name": "stdout",
     "output_type": "stream",
     "text": [
      "python version: 3.6.7\n"
     ]
    }
   ],
   "source": [
    "# add the utility function folder to PATH\n",
    "sys.path.append(os.path.abspath(\"utility_functions_190425_11h32\"))\n",
    "\n",
    "from rz_import_statements import *\n",
    "import rz_functions as rz\n",
    "import rz_fig_params # this adjust mpl.rcParams, almost nothing to import\n",
    "import rz_utility_spring as srz"
   ]
  },
  {
   "cell_type": "markdown",
   "metadata": {},
   "source": [
    "# Load data and place into an annData object"
   ]
  },
  {
   "cell_type": "code",
   "execution_count": 5,
   "metadata": {},
   "outputs": [
    {
     "name": "stdout",
     "output_type": "stream",
     "text": [
      "cell_info_8594x25.tsv         injury_barcodes.tsv\r\n",
      "control_barcodes.tsv          injury_genes.tsv\r\n",
      "control_genes.tsv             injury_loom.loom\r\n",
      "control_loom.loom             injury_matrix.mtx\r\n",
      "control_matrix.mtx            raw_counts_8594x27998.mtx\r\n",
      "gene_names_alphabetically.txt\r\n"
     ]
    }
   ],
   "source": [
    "!ls data_from_geo"
   ]
  },
  {
   "cell_type": "code",
   "execution_count": 6,
   "metadata": {},
   "outputs": [],
   "source": [
    "obspath = 'data_from_geo/cell_info_8594x25.tsv'\n",
    "countpath = 'data_from_geo/raw_counts_8594x27998.mtx'\n",
    "genepath = 'data_from_geo/gene_names_alphabetically.txt'"
   ]
  },
  {
   "cell_type": "code",
   "execution_count": 7,
   "metadata": {},
   "outputs": [
    {
     "name": "stdout",
     "output_type": "stream",
     "text": [
      "(8594, 25)\n"
     ]
    },
    {
     "data": {
      "text/html": [
       "<div>\n",
       "<style scoped>\n",
       "    .dataframe tbody tr th:only-of-type {\n",
       "        vertical-align: middle;\n",
       "    }\n",
       "\n",
       "    .dataframe tbody tr th {\n",
       "        vertical-align: top;\n",
       "    }\n",
       "\n",
       "    .dataframe thead th {\n",
       "        text-align: right;\n",
       "    }\n",
       "</style>\n",
       "<table border=\"1\" class=\"dataframe\">\n",
       "  <thead>\n",
       "    <tr style=\"text-align: right;\">\n",
       "      <th></th>\n",
       "      <th>barcode</th>\n",
       "      <th>condition</th>\n",
       "      <th>total_counts</th>\n",
       "      <th>pass_quality_filters</th>\n",
       "      <th>inj_epithelial</th>\n",
       "      <th>ctr_epithelial</th>\n",
       "      <th>excluded_as_immune_or_mesench</th>\n",
       "      <th>class</th>\n",
       "      <th>population</th>\n",
       "      <th>phase</th>\n",
       "      <th>...</th>\n",
       "      <th>x_control</th>\n",
       "      <th>y_control</th>\n",
       "      <th>x_class3_exploded</th>\n",
       "      <th>y_class3_exploded</th>\n",
       "      <th>x_control_injured</th>\n",
       "      <th>y_control_injured</th>\n",
       "      <th>x_class1_CTR_cell_cyc_removed</th>\n",
       "      <th>y_class1_CTR_cell_cyc_removed</th>\n",
       "      <th>x_class1_INJ_cell_cyc_removed</th>\n",
       "      <th>y_class1_INJ_cell_cyc_removed</th>\n",
       "    </tr>\n",
       "  </thead>\n",
       "  <tbody>\n",
       "    <tr>\n",
       "      <th>0</th>\n",
       "      <td>AAACCTGAGTGCTGCC-1</td>\n",
       "      <td>control</td>\n",
       "      <td>2787</td>\n",
       "      <td>True</td>\n",
       "      <td>False</td>\n",
       "      <td>True</td>\n",
       "      <td>False</td>\n",
       "      <td>class3</td>\n",
       "      <td>ctr_DEEx</td>\n",
       "      <td>G1</td>\n",
       "      <td>...</td>\n",
       "      <td>783.705500</td>\n",
       "      <td>-377.074709</td>\n",
       "      <td>1082.172898</td>\n",
       "      <td>-266.303304</td>\n",
       "      <td>709.78614</td>\n",
       "      <td>-325.505019</td>\n",
       "      <td>NaN</td>\n",
       "      <td>NaN</td>\n",
       "      <td>NaN</td>\n",
       "      <td>NaN</td>\n",
       "    </tr>\n",
       "    <tr>\n",
       "      <th>1</th>\n",
       "      <td>AAACCTGAGTGGGTTG-1</td>\n",
       "      <td>control</td>\n",
       "      <td>3325</td>\n",
       "      <td>True</td>\n",
       "      <td>False</td>\n",
       "      <td>True</td>\n",
       "      <td>False</td>\n",
       "      <td>class3</td>\n",
       "      <td>ctr_upper_IEE</td>\n",
       "      <td>G1</td>\n",
       "      <td>...</td>\n",
       "      <td>709.612642</td>\n",
       "      <td>-429.409941</td>\n",
       "      <td>854.230866</td>\n",
       "      <td>-454.025809</td>\n",
       "      <td>529.15516</td>\n",
       "      <td>-471.961493</td>\n",
       "      <td>NaN</td>\n",
       "      <td>NaN</td>\n",
       "      <td>NaN</td>\n",
       "      <td>NaN</td>\n",
       "    </tr>\n",
       "    <tr>\n",
       "      <th>2</th>\n",
       "      <td>AAACCTGCAAGTCTAC-1</td>\n",
       "      <td>control</td>\n",
       "      <td>1781</td>\n",
       "      <td>False</td>\n",
       "      <td>False</td>\n",
       "      <td>False</td>\n",
       "      <td>False</td>\n",
       "      <td>NaN</td>\n",
       "      <td>NaN</td>\n",
       "      <td>NaN</td>\n",
       "      <td>...</td>\n",
       "      <td>NaN</td>\n",
       "      <td>NaN</td>\n",
       "      <td>NaN</td>\n",
       "      <td>NaN</td>\n",
       "      <td>NaN</td>\n",
       "      <td>NaN</td>\n",
       "      <td>NaN</td>\n",
       "      <td>NaN</td>\n",
       "      <td>NaN</td>\n",
       "      <td>NaN</td>\n",
       "    </tr>\n",
       "    <tr>\n",
       "      <th>3</th>\n",
       "      <td>AAACCTGCAATCTGCA-1</td>\n",
       "      <td>control</td>\n",
       "      <td>3468</td>\n",
       "      <td>True</td>\n",
       "      <td>False</td>\n",
       "      <td>False</td>\n",
       "      <td>True</td>\n",
       "      <td>NaN</td>\n",
       "      <td>NaN</td>\n",
       "      <td>NaN</td>\n",
       "      <td>...</td>\n",
       "      <td>NaN</td>\n",
       "      <td>NaN</td>\n",
       "      <td>NaN</td>\n",
       "      <td>NaN</td>\n",
       "      <td>NaN</td>\n",
       "      <td>NaN</td>\n",
       "      <td>NaN</td>\n",
       "      <td>NaN</td>\n",
       "      <td>NaN</td>\n",
       "      <td>NaN</td>\n",
       "    </tr>\n",
       "    <tr>\n",
       "      <th>4</th>\n",
       "      <td>AAACCTGCACGGTGTC-1</td>\n",
       "      <td>control</td>\n",
       "      <td>1745</td>\n",
       "      <td>False</td>\n",
       "      <td>False</td>\n",
       "      <td>False</td>\n",
       "      <td>False</td>\n",
       "      <td>NaN</td>\n",
       "      <td>NaN</td>\n",
       "      <td>NaN</td>\n",
       "      <td>...</td>\n",
       "      <td>NaN</td>\n",
       "      <td>NaN</td>\n",
       "      <td>NaN</td>\n",
       "      <td>NaN</td>\n",
       "      <td>NaN</td>\n",
       "      <td>NaN</td>\n",
       "      <td>NaN</td>\n",
       "      <td>NaN</td>\n",
       "      <td>NaN</td>\n",
       "      <td>NaN</td>\n",
       "    </tr>\n",
       "  </tbody>\n",
       "</table>\n",
       "<p>5 rows × 25 columns</p>\n",
       "</div>"
      ],
      "text/plain": [
       "              barcode condition  total_counts  pass_quality_filters  \\\n",
       "0  AAACCTGAGTGCTGCC-1   control          2787                  True   \n",
       "1  AAACCTGAGTGGGTTG-1   control          3325                  True   \n",
       "2  AAACCTGCAAGTCTAC-1   control          1781                 False   \n",
       "3  AAACCTGCAATCTGCA-1   control          3468                  True   \n",
       "4  AAACCTGCACGGTGTC-1   control          1745                 False   \n",
       "\n",
       "   inj_epithelial  ctr_epithelial  excluded_as_immune_or_mesench   class  \\\n",
       "0           False            True                          False  class3   \n",
       "1           False            True                          False  class3   \n",
       "2           False           False                          False     NaN   \n",
       "3           False           False                           True     NaN   \n",
       "4           False           False                          False     NaN   \n",
       "\n",
       "      population phase              ...                 x_control   y_control  \\\n",
       "0       ctr_DEEx    G1              ...                783.705500 -377.074709   \n",
       "1  ctr_upper_IEE    G1              ...                709.612642 -429.409941   \n",
       "2            NaN   NaN              ...                       NaN         NaN   \n",
       "3            NaN   NaN              ...                       NaN         NaN   \n",
       "4            NaN   NaN              ...                       NaN         NaN   \n",
       "\n",
       "  x_class3_exploded  y_class3_exploded x_control_injured  y_control_injured  \\\n",
       "0       1082.172898        -266.303304         709.78614        -325.505019   \n",
       "1        854.230866        -454.025809         529.15516        -471.961493   \n",
       "2               NaN                NaN               NaN                NaN   \n",
       "3               NaN                NaN               NaN                NaN   \n",
       "4               NaN                NaN               NaN                NaN   \n",
       "\n",
       "   x_class1_CTR_cell_cyc_removed  y_class1_CTR_cell_cyc_removed  \\\n",
       "0                            NaN                            NaN   \n",
       "1                            NaN                            NaN   \n",
       "2                            NaN                            NaN   \n",
       "3                            NaN                            NaN   \n",
       "4                            NaN                            NaN   \n",
       "\n",
       "   x_class1_INJ_cell_cyc_removed  y_class1_INJ_cell_cyc_removed  \n",
       "0                            NaN                            NaN  \n",
       "1                            NaN                            NaN  \n",
       "2                            NaN                            NaN  \n",
       "3                            NaN                            NaN  \n",
       "4                            NaN                            NaN  \n",
       "\n",
       "[5 rows x 25 columns]"
      ]
     },
     "execution_count": 7,
     "metadata": {},
     "output_type": "execute_result"
    }
   ],
   "source": [
    "# load cell info\n",
    "obs = pd.read_csv(obspath,sep='\\t',index_col=0)\n",
    "print(obs.shape)\n",
    "obs.head()"
   ]
  },
  {
   "cell_type": "code",
   "execution_count": 8,
   "metadata": {},
   "outputs": [
    {
     "name": "stdout",
     "output_type": "stream",
     "text": [
      "(8594, 27998)\n"
     ]
    }
   ],
   "source": [
    "# load counts\n",
    "adata = sc.read_mtx(countpath)\n",
    "print(adata.shape)\n",
    "\n",
    "# add genes (annotation of variables)\n",
    "adata.var['genes'] = np.loadtxt(genepath,dtype=str)\n",
    "\n",
    "# make sure var names are genes\n",
    "adata.var_names = adata.var['genes'].values\n",
    "\n",
    "# add obs (annotation of observations)\n",
    "adata.obs = obs\n",
    "\n",
    "# make sure index is unique AND a string\n",
    "adata.obs_names_make_unique()\n",
    "adata.obs_names = adata.obs_names.astype(str)"
   ]
  },
  {
   "cell_type": "markdown",
   "metadata": {},
   "source": [
    "### Scale (normalize) data"
   ]
  },
  {
   "cell_type": "code",
   "execution_count": 9,
   "metadata": {
    "scrolled": true
   },
   "outputs": [
    {
     "name": "stdout",
     "output_type": "stream",
     "text": [
      "[[2787.]\n",
      " [3325.]\n",
      " [1781.]\n",
      " [3468.]\n",
      " [1745.]]\n",
      "\n",
      "[[10000.   ]\n",
      " [10000.   ]\n",
      " [10000.001]\n",
      " [10000.   ]\n",
      " [ 9999.999]]\n"
     ]
    }
   ],
   "source": [
    "# turn into counts per 10k\n",
    "print(adata.X[:5,:].sum(axis=1))\n",
    "print()\n",
    "sc.pp.normalize_per_cell(adata, counts_per_cell_after=1e4)\n",
    "print(adata.X[:5,:].sum(axis=1))"
   ]
  },
  {
   "cell_type": "code",
   "execution_count": 10,
   "metadata": {},
   "outputs": [],
   "source": [
    "# in SPRING, manually select:\n",
    "# 1) ameloblast and pre-ameloblast, download their coordinates and graph data\n",
    "# 2) select cell that are the source.Download coordiantes.\n",
    "# 3) cells that are the sink. Download coordinates"
   ]
  },
  {
   "cell_type": "code",
   "execution_count": 11,
   "metadata": {},
   "outputs": [],
   "source": [
    "project_dir = 'SPRING_dev-master/datasets/Sharir_et_al_2019/'\n",
    "plot_name = 'control_epithelial'"
   ]
  },
  {
   "cell_type": "code",
   "execution_count": 12,
   "metadata": {},
   "outputs": [
    {
     "name": "stdout",
     "output_type": "stream",
     "text": [
      "(2349, 2349)\n"
     ]
    }
   ],
   "source": [
    "# load full graph\n",
    "G0 = srz.read_spring_graph(project_dir+plot_name).toarray()\n",
    "print(G0.shape)"
   ]
  },
  {
   "cell_type": "code",
   "execution_count": 13,
   "metadata": {},
   "outputs": [
    {
     "name": "stdout",
     "output_type": "stream",
     "text": [
      "['ctr_AMB_dist', 'ctr_AMB_prox', 'ctr_DEEx', 'ctr_G2_M', 'ctr_ISR_SI', 'ctr_M_G1', 'ctr_OEE_1', 'ctr_OEE_2', 'ctr_OEE_IEE', 'ctr_OSR', 'ctr_S', 'ctr_SI', 'ctr_VEE', 'ctr_pre_AMB', 'ctr_upper_IEE']\n",
      "431 2349\n"
     ]
    }
   ],
   "source": [
    "# cell grouping to select ameloblasts and pre-ameloblastas specifically:\n",
    "cg = srz.read_cell_groupings(project_dir+plot_name+'/categorical_coloring_data.json')\n",
    "clusters = np.array(cg['population']['label_list'])\n",
    "\n",
    "print(sorted(set(clusters)))\n",
    "toselect = ['ctr_AMB_dist','ctr_AMB_prox','ctr_pre_AMB']\n",
    "\n",
    "cmask1 = np.in1d(clusters,toselect)\n",
    "print(cmask1.sum(),len(cmask1))"
   ]
  },
  {
   "cell_type": "code",
   "execution_count": 14,
   "metadata": {},
   "outputs": [
    {
     "name": "stdout",
     "output_type": "stream",
     "text": [
      "(431, 431)\n"
     ]
    }
   ],
   "source": [
    "# select only cells of interest in the graph:\n",
    "G = G0[cmask1,:][:,cmask1]\n",
    "print(G.shape)"
   ]
  },
  {
   "cell_type": "code",
   "execution_count": 15,
   "metadata": {},
   "outputs": [
    {
     "name": "stdout",
     "output_type": "stream",
     "text": [
      "431 (431, 431)\n",
      "-0.2 0.020833333333333332 -4.0939474033052647e-16 431\n"
     ]
    }
   ],
   "source": [
    "# I've manually selected source in sink cell directly in spring, and downloaded the cell indexes\n",
    "# based on general knowledge on the system and on velocyto results, the choice of source and sink is\n",
    "# obvious\n",
    "\n",
    "# prepare the source-sink vector: negative sign for sink, positive for source\n",
    "# must sum to 1\n",
    "\n",
    "R = adata.obs['source_sink_for_pseudotime'].fillna(0).values\n",
    "sourcemask = R == 'source'\n",
    "sinkmask = R == 'sink'\n",
    "R[sourcemask] = 1/sum(sourcemask)\n",
    "R[sinkmask] = -1/sum(sinkmask)\n",
    "\n",
    "# select cells to order:\n",
    "cell_mask = adata.obs['population'].isin(toselect).values\n",
    "R = R[cell_mask]\n",
    "print(len(R),G.shape)\n",
    "print(R.min(),R.max(),R.sum(),len(R))"
   ]
  },
  {
   "cell_type": "code",
   "execution_count": 16,
   "metadata": {},
   "outputs": [],
   "source": [
    "# copying individual steps of using in population-balance-analysis to calculate the potential\n",
    "# https://github.com/AllonKleinLab/PBA/\n",
    "\n",
    "def row_sum_normalize(A):\n",
    "    s = np.sum(A,axis=1)\n",
    "    X,Y = np.meshgrid(s,s)\n",
    "    A = A / Y\n",
    "    return A\n",
    "\n",
    "# Make Laplacian matrix\n",
    "L = np.identity(G.shape[0]) - row_sum_normalize(G)\n",
    "\n",
    "# Invert graph Laplacian\n",
    "Linv = np.linalg.pinv(L)\n",
    "\n",
    "# Compute the potential\n",
    "V = np.dot(Linv, R)"
   ]
  },
  {
   "cell_type": "code",
   "execution_count": 17,
   "metadata": {},
   "outputs": [],
   "source": [
    "# turn into rank\n",
    "vrank = scipy.stats.rankdata(V*(-1),'ordinal')"
   ]
  },
  {
   "cell_type": "code",
   "execution_count": 18,
   "metadata": {},
   "outputs": [
    {
     "data": {
      "text/plain": [
       "<matplotlib.collections.PathCollection at 0x1c263652b0>"
      ]
     },
     "execution_count": 18,
     "metadata": {},
     "output_type": "execute_result"
    },
    {
     "name": "stderr",
     "output_type": "stream",
     "text": [
      "/Users/rapolaszilionis/anaconda3/lib/python3.6/site-packages/matplotlib/font_manager.py:1241: UserWarning: findfont: Font family ['Myriad Pro'] not found. Falling back to DejaVu Sans.\n",
      "  (prop.get_family(), self.defaultFamily[fontext]))\n"
     ]
    },
    {
     "data": {
      "image/png": "[encoded data removed]",
      "text/plain": [
       "<Figure size 295.276x295.276 with 1 Axes>"
      ]
     },
     "metadata": {
      "needs_background": "light"
     },
     "output_type": "display_data"
    }
   ],
   "source": [
    "# check that ordering is as expected\n",
    "\n",
    "coo = pd.read_csv(project_dir+plot_name+'/coordinates.txt',header=None,index_col=0)\n",
    "x = coo[cmask1][1].values\n",
    "y = -coo[cmask1][2].values\n",
    "\n",
    "a,fig,gs=rz.startfig(5,5)\n",
    "a.scatter(x,y,\n",
    "          c=vrank,\n",
    "         )"
   ]
  },
  {
   "cell_type": "code",
   "execution_count": 19,
   "metadata": {},
   "outputs": [
    {
     "data": {
      "text/plain": [
       "True"
      ]
     },
     "execution_count": 19,
     "metadata": {},
     "output_type": "execute_result"
    }
   ],
   "source": [
    "# cell ordering is store in adata.obs under 'pseudotime_cell_order'\n",
    "# confirm that the ordering is successfully recreated\n",
    "np.allclose(vrank,adata[cell_mask].obs['pseudotime_cell_order'].astype(int).values)"
   ]
  },
  {
   "cell_type": "code",
   "execution_count": 20,
   "metadata": {},
   "outputs": [
    {
     "data": {
      "image/png": "[encoded data removed]",
      "text/plain": [
       "<Figure size 118.11x295.276 with 1 Axes>"
      ]
     },
     "metadata": {},
     "output_type": "display_data"
    }
   ],
   "source": [
    "# plot source and sink:\n",
    "a,fig,gs=rz.startfig(2,5,frameon=False)\n",
    "a.scatter(x,y,\n",
    "          c='0.8',   \n",
    "          s = 5,\n",
    "          lw=0,\n",
    "         )\n",
    "\n",
    "a.set_xticks([])\n",
    "a.set_yticks([])\n",
    "blackmask = R!=0\n",
    "a.scatter(x[blackmask],y[blackmask],\n",
    "          c='0',   \n",
    "          s = 5,\n",
    "         )\n",
    "\n",
    "gs.tight_layout(fig)"
   ]
  },
  {
   "cell_type": "markdown",
   "metadata": {},
   "source": [
    "# Order cells, get moving average"
   ]
  },
  {
   "cell_type": "code",
   "execution_count": 21,
   "metadata": {},
   "outputs": [],
   "source": [
    "def get_error(v,zeros_special=True):\n",
    "    \n",
    "    \"\"\"\n",
    "    for values in v, get the mean-sem and mean+sem,\n",
    "    if zeros_special is True, will replace sem with 1/window size if mean == 0\n",
    "    \n",
    "    Error are truncated below zero\n",
    "    \"\"\"\n",
    "\n",
    "    themean = np.mean(v)\n",
    "    if themean == 0.:\n",
    "        return [0.,1./len(v)]\n",
    "    else:\n",
    "        \n",
    "        er = scipy.stats.sem(v)\n",
    "        interv = [themean-er,themean+er]\n",
    "        \n",
    "        if interv[0]<0:\n",
    "            interv[0]=0\n",
    "        return interv\n",
    "\n",
    "    \n",
    "\n",
    "def moving_average(ocounts,m,get_conf_int=False):\n",
    "    \n",
    "    \"\"\"\n",
    "    ocounts - ordered counts pandas dataframe, cells are columns. Original size is (h,w)\n",
    "    m - window size\n",
    "    returns a pandas dataframe of size (w,w-m+1)\n",
    "    \"\"\"\n",
    "    \n",
    "    res = []\n",
    "    (h,w) = ocounts.shape\n",
    "    \n",
    "    \n",
    "    for i_start in range(w-m+1):\n",
    "        if i_start/1000. == int(i_start/1000):\n",
    "            print(i_start)\n",
    "        i_end = i_start+m\n",
    "        chunk = ocounts.iloc[:,i_start:i_end]\n",
    "        if get_conf_int==True:\n",
    "            res.append(chunk.apply(lambda x:get_error(x),axis=1))\n",
    "        else:\n",
    "            res.append(chunk.mean(axis=1))\n",
    "    return pd.DataFrame(res).T"
   ]
  },
  {
   "cell_type": "markdown",
   "metadata": {},
   "source": [
    "# Get a dataframe of counts ordered by potential"
   ]
  },
  {
   "cell_type": "code",
   "execution_count": 22,
   "metadata": {},
   "outputs": [],
   "source": [
    "# select counts, filter on expression level\n",
    "cmask = adata.obs['population'].isin(toselect).values\n",
    "E = adata[cmask].X\n",
    "\n",
    "# place into a pandas dataframe (make dense on the way)\n",
    "order = np.argsort(vrank)\n",
    "ocounts = pd.DataFrame(E.toarray()[order,:],columns = adata.var_names)"
   ]
  },
  {
   "cell_type": "code",
   "execution_count": 23,
   "metadata": {},
   "outputs": [
    {
     "data": {
      "text/html": [
       "<div>\n",
       "<style scoped>\n",
       "    .dataframe tbody tr th:only-of-type {\n",
       "        vertical-align: middle;\n",
       "    }\n",
       "\n",
       "    .dataframe tbody tr th {\n",
       "        vertical-align: top;\n",
       "    }\n",
       "\n",
       "    .dataframe thead th {\n",
       "        text-align: right;\n",
       "    }\n",
       "</style>\n",
       "<table border=\"1\" class=\"dataframe\">\n",
       "  <thead>\n",
       "    <tr style=\"text-align: right;\">\n",
       "      <th></th>\n",
       "      <th>0610007P14Rik</th>\n",
       "      <th>0610009B22Rik</th>\n",
       "      <th>0610009L18Rik</th>\n",
       "      <th>0610009O20Rik</th>\n",
       "      <th>0610010F05Rik</th>\n",
       "      <th>0610010K14Rik</th>\n",
       "      <th>0610011F06Rik</th>\n",
       "      <th>0610012D04Rik</th>\n",
       "      <th>0610012G03Rik</th>\n",
       "      <th>0610025J13Rik</th>\n",
       "      <th>...</th>\n",
       "      <th>mt-Co2</th>\n",
       "      <th>mt-Co3</th>\n",
       "      <th>mt-Cytb</th>\n",
       "      <th>mt-Nd1</th>\n",
       "      <th>mt-Nd2</th>\n",
       "      <th>mt-Nd3</th>\n",
       "      <th>mt-Nd4</th>\n",
       "      <th>mt-Nd4l</th>\n",
       "      <th>mt-Nd5</th>\n",
       "      <th>mt-Nd6</th>\n",
       "    </tr>\n",
       "  </thead>\n",
       "  <tbody>\n",
       "    <tr>\n",
       "      <th>0</th>\n",
       "      <td>0.000000</td>\n",
       "      <td>0.000000</td>\n",
       "      <td>0.0</td>\n",
       "      <td>0.0</td>\n",
       "      <td>0.0</td>\n",
       "      <td>0.0</td>\n",
       "      <td>0.000000</td>\n",
       "      <td>0.0</td>\n",
       "      <td>3.397893</td>\n",
       "      <td>0.0</td>\n",
       "      <td>...</td>\n",
       "      <td>10.193680</td>\n",
       "      <td>132.517838</td>\n",
       "      <td>81.549438</td>\n",
       "      <td>33.978935</td>\n",
       "      <td>3.397893</td>\n",
       "      <td>0.0</td>\n",
       "      <td>23.785254</td>\n",
       "      <td>3.397893</td>\n",
       "      <td>6.795787</td>\n",
       "      <td>0.0</td>\n",
       "    </tr>\n",
       "    <tr>\n",
       "      <th>1</th>\n",
       "      <td>0.000000</td>\n",
       "      <td>2.772387</td>\n",
       "      <td>0.0</td>\n",
       "      <td>0.0</td>\n",
       "      <td>0.0</td>\n",
       "      <td>0.0</td>\n",
       "      <td>2.772387</td>\n",
       "      <td>0.0</td>\n",
       "      <td>0.000000</td>\n",
       "      <td>0.0</td>\n",
       "      <td>...</td>\n",
       "      <td>11.089548</td>\n",
       "      <td>66.537292</td>\n",
       "      <td>49.902966</td>\n",
       "      <td>30.496258</td>\n",
       "      <td>0.000000</td>\n",
       "      <td>0.0</td>\n",
       "      <td>8.317162</td>\n",
       "      <td>2.772387</td>\n",
       "      <td>0.000000</td>\n",
       "      <td>0.0</td>\n",
       "    </tr>\n",
       "    <tr>\n",
       "      <th>2</th>\n",
       "      <td>0.000000</td>\n",
       "      <td>0.000000</td>\n",
       "      <td>0.0</td>\n",
       "      <td>0.0</td>\n",
       "      <td>0.0</td>\n",
       "      <td>0.0</td>\n",
       "      <td>0.000000</td>\n",
       "      <td>0.0</td>\n",
       "      <td>0.000000</td>\n",
       "      <td>0.0</td>\n",
       "      <td>...</td>\n",
       "      <td>23.696684</td>\n",
       "      <td>94.786736</td>\n",
       "      <td>35.545025</td>\n",
       "      <td>17.772512</td>\n",
       "      <td>5.924171</td>\n",
       "      <td>0.0</td>\n",
       "      <td>29.620855</td>\n",
       "      <td>2.962085</td>\n",
       "      <td>0.000000</td>\n",
       "      <td>0.0</td>\n",
       "    </tr>\n",
       "    <tr>\n",
       "      <th>3</th>\n",
       "      <td>5.485464</td>\n",
       "      <td>0.000000</td>\n",
       "      <td>0.0</td>\n",
       "      <td>0.0</td>\n",
       "      <td>0.0</td>\n",
       "      <td>0.0</td>\n",
       "      <td>5.485464</td>\n",
       "      <td>0.0</td>\n",
       "      <td>5.485464</td>\n",
       "      <td>0.0</td>\n",
       "      <td>...</td>\n",
       "      <td>16.456390</td>\n",
       "      <td>65.825562</td>\n",
       "      <td>38.398247</td>\n",
       "      <td>16.456390</td>\n",
       "      <td>5.485464</td>\n",
       "      <td>0.0</td>\n",
       "      <td>16.456390</td>\n",
       "      <td>0.000000</td>\n",
       "      <td>0.000000</td>\n",
       "      <td>0.0</td>\n",
       "    </tr>\n",
       "    <tr>\n",
       "      <th>4</th>\n",
       "      <td>7.530120</td>\n",
       "      <td>0.000000</td>\n",
       "      <td>0.0</td>\n",
       "      <td>0.0</td>\n",
       "      <td>0.0</td>\n",
       "      <td>0.0</td>\n",
       "      <td>0.000000</td>\n",
       "      <td>0.0</td>\n",
       "      <td>3.765060</td>\n",
       "      <td>0.0</td>\n",
       "      <td>...</td>\n",
       "      <td>18.825300</td>\n",
       "      <td>86.596382</td>\n",
       "      <td>60.240963</td>\n",
       "      <td>18.825300</td>\n",
       "      <td>7.530120</td>\n",
       "      <td>0.0</td>\n",
       "      <td>26.355421</td>\n",
       "      <td>0.000000</td>\n",
       "      <td>3.765060</td>\n",
       "      <td>0.0</td>\n",
       "    </tr>\n",
       "  </tbody>\n",
       "</table>\n",
       "<p>5 rows × 27998 columns</p>\n",
       "</div>"
      ],
      "text/plain": [
       "   0610007P14Rik  0610009B22Rik  0610009L18Rik  0610009O20Rik  0610010F05Rik  \\\n",
       "0       0.000000       0.000000            0.0            0.0            0.0   \n",
       "1       0.000000       2.772387            0.0            0.0            0.0   \n",
       "2       0.000000       0.000000            0.0            0.0            0.0   \n",
       "3       5.485464       0.000000            0.0            0.0            0.0   \n",
       "4       7.530120       0.000000            0.0            0.0            0.0   \n",
       "\n",
       "   0610010K14Rik  0610011F06Rik  0610012D04Rik  0610012G03Rik  0610025J13Rik  \\\n",
       "0            0.0       0.000000            0.0       3.397893            0.0   \n",
       "1            0.0       2.772387            0.0       0.000000            0.0   \n",
       "2            0.0       0.000000            0.0       0.000000            0.0   \n",
       "3            0.0       5.485464            0.0       5.485464            0.0   \n",
       "4            0.0       0.000000            0.0       3.765060            0.0   \n",
       "\n",
       "    ...       mt-Co2      mt-Co3    mt-Cytb     mt-Nd1    mt-Nd2  mt-Nd3  \\\n",
       "0   ...    10.193680  132.517838  81.549438  33.978935  3.397893     0.0   \n",
       "1   ...    11.089548   66.537292  49.902966  30.496258  0.000000     0.0   \n",
       "2   ...    23.696684   94.786736  35.545025  17.772512  5.924171     0.0   \n",
       "3   ...    16.456390   65.825562  38.398247  16.456390  5.485464     0.0   \n",
       "4   ...    18.825300   86.596382  60.240963  18.825300  7.530120     0.0   \n",
       "\n",
       "      mt-Nd4   mt-Nd4l    mt-Nd5  mt-Nd6  \n",
       "0  23.785254  3.397893  6.795787     0.0  \n",
       "1   8.317162  2.772387  0.000000     0.0  \n",
       "2  29.620855  2.962085  0.000000     0.0  \n",
       "3  16.456390  0.000000  0.000000     0.0  \n",
       "4  26.355421  0.000000  3.765060     0.0  \n",
       "\n",
       "[5 rows x 27998 columns]"
      ]
     },
     "execution_count": 23,
     "metadata": {},
     "output_type": "execute_result"
    }
   ],
   "source": [
    "ocounts.head()"
   ]
  },
  {
   "cell_type": "code",
   "execution_count": 25,
   "metadata": {},
   "outputs": [],
   "source": [
    "def plot_pseudo(\n",
    "            genes,\n",
    "            ocounts,\n",
    "            title=None,\n",
    "            ci=None,\n",
    "            m = 10,\n",
    "            w = 7,\n",
    "            h = 2.5,\n",
    "            save=False,\n",
    "            ylabel='Gene expression',\n",
    "            xlabel = 'Ameloblast trajectory',\n",
    "            return_ax = False\n",
    "            ):\n",
    "    \n",
    "    \"\"\"\n",
    "    Plots expression of selected genes along the trajectory.\n",
    "    If return_ax is True, returns a,fig,gs objects (Axes,Figure,GridSpec).\n",
    "    \n",
    "    Parameters:\n",
    "    genes - list of genes to plot\n",
    "    ocounts - pd.DataFrame containing counts with cells ordered as desired (cells x genes)\n",
    "    m - windows size for calculating moving average\n",
    "    \n",
    "    \"\"\"\n",
    "\n",
    "    #plot some genes for demonstration:\n",
    "    a,fig,gs = rz.startfig(w=w,h=h,columns=2)\n",
    "\n",
    "    \n",
    "    #prepare colors\n",
    "    lab = np.arange(len(genes))\n",
    "    lab = lab/float(lab.max())\n",
    "    lab_cmap = plt.cm.get_cmap('jet')\n",
    "    cs = [lab_cmap(i) for i in lab]\n",
    "    \n",
    "    # counts smoothed using a moving average\n",
    "    mocounts = moving_average(ocounts.loc[genes],m=m)\n",
    "    \n",
    "    #confidence intervals:\n",
    "    if type(ci)==type(None):\n",
    "        ci = moving_average(ocounts.loc[genes],m=m,get_conf_int=True)\n",
    "        \n",
    "    \n",
    "    for i in range(len(genes)):\n",
    "        gene = genes[i]\n",
    "        conf = ci.loc[gene]\n",
    "        low = conf.apply(lambda x:x[0])\n",
    "        hi = conf.apply(lambda x:x[1])\n",
    "        y = mocounts.loc[gene]\n",
    "        #normalize:\n",
    "        new=[]\n",
    "        for z in [y,hi,low]:\n",
    "            #z = z-z.min()\n",
    "            z = z/max(y)*100\n",
    "            new.append(z)\n",
    "        [y,hi,low]=new\n",
    "        x = range(mocounts.shape[1])\n",
    "        aplot = a.plot(x,y,color=cs[i],lw=.5)\n",
    "        a.fill_between(x,low,hi,lw=0,color=cs[i],alpha=0.3)\n",
    "\n",
    "    rz.showspines(a,bottom=True,left=True)\n",
    "    a.set_xlim(0,mocounts.shape[1])\n",
    "    a.set_yticks([0,100])\n",
    "    a.set_ylim([0,120])\n",
    "    #legend\n",
    "    plt.legend(fontsize=6,\n",
    "               bbox_to_anchor=(1.55, 1.1),\n",
    "               labelspacing=0)\n",
    "\n",
    "    a.set_yticklabels(['0','max'])\n",
    "    a.set_xticks([])\n",
    "    a.set_ylabel(ylabel)\n",
    "    a.set_xlabel(xlabel)\n",
    "    gene_string = '_'.join(genes)\n",
    "    if title!=None:\n",
    "        a.set_title(title,fontsize=7)\n",
    "        gene_string = gene_string+'_'+title\n",
    "    \n",
    "    if return_ax:\n",
    "        return a,fig,gs\n",
    "        \n",
    "    \n",
    "    \n",
    "    gs.tight_layout(fig)   \n",
    "    if save:\n",
    "        plt.savefig('outputs/trajectory_%s.pdf'%(gene_string))\n",
    "        \n",
    "    plt.show()"
   ]
  },
  {
   "cell_type": "code",
   "execution_count": 30,
   "metadata": {
    "scrolled": false
   },
   "outputs": [
    {
     "name": "stdout",
     "output_type": "stream",
     "text": [
      "0\n"
     ]
    }
   ],
   "source": [
    "# get moving average:\n",
    "# window size to average over\n",
    "m = 20\n",
    "mocounts = moving_average(ocounts.T,m=m).T"
   ]
  },
  {
   "cell_type": "code",
   "execution_count": 31,
   "metadata": {
    "scrolled": false
   },
   "outputs": [
    {
     "name": "stdout",
     "output_type": "stream",
     "text": [
      "0\n",
      "0\n"
     ]
    },
    {
     "data": {
      "image/png": "[encoded data removed]",
      "text/plain": [
       "<Figure size 590.552x147.638 with 1 Axes>"
      ]
     },
     "metadata": {
      "needs_background": "light"
     },
     "output_type": "display_data"
    }
   ],
   "source": [
    "a,fig,gs = plot_pseudo(['Prdx2','Amelx','Enam',\n",
    "                       ],\n",
    "           ocounts=ocounts.T,\n",
    "           w=10,\n",
    "           m=m,\n",
    "           return_ax=True,\n",
    "           )\n",
    "\n",
    "ts = 200\n",
    "a.plot((ts,ts),(0.,a.get_ylim()[1]),lw=1,color='r')\n",
    "a.plot((ts,a.get_xlim()[1]),(a.get_ylim()[1],a.get_ylim()[1]),color='r')\n",
    "a.plot((a.get_xlim()[1]-1,a.get_xlim()[1]-1),(0.,a.get_ylim()[1]),lw=1,color='r')\n",
    "gs.tight_layout(fig)\n",
    "\n",
    "plt.show()"
   ]
  },
  {
   "cell_type": "code",
   "execution_count": null,
   "metadata": {},
   "outputs": [],
   "source": []
  }
 ],
 "metadata": {
  "kernelspec": {
   "display_name": "Python 3",
   "language": "python",
   "name": "python3"
  },
  "language_info": {
   "codemirror_mode": {
    "name": "ipython",
    "version": 3
   },
   "file_extension": ".py",
   "mimetype": "text/x-python",
   "name": "python",
   "nbconvert_exporter": "python",
   "pygments_lexer": "ipython3",
   "version": "3.6.7"
  }
 },
 "nbformat": 4,
 "nbformat_minor": 2
}

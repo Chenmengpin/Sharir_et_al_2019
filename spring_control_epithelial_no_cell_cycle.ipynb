{
 "cells": [
  {
   "cell_type": "markdown",
   "metadata": {},
   "source": [
    "# Recreate SPRING vizualisation of epithelial cells after regressing out the cell cycle\n",
    "Save graph and auxiliary files to SPRING directory for interactive exploration.  \n",
    "Allow the graph to fully relax using the browser version of force layout (empirically works best but slow).  \n",
    "Save xy coordinates in SPRING (browser version).  \n",
    "Load xy coordinates from the SPRING directory for further use within the notebook."
   ]
  },
  {
   "cell_type": "code",
   "execution_count": 1,
   "metadata": {},
   "outputs": [],
   "source": [
    "import os,sys\n",
    "import datetime"
   ]
  },
  {
   "cell_type": "markdown",
   "metadata": {},
   "source": [
    "### Import scanpy"
   ]
  },
  {
   "cell_type": "code",
   "execution_count": 2,
   "metadata": {},
   "outputs": [
    {
     "name": "stdout",
     "output_type": "stream",
     "text": [
      "scanpy==1.3.4 anndata==0.6.13 numpy==1.15.4 scipy==1.1.0 pandas==0.23.4 scikit-learn==0.20.1 statsmodels==0.9.0 python-igraph==0.7.1 louvain==0.6.1 \n",
      "Memory usage: current 0.17 GB, difference +0.17 GB\n"
     ]
    }
   ],
   "source": [
    "import scanpy.api as sc\n",
    "sc.logging.print_versions()\n",
    "sc.logging.print_memory_usage()\n",
    "sc.settings.verbosity = 2"
   ]
  },
  {
   "cell_type": "markdown",
   "metadata": {},
   "source": [
    "### Import my utility functions and import statements from github"
   ]
  },
  {
   "cell_type": "code",
   "execution_count": 3,
   "metadata": {},
   "outputs": [
    {
     "data": {
      "text/plain": [
       "'# This cell is run once to download my custom functions and import statements from github\\n\\n!git clone --depth=1 https://github.com/rapolaszilionis/utility_functions\\n    \\n# github doesn\\'t seem to have an option to download a specific version of the repo from the history.\\n# So I download my utility functions and save the download time by appending it to the directory name.\\n# These utility functions to be shared together with the notebook.\\n\\ntoappend = datetime.datetime.now().strftime(\\'%y%m%d_%Hh%M\\')\\nnewname = \"utility_functions_%s\"%toappend\\nprint(newname)\\n\\n\\n# rename the py file with utility functions\\nos.rename(\"utility_functions\",newname)'"
      ]
     },
     "execution_count": 3,
     "metadata": {},
     "output_type": "execute_result"
    }
   ],
   "source": [
    "\"\"\"# This cell is run once to download my custom functions and import statements from github\n",
    "\n",
    "!git clone --depth=1 https://github.com/rapolaszilionis/utility_functions\n",
    "    \n",
    "# github doesn't seem to have an option to download a specific version of the repo from the history.\n",
    "# So I download my utility functions and save the download time by appending it to the directory name.\n",
    "# These utility functions to be shared together with the notebook.\n",
    "\n",
    "toappend = datetime.datetime.now().strftime('%y%m%d_%Hh%M')\n",
    "newname = \"utility_functions_%s\"%toappend\n",
    "print(newname)\n",
    "\n",
    "\n",
    "# rename the py file with utility functions\n",
    "os.rename(\"utility_functions\",newname)\"\"\""
   ]
  },
  {
   "cell_type": "code",
   "execution_count": 4,
   "metadata": {},
   "outputs": [
    {
     "name": "stdout",
     "output_type": "stream",
     "text": [
      "python version: 3.6.7\n"
     ]
    }
   ],
   "source": [
    "# add the utility function folder to PATH\n",
    "sys.path.append(os.path.abspath(\"utility_functions_190425_11h32\"))\n",
    "\n",
    "from rz_import_statements import *\n",
    "import rz_functions as rz\n",
    "import rz_fig_params # this adjust mpl.rcParams, almost nothing to import\n",
    "import rz_utility_spring as srz"
   ]
  },
  {
   "cell_type": "markdown",
   "metadata": {},
   "source": [
    "## Load data and place into an annData object"
   ]
  },
  {
   "cell_type": "code",
   "execution_count": 5,
   "metadata": {},
   "outputs": [
    {
     "name": "stdout",
     "output_type": "stream",
     "text": [
      "cell_info_8594x25.tsv         injury_barcodes.tsv\r\n",
      "control_barcodes.tsv          injury_genes.tsv\r\n",
      "control_genes.tsv             injury_loom.loom\r\n",
      "control_loom.loom             injury_matrix.mtx\r\n",
      "control_matrix.mtx            raw_counts_8594x27998.mtx\r\n",
      "gene_names_alphabetically.txt\r\n"
     ]
    }
   ],
   "source": [
    "!ls data_from_geo"
   ]
  },
  {
   "cell_type": "code",
   "execution_count": 6,
   "metadata": {},
   "outputs": [],
   "source": [
    "obspath = 'data_from_geo/cell_info_8594x25.tsv'\n",
    "countpath = 'data_from_geo/raw_counts_8594x27998.mtx'\n",
    "genepath = 'data_from_geo/gene_names_alphabetically.txt'"
   ]
  },
  {
   "cell_type": "code",
   "execution_count": 7,
   "metadata": {},
   "outputs": [
    {
     "name": "stdout",
     "output_type": "stream",
     "text": [
      "(8594, 25)\n"
     ]
    },
    {
     "data": {
      "text/html": [
       "<div>\n",
       "<style scoped>\n",
       "    .dataframe tbody tr th:only-of-type {\n",
       "        vertical-align: middle;\n",
       "    }\n",
       "\n",
       "    .dataframe tbody tr th {\n",
       "        vertical-align: top;\n",
       "    }\n",
       "\n",
       "    .dataframe thead th {\n",
       "        text-align: right;\n",
       "    }\n",
       "</style>\n",
       "<table border=\"1\" class=\"dataframe\">\n",
       "  <thead>\n",
       "    <tr style=\"text-align: right;\">\n",
       "      <th></th>\n",
       "      <th>barcode</th>\n",
       "      <th>condition</th>\n",
       "      <th>total_counts</th>\n",
       "      <th>pass_quality_filters</th>\n",
       "      <th>inj_epithelial</th>\n",
       "      <th>ctr_epithelial</th>\n",
       "      <th>excluded_as_immune_or_mesench</th>\n",
       "      <th>class</th>\n",
       "      <th>population</th>\n",
       "      <th>phase</th>\n",
       "      <th>...</th>\n",
       "      <th>x_control</th>\n",
       "      <th>y_control</th>\n",
       "      <th>x_class3_exploded</th>\n",
       "      <th>y_class3_exploded</th>\n",
       "      <th>x_control_injured</th>\n",
       "      <th>y_control_injured</th>\n",
       "      <th>x_class1_CTR_cell_cyc_removed</th>\n",
       "      <th>y_class1_CTR_cell_cyc_removed</th>\n",
       "      <th>x_class1_INJ_cell_cyc_removed</th>\n",
       "      <th>y_class1_INJ_cell_cyc_removed</th>\n",
       "    </tr>\n",
       "  </thead>\n",
       "  <tbody>\n",
       "    <tr>\n",
       "      <th>0</th>\n",
       "      <td>AAACCTGAGTGCTGCC-1</td>\n",
       "      <td>control</td>\n",
       "      <td>2787</td>\n",
       "      <td>True</td>\n",
       "      <td>False</td>\n",
       "      <td>True</td>\n",
       "      <td>False</td>\n",
       "      <td>class3</td>\n",
       "      <td>ctr_DEEx</td>\n",
       "      <td>G1</td>\n",
       "      <td>...</td>\n",
       "      <td>783.705500</td>\n",
       "      <td>-377.074709</td>\n",
       "      <td>1082.172898</td>\n",
       "      <td>-266.303304</td>\n",
       "      <td>709.78614</td>\n",
       "      <td>-325.505019</td>\n",
       "      <td>NaN</td>\n",
       "      <td>NaN</td>\n",
       "      <td>NaN</td>\n",
       "      <td>NaN</td>\n",
       "    </tr>\n",
       "    <tr>\n",
       "      <th>1</th>\n",
       "      <td>AAACCTGAGTGGGTTG-1</td>\n",
       "      <td>control</td>\n",
       "      <td>3325</td>\n",
       "      <td>True</td>\n",
       "      <td>False</td>\n",
       "      <td>True</td>\n",
       "      <td>False</td>\n",
       "      <td>class3</td>\n",
       "      <td>ctr_upper_IEE</td>\n",
       "      <td>G1</td>\n",
       "      <td>...</td>\n",
       "      <td>709.612642</td>\n",
       "      <td>-429.409941</td>\n",
       "      <td>854.230866</td>\n",
       "      <td>-454.025809</td>\n",
       "      <td>529.15516</td>\n",
       "      <td>-471.961493</td>\n",
       "      <td>NaN</td>\n",
       "      <td>NaN</td>\n",
       "      <td>NaN</td>\n",
       "      <td>NaN</td>\n",
       "    </tr>\n",
       "    <tr>\n",
       "      <th>2</th>\n",
       "      <td>AAACCTGCAAGTCTAC-1</td>\n",
       "      <td>control</td>\n",
       "      <td>1781</td>\n",
       "      <td>False</td>\n",
       "      <td>False</td>\n",
       "      <td>False</td>\n",
       "      <td>False</td>\n",
       "      <td>NaN</td>\n",
       "      <td>NaN</td>\n",
       "      <td>NaN</td>\n",
       "      <td>...</td>\n",
       "      <td>NaN</td>\n",
       "      <td>NaN</td>\n",
       "      <td>NaN</td>\n",
       "      <td>NaN</td>\n",
       "      <td>NaN</td>\n",
       "      <td>NaN</td>\n",
       "      <td>NaN</td>\n",
       "      <td>NaN</td>\n",
       "      <td>NaN</td>\n",
       "      <td>NaN</td>\n",
       "    </tr>\n",
       "    <tr>\n",
       "      <th>3</th>\n",
       "      <td>AAACCTGCAATCTGCA-1</td>\n",
       "      <td>control</td>\n",
       "      <td>3468</td>\n",
       "      <td>True</td>\n",
       "      <td>False</td>\n",
       "      <td>False</td>\n",
       "      <td>True</td>\n",
       "      <td>NaN</td>\n",
       "      <td>NaN</td>\n",
       "      <td>NaN</td>\n",
       "      <td>...</td>\n",
       "      <td>NaN</td>\n",
       "      <td>NaN</td>\n",
       "      <td>NaN</td>\n",
       "      <td>NaN</td>\n",
       "      <td>NaN</td>\n",
       "      <td>NaN</td>\n",
       "      <td>NaN</td>\n",
       "      <td>NaN</td>\n",
       "      <td>NaN</td>\n",
       "      <td>NaN</td>\n",
       "    </tr>\n",
       "    <tr>\n",
       "      <th>4</th>\n",
       "      <td>AAACCTGCACGGTGTC-1</td>\n",
       "      <td>control</td>\n",
       "      <td>1745</td>\n",
       "      <td>False</td>\n",
       "      <td>False</td>\n",
       "      <td>False</td>\n",
       "      <td>False</td>\n",
       "      <td>NaN</td>\n",
       "      <td>NaN</td>\n",
       "      <td>NaN</td>\n",
       "      <td>...</td>\n",
       "      <td>NaN</td>\n",
       "      <td>NaN</td>\n",
       "      <td>NaN</td>\n",
       "      <td>NaN</td>\n",
       "      <td>NaN</td>\n",
       "      <td>NaN</td>\n",
       "      <td>NaN</td>\n",
       "      <td>NaN</td>\n",
       "      <td>NaN</td>\n",
       "      <td>NaN</td>\n",
       "    </tr>\n",
       "  </tbody>\n",
       "</table>\n",
       "<p>5 rows × 25 columns</p>\n",
       "</div>"
      ],
      "text/plain": [
       "              barcode condition  total_counts  pass_quality_filters  \\\n",
       "0  AAACCTGAGTGCTGCC-1   control          2787                  True   \n",
       "1  AAACCTGAGTGGGTTG-1   control          3325                  True   \n",
       "2  AAACCTGCAAGTCTAC-1   control          1781                 False   \n",
       "3  AAACCTGCAATCTGCA-1   control          3468                  True   \n",
       "4  AAACCTGCACGGTGTC-1   control          1745                 False   \n",
       "\n",
       "   inj_epithelial  ctr_epithelial  excluded_as_immune_or_mesench   class  \\\n",
       "0           False            True                          False  class3   \n",
       "1           False            True                          False  class3   \n",
       "2           False           False                          False     NaN   \n",
       "3           False           False                           True     NaN   \n",
       "4           False           False                          False     NaN   \n",
       "\n",
       "      population phase              ...                 x_control   y_control  \\\n",
       "0       ctr_DEEx    G1              ...                783.705500 -377.074709   \n",
       "1  ctr_upper_IEE    G1              ...                709.612642 -429.409941   \n",
       "2            NaN   NaN              ...                       NaN         NaN   \n",
       "3            NaN   NaN              ...                       NaN         NaN   \n",
       "4            NaN   NaN              ...                       NaN         NaN   \n",
       "\n",
       "  x_class3_exploded  y_class3_exploded x_control_injured  y_control_injured  \\\n",
       "0       1082.172898        -266.303304         709.78614        -325.505019   \n",
       "1        854.230866        -454.025809         529.15516        -471.961493   \n",
       "2               NaN                NaN               NaN                NaN   \n",
       "3               NaN                NaN               NaN                NaN   \n",
       "4               NaN                NaN               NaN                NaN   \n",
       "\n",
       "   x_class1_CTR_cell_cyc_removed  y_class1_CTR_cell_cyc_removed  \\\n",
       "0                            NaN                            NaN   \n",
       "1                            NaN                            NaN   \n",
       "2                            NaN                            NaN   \n",
       "3                            NaN                            NaN   \n",
       "4                            NaN                            NaN   \n",
       "\n",
       "   x_class1_INJ_cell_cyc_removed  y_class1_INJ_cell_cyc_removed  \n",
       "0                            NaN                            NaN  \n",
       "1                            NaN                            NaN  \n",
       "2                            NaN                            NaN  \n",
       "3                            NaN                            NaN  \n",
       "4                            NaN                            NaN  \n",
       "\n",
       "[5 rows x 25 columns]"
      ]
     },
     "execution_count": 7,
     "metadata": {},
     "output_type": "execute_result"
    }
   ],
   "source": [
    "# load cell info\n",
    "obs = pd.read_csv(obspath,sep='\\t',index_col=0)\n",
    "print(obs.shape)\n",
    "obs.head()"
   ]
  },
  {
   "cell_type": "code",
   "execution_count": 8,
   "metadata": {},
   "outputs": [
    {
     "name": "stdout",
     "output_type": "stream",
     "text": [
      "(8594, 27998)\n"
     ]
    }
   ],
   "source": [
    "# load counts\n",
    "adata = sc.read_mtx(countpath)\n",
    "print(adata.shape)\n",
    "\n",
    "# add genes (annotation of variables)\n",
    "adata.var['genes'] = np.loadtxt(genepath,dtype=str)\n",
    "\n",
    "# make sure var names are genes\n",
    "adata.var_names = adata.var['genes'].values\n",
    "\n",
    "# add obs (annotation of observations)\n",
    "adata.obs = obs\n",
    "\n",
    "# make sure index is unique AND a string\n",
    "adata.obs_names_make_unique()\n",
    "adata.obs_names = adata.obs_names.astype(str)"
   ]
  },
  {
   "cell_type": "markdown",
   "metadata": {},
   "source": [
    "## Scale (normalize) data"
   ]
  },
  {
   "cell_type": "code",
   "execution_count": 9,
   "metadata": {
    "scrolled": true
   },
   "outputs": [
    {
     "name": "stdout",
     "output_type": "stream",
     "text": [
      "[[2787.]\n",
      " [3325.]\n",
      " [1781.]\n",
      " [3468.]\n",
      " [1745.]]\n",
      "\n",
      "[[10000.   ]\n",
      " [10000.   ]\n",
      " [10000.001]\n",
      " [10000.   ]\n",
      " [ 9999.999]]\n"
     ]
    }
   ],
   "source": [
    "# turn into counts per 10k\n",
    "print(adata.X[:5,:].sum(axis=1))\n",
    "print()\n",
    "sc.pp.normalize_per_cell(adata, counts_per_cell_after=1e4)\n",
    "print(adata.X[:5,:].sum(axis=1))"
   ]
  },
  {
   "cell_type": "markdown",
   "metadata": {},
   "source": [
    "# Regress out the cell cycle using Scanpy (equivalent to implementation in Seurat).  \n",
    "inspired from here: https://nbviewer.jupyter.org/github/theislab/scanpy_usage/blob/master/180209_cell_cycle/cell_cycle.ipynb"
   ]
  },
  {
   "cell_type": "code",
   "execution_count": 10,
   "metadata": {},
   "outputs": [
    {
     "name": "stdout",
     "output_type": "stream",
     "text": [
      "filtered out 11145 genes that are detected in less than 0.5518459 counts\n"
     ]
    }
   ],
   "source": [
    "# out of all cells in adata, select only those you want to plot\n",
    "cell_mask = adata.obs['ctr_epithelial'].astype(bool).values\n",
    "\n",
    "\n",
    "# make a copy of adata only focusing on cells of interest\n",
    "cdata = adata[cell_mask,:].copy()\n",
    "\n",
    "# filter out genes with zero counts\n",
    "min_non_zero = cdata.X.data.min()\n",
    "sc.pp.filter_genes(cdata,min_counts=min_non_zero)\n",
    "\n",
    "# save a copy of data before taking the log:\n",
    "cdata.uns[\"X_lin_cptt\"] = cdata.X.copy() # for X linear counts-per-10-thousand\n",
    "\n",
    "# log transform (pseudovalue of 1)\n",
    "sc.pp.log1p(cdata)\n",
    "\n",
    "# zscore\n",
    "sc.pp.scale(cdata)\n",
    "\n",
    "# keep a copy of the data before regressing out cell cycle:\n",
    "cdata.uns[\"X_log_z\"] = cdata.X.copy() # for log transformed and zscored"
   ]
  },
  {
   "cell_type": "markdown",
   "metadata": {},
   "source": [
    "### S and G2M scores already calculated in a separate notebook"
   ]
  },
  {
   "cell_type": "code",
   "execution_count": 11,
   "metadata": {},
   "outputs": [],
   "source": [
    "# saving and load the obs dataframe somehow messes up the datatype, force the correct one\n",
    "cdata.obs[['S_score', 'G2M_score']] = cdata.obs[['S_score', 'G2M_score']].astype(float)"
   ]
  },
  {
   "cell_type": "markdown",
   "metadata": {},
   "source": [
    "## regress out cell cycle"
   ]
  },
  {
   "cell_type": "code",
   "execution_count": 12,
   "metadata": {},
   "outputs": [
    {
     "name": "stderr",
     "output_type": "stream",
     "text": [
      "... storing 'condition' as categorical\n",
      "... storing 'class' as categorical\n",
      "... storing 'population' as categorical\n",
      "... storing 'phase' as categorical\n",
      "... storing 'source_sink_for_pseudotime' as categorical\n",
      "... storing 'class2_3_like' as categorical\n"
     ]
    },
    {
     "name": "stdout",
     "output_type": "stream",
     "text": [
      "regressing out ['S_score', 'G2M_score']\n",
      "    finished (0:01:19.44)\n"
     ]
    }
   ],
   "source": [
    "sc.pp.regress_out(cdata, ['S_score', 'G2M_score'])\n",
    "\n",
    "#resclae\n",
    "sc.pp.scale(cdata)"
   ]
  },
  {
   "cell_type": "markdown",
   "metadata": {},
   "source": [
    "# Preprocess for SPRING"
   ]
  },
  {
   "cell_type": "code",
   "execution_count": 13,
   "metadata": {},
   "outputs": [],
   "source": [
    "project_dir = \"SPRING_dev-master/datasets/Sharir_et_al_2019/\""
   ]
  },
  {
   "cell_type": "code",
   "execution_count": 14,
   "metadata": {},
   "outputs": [
    {
     "data": {
      "text/plain": [
       "{'k': 5,\n",
       " 'cell_mask': array([ True,  True,  True, ...,  True,  True,  True]),\n",
       " 'min_counts': 3,\n",
       " 'min_cells': 3,\n",
       " 'base_ix': array([   0,    1,    2, ..., 2346, 2347, 2348]),\n",
       " 'num_pc': 20,\n",
       " 'plot_name': 'control_epithelial_no_cc'}"
      ]
     },
     "execution_count": 14,
     "metadata": {},
     "output_type": "execute_result"
    }
   ],
   "source": [
    "# chose a name for the spring subplot\n",
    "plot_name = 'control_epithelial_no_cc'\n",
    "\n",
    "# chose dataset for selecting abundant and variable genes\n",
    "# here I use linear counts-per-10k\n",
    "\n",
    "E = cdata.uns[\"X_lin_cptt\"]\n",
    "\n",
    "# in an attempt to be more organized I keep a log of spring parameter and intermediate data structures used in\n",
    "# the form of an unstructured annotation as part of an AnnData object.\n",
    "srz.start_spring_params(cdata,plot_name)\n",
    "\n",
    "# print the newly created dictionary, also define a variable to access it faster:\n",
    "pdict = cdata.uns['spring_params'][plot_name]\n",
    "pdict"
   ]
  },
  {
   "cell_type": "code",
   "execution_count": 15,
   "metadata": {},
   "outputs": [
    {
     "data": {
      "text/plain": [
       "{'k': 10,\n",
       " 'cell_mask': array([ True,  True, False, ..., False, False, False]),\n",
       " 'min_counts': 5,\n",
       " 'min_cells': 3,\n",
       " 'base_ix': array([   0,    1,    2, ..., 2346, 2347, 2348]),\n",
       " 'num_pc': 20,\n",
       " 'plot_name': 'control_epithelial_no_cc'}"
      ]
     },
     "execution_count": 15,
     "metadata": {},
     "output_type": "execute_result"
    }
   ],
   "source": [
    "# overwrite some of the parameters for SPRING\n",
    "pdict = cdata.uns['spring_params'][plot_name]\n",
    "pdict['cell_mask'] = cell_mask # record which cell out of all were used\n",
    "pdict['k'] = 10\n",
    "pdict['min_counts'] = 5\n",
    "pdict['min_cells'] = 3\n",
    "pdict"
   ]
  },
  {
   "cell_type": "markdown",
   "metadata": {},
   "source": [
    "### Filter genes"
   ]
  },
  {
   "cell_type": "code",
   "execution_count": 16,
   "metadata": {},
   "outputs": [
    {
     "name": "stdout",
     "output_type": "stream",
     "text": [
      "203 genes excluded based on name\n"
     ]
    }
   ],
   "source": [
    "# avoid genes starting with\n",
    "toavoid = ['mt-','Rps','Rpl','Mrpl','Mrps']\n",
    "\n",
    "# genes to exclude:\n",
    "exclude_gene_names = []\n",
    "for j in toavoid:\n",
    "    exclude_gene_names.append([i for i in adata.var['genes'] if i.startswith(j)])\n",
    "exclude_gene_names = rz.flatten_list_of_lists(exclude_gene_names)\n",
    "\n",
    "pdict['gene_names_excluded'] = exclude_gene_names\n",
    "print('%d genes excluded based on name'%len(exclude_gene_names))"
   ]
  },
  {
   "cell_type": "code",
   "execution_count": 17,
   "metadata": {},
   "outputs": [
    {
     "name": "stdout",
     "output_type": "stream",
     "text": [
      "9450 genes passing abundance filter\n"
     ]
    }
   ],
   "source": [
    "# filter on abundance:\n",
    "pdict['abundant_gene_mask'] = srz.filter_abund_genes(\n",
    "                                                     E,\n",
    "                                                     pdict['min_counts'],\n",
    "                                                     pdict['min_cells']\n",
    "                                                    )"
   ]
  },
  {
   "cell_type": "code",
   "execution_count": 18,
   "metadata": {},
   "outputs": [],
   "source": [
    "# calculate v score (Klein et al., 2015, see equation S4 and S13)\n",
    "pdict['v_score_dict'] = srz.vscores(E)"
   ]
  },
  {
   "cell_type": "code",
   "execution_count": 19,
   "metadata": {},
   "outputs": [
    {
     "name": "stdout",
     "output_type": "stream",
     "text": [
      "291 and 346 genes excluded as correlated to s and g2m scores, respectively\n"
     ]
    },
    {
     "name": "stderr",
     "output_type": "stream",
     "text": [
      "/Users/rapolaszilionis/anaconda3/lib/python3.6/site-packages/matplotlib/font_manager.py:1241: UserWarning: findfont: Font family ['Myriad Pro'] not found. Falling back to DejaVu Sans.\n",
      "  (prop.get_family(), self.defaultFamily[fontext]))\n",
      "/Users/rapolaszilionis/anaconda3/lib/python3.6/site-packages/matplotlib/font_manager.py:1241: UserWarning: findfont: Font family ['Myriad Pro'] not found. Falling back to DejaVu Sans.\n",
      "  (prop.get_family(), self.defaultFamily[fontext]))\n"
     ]
    },
    {
     "data": {
      "image/png": "[encoded data removed]",
      "text/plain": [
       "<Figure size 826.772x413.386 with 2 Axes>"
      ]
     },
     "metadata": {
      "needs_background": "light"
     },
     "output_type": "display_data"
    }
   ],
   "source": [
    "# if regressing out cell cycle, also remove genes correlated to cell cycle scores\n",
    "# those scores there calculated on log transformed counts-per-10k+1 data\n",
    "# use the same to calculate correlation\n",
    "data = cdata.uns[\"X_log_z\"]\n",
    "\n",
    "# get correlation to s and g2m scores:\n",
    "score = cdata.obs['S_score'].values\n",
    "cdata.var['corr_to_s_score'] = rz.pearsonr(score,data.T).flatten()\n",
    "\n",
    "score = cdata.obs['G2M_score'].values\n",
    "cdata.var['corr_to_g2m_score'] = rz.pearsonr(score,data.T).flatten()\n",
    "\n",
    "# exclude genes with positive correlation to cell cycle score above a chosen threshold:\n",
    "ts = 0.2\n",
    "pdict['corr_to_cell_cyc_threshold'] = ts\n",
    "\n",
    "# get names of gene too correlated to cell cycle\n",
    "pdict['genes_corr_to_s_score'] = cdata.var_names[cdata.var['corr_to_s_score']>ts]\n",
    "pdict['genes_corr_to_g2m_score'] = cdata.var_names[cdata.var['corr_to_g2m_score']>ts]\n",
    "print('%d and %d genes excluded as correlated to s and g2m scores, respectively'%(\n",
    "                                                        len(pdict['genes_corr_to_s_score']),\n",
    "                                                        len(pdict['genes_corr_to_g2m_score'])))\n",
    "\n",
    "# plot a a histogram of pearson r values:\n",
    "fig,gs = rz.startfig(14,7,columns=2,return_first_ax=False)\n",
    "\n",
    "for nr,lab in enumerate(['corr_to_s_score','corr_to_g2m_score']):\n",
    "    a = fig.add_subplot(gs[0,nr])\n",
    "    a.hist(cdata.var[lab],lw=0,bins=25,color='0.5')\n",
    "    a.set_title(lab);\n",
    "    a.set_yscale('log')\n",
    "    a.set_xlim(-1,1)\n",
    "    a.plot((ts,ts),(0,a.get_ylim()[1]))\n",
    "gs.tight_layout(fig)"
   ]
  },
  {
   "cell_type": "code",
   "execution_count": 20,
   "metadata": {},
   "outputs": [
    {
     "name": "stdout",
     "output_type": "stream",
     "text": [
      "8243\n",
      "8043\n",
      "8813 surviving genes so far\n"
     ]
    }
   ],
   "source": [
    "# combine gene filters so far:\n",
    "undesired = list(pdict['gene_names_excluded'])+\\\n",
    "            list(pdict['genes_corr_to_s_score'])+\\\n",
    "            list(pdict['genes_corr_to_g2m_score'])+\\\n",
    "            list(cdata.var_names[~pdict['abundant_gene_mask']])\n",
    "\n",
    "print(len(undesired))\n",
    "undesired = list(set(undesired))\n",
    "print(len(undesired))\n",
    "\n",
    "# boolean mask\n",
    "combmask = ~np.in1d(cdata.var_names,undesired)\n",
    "print(combmask.sum(),'surviving genes so far')"
   ]
  },
  {
   "cell_type": "code",
   "execution_count": 21,
   "metadata": {},
   "outputs": [
    {
     "data": {
      "image/png": "[encoded data removed]",
      "text/plain": [
       "<Figure size 450x450 with 1 Axes>"
      ]
     },
     "metadata": {
      "needs_background": "light"
     },
     "output_type": "display_data"
    }
   ],
   "source": [
    "# out of the surviving genes, select a fix number of most variable ones:\n",
    "nrvar = 2000\n",
    "pdict['nr_var_genes'] = nrvar\n",
    "\n",
    "# place v score and gene names into a temporary pd.Series for convenience:\n",
    "v = pd.Series(pdict['v_score_dict']['v_scores'],index=cdata.var_names)\n",
    "\n",
    "# apply filter so far:\n",
    "v = v[combmask]\n",
    "\n",
    "# get the names of the most variable genes:\n",
    "pdict['genes_used'] = v.sort_values(ascending=False)[:nrvar].index\n",
    "\n",
    "\n",
    "# plot a v score vs mean plot with genes used further colored in red\n",
    "ff = pdict['v_score_dict']['ff_gene']\n",
    "mu = pdict['v_score_dict']['mu_gene']\n",
    "finalmask = np.in1d(cdata.var_names,pdict['genes_used'])\n",
    "\n",
    "\n",
    "\n",
    "# check scatter\n",
    "s = 2\n",
    "plt.figure(figsize=(3,3))\n",
    "plt.scatter(mu,ff,lw=0,color='0.5',alpha=0.1,s=s)\n",
    "plt.scatter(mu[finalmask],ff[finalmask],lw=0,color='r',alpha=0.1,s=s)\n",
    "plt.xscale('log');\n",
    "plt.yscale('log');\n",
    "plt.xlim(0.0001,1000)\n",
    "plt.ylim(1,10000)\n",
    "plt.xlabel('Mean counts')\n",
    "plt.ylabel('Fano factor');"
   ]
  },
  {
   "cell_type": "markdown",
   "metadata": {},
   "source": [
    "### Prepare data for PCA"
   ]
  },
  {
   "cell_type": "code",
   "execution_count": 22,
   "metadata": {},
   "outputs": [
    {
     "name": "stdout",
     "output_type": "stream",
     "text": [
      "calculating the first 50 observed eigenvalues...\n",
      "calculating the random eigenvalues for 10 rounds of shuffling...\n",
      "1 \t 28 \t 0.03 min.\n",
      "2 \t 27 \t 0.05 min.\n",
      "3 \t 27 \t 0.08 min.\n",
      "4 \t 26 \t 0.10 min.\n",
      "5 \t 26 \t 0.13 min.\n",
      "6 \t 28 \t 0.15 min.\n",
      "7 \t 27 \t 0.17 min.\n",
      "8 \t 27 \t 0.20 min.\n",
      "9 \t 26 \t 0.22 min.\n",
      "10 \t 29 \t 0.24 min.\n",
      "26\n"
     ]
    }
   ],
   "source": [
    "# use zscore after regressin out cell cycle\n",
    "Z = cdata[:,pdict['genes_used']].X.copy()\n",
    "\n",
    "# find the number of non-random PCs\n",
    "d = srz.find_num_pc(Z,start_pc=50,sparse=False)\n",
    "\n",
    "# record results to log:\n",
    "pdict['num_pc'] = d['num_pc']\n",
    "pdict['eigenvectors'] = d['pca'].components_\n",
    "pdict['eigenvalues'] = d['pca'].explained_variance_\n",
    "\n",
    "\n",
    "print(d['num_pc'])"
   ]
  },
  {
   "cell_type": "code",
   "execution_count": 23,
   "metadata": {},
   "outputs": [
    {
     "name": "stdout",
     "output_type": "stream",
     "text": [
      "(2349, 26)\n"
     ]
    }
   ],
   "source": [
    "# apply dimensionality reduction on Z (get principle components)\n",
    "# note, that eigenvalues are calculated base_ix only\n",
    "# make sure to provide a dense matrix Z\n",
    "\n",
    "P = pdict['eigenvectors'][:pdict['num_pc'],:].dot(Z.T).T\n",
    "print(P.shape)"
   ]
  },
  {
   "cell_type": "code",
   "execution_count": 24,
   "metadata": {},
   "outputs": [
    {
     "name": "stdout",
     "output_type": "stream",
     "text": [
      "10 neighbors\n",
      "computing neighbors\n"
     ]
    },
    {
     "name": "stderr",
     "output_type": "stream",
     "text": [
      "/Users/rapolaszilionis/anaconda3/lib/python3.6/site-packages/sklearn/metrics/pairwise.py:258: RuntimeWarning: invalid value encountered in sqrt\n",
      "  return distances if squared else np.sqrt(distances, out=distances)\n"
     ]
    },
    {
     "name": "stdout",
     "output_type": "stream",
     "text": [
      "    finished (0:00:03.41)\n",
      "drawing single-cell graph using layout \"fa\"\n",
      "    finished (0:00:10.98)\n"
     ]
    }
   ],
   "source": [
    "# create a temporary AnnData object to be able to use standard scanpy functions:\n",
    "P = sc.AnnData(P)\n",
    "\n",
    "# get kNN graph\n",
    "# ignore the error message: https://github.com/lmcinnes/umap/issues/87\n",
    "k = pdict['k']\n",
    "print(k, 'neighbors')\n",
    "sc.pp.neighbors(P,k,use_rep='X')\n",
    "\n",
    "# draw force-directed graph\n",
    "sc.tl.draw_graph(P, layout='fa')"
   ]
  },
  {
   "cell_type": "code",
   "execution_count": 25,
   "metadata": {},
   "outputs": [],
   "source": [
    "# continuous per-cell metadata\n",
    "contvars = ['total_counts']\n",
    "\n",
    "# categorical\n",
    "catvars = ['condition','class','population','phase','class2_3_like']"
   ]
  },
  {
   "cell_type": "code",
   "execution_count": 26,
   "metadata": {},
   "outputs": [],
   "source": [
    "# export_spring_plot was complaining about the data format, force the right one\n",
    "for contvar in contvars:\n",
    "    P.obs[contvar] = cdata.obs[contvar].astype(float).values\n",
    "    \n",
    "for catvar in catvars:\n",
    "    P.obs[catvar] = cdata.obs[catvar].astype(str).values"
   ]
  },
  {
   "cell_type": "code",
   "execution_count": 27,
   "metadata": {},
   "outputs": [
    {
     "name": "stdout",
     "output_type": "stream",
     "text": [
      "control_epithelial_no_cc\n",
      "Writing subplot to SPRING_dev-master/datasets/Sharir_et_al_2019/control_epithelial_no_cc/\n"
     ]
    },
    {
     "name": "stderr",
     "output_type": "stream",
     "text": [
      "WARNING:root:Cell grouping \"condition\" may be not a categorical variable\n",
      "WARNING:root:Cell grouping \"class\" may be not a categorical variable\n",
      "WARNING:root:Cell grouping \"population\" may be not a categorical variable\n",
      "WARNING:root:Cell grouping \"phase\" may be not a categorical variable\n",
      "WARNING:root:Cell grouping \"class2_3_like\" may be not a categorical variable\n"
     ]
    }
   ],
   "source": [
    "plot_name = pdict['plot_name']\n",
    "print(plot_name)\n",
    "srz.export_spring_plot(P,\n",
    "                       project_dir,\n",
    "                       plot_name,\n",
    "                       \n",
    "                       # specify the normalized expression values\n",
    "                       # this is solely to calculate where the default saturation\n",
    "                       # of gene expression is in the interactive explorer\n",
    "                       E = adata[cell_mask].X.tocsc(), # tocsc() super important here\n",
    "                       gene_list = adata.var_names.values,\n",
    "                       cell_groupings=catvars,\n",
    "                       custom_color_tracks=contvars,\n",
    "                      )"
   ]
  },
  {
   "cell_type": "code",
   "execution_count": 28,
   "metadata": {},
   "outputs": [],
   "source": [
    "# the function \"srz.export_spring_plot\" needs to be updated to properly save the cell filter. To do.\n",
    "# for now I use a hack and save manually using the code in this cell.\n",
    "\n",
    "subplot_dir = project_dir+'/'+plot_name + '/'\n",
    "cell_ix = np.arange(len(pdict['cell_mask']))[pdict['cell_mask']]  \n",
    "np.savetxt(subplot_dir + 'cell_filter.txt', cell_ix, fmt='%i')\n",
    "np.save(subplot_dir + 'cell_filter.npy', cell_ix)"
   ]
  },
  {
   "cell_type": "code",
   "execution_count": 29,
   "metadata": {},
   "outputs": [],
   "source": [
    "#save plot parameters\n",
    "rz.save_stuff(path=project_dir+'/'+plot_name+'/params',stuff=pdict)"
   ]
  },
  {
   "cell_type": "markdown",
   "metadata": {},
   "source": [
    "# Example of interacting with SPRING colortracks back and forth: change colors of classes"
   ]
  },
  {
   "cell_type": "code",
   "execution_count": 30,
   "metadata": {},
   "outputs": [],
   "source": [
    "cg = srz.read_cell_groupings(project_dir+plot_name+'/categorical_coloring_data.json')\n",
    "catcolors = {key:value['label_list'] for key,value in cg.items()}\n",
    "color_dict = {key:value['label_colors'] for key,value in cg.items()}\n",
    "\n",
    "# overwrite colors as desired\n",
    "color_dict['population'] = {\n",
    "'ctr_AMB_dist': '#cdceca',\n",
    "'inj_AMB_dist': '#cdceca',\n",
    "'ctr_AMB_prox': '#a0a2a1',\n",
    "'inj_AMB_prox': '#a0a2a1',\n",
    "'ctr_G2_M': '#344683',\n",
    "'inj_G2_M': '#344683',\n",
    "'ctr_OSR': '#b9938f',\n",
    "'inj_OSR': '#b9938f',\n",
    "'ctr_M_G1': '#607dac',\n",
    "'inj_M_G1': '#607dac',\n",
    "'ctr_ISR_SI': '#eb4034',\n",
    "'inj_ISR_SI': '#eb4034',\n",
    "'ctr_S': '#a8bad4',\n",
    "'inj_S': '#a8bad4',\n",
    "'ctr_SI': '#513230',\n",
    "'inj_SI': '#513230',\n",
    "'ctr_OEE_1': '#eddd00',\n",
    "'inj_OEE_1': '#eddd00',\n",
    "'ctr_DEEx': '#948f35',\n",
    "'inj_DEEx': '#948f35',\n",
    "'ctr_OEE_2': '#df9445',\n",
    "'inj_OEE_2': '#df9445',\n",
    "'ctr_pre_AMB': '#6c6d6a',\n",
    "'inj_pre_AMB': '#6c6d6a',\n",
    "'ctr_upper_IEE': '#302651',\n",
    "'inj_upper_IEE': '#302651',\n",
    "'ctr_OEE_IEE': '#a64a03',\n",
    "'inj_OEE_IEE': '#a64a03',\n",
    "'ctr_VEE': '#773579',\n",
    "'inj_VEE': '#773579'}\n",
    "\n",
    "color_dict['class'] = {\n",
    "    'class1':'#21267f',\n",
    "    'class2':'#666666',\n",
    "    'class3':'#b2361f'\n",
    "}\n",
    "\n",
    "\n",
    "color_dict['class2_3_like'] = {\n",
    "'ctr_AMB_dist_like': '#cdceca',\n",
    "'ctr_AMB_prox_like': '#a0a2a1',\n",
    "'ctr_G2_M_like': '#344683',\n",
    "'ctr_OSR_like': '#b9938f',\n",
    "'ctr_M_G1_like': '#607dac',\n",
    "'ctr_ISR_SI_like': '#eb4034',\n",
    "'ctr_S_like': '#a8bad4',\n",
    "'ctr_SI_like': '#513230',\n",
    "'ctr_OEE_1_like': '#eddd00',\n",
    "'ctr_DEEx_like': '#948f35',\n",
    "'ctr_OEE_2_like': '#df9445',\n",
    "'ctr_pre_AMB_like': '#6c6d6a',\n",
    "'ctr_upper_IEE_like': '#302651',\n",
    "'ctr_OEE_IEE_like': '#a64a03',\n",
    "'ctr_VEE_like': '#773579'\n",
    "}\n",
    "\n",
    "srz.overwrite_cell_groupings(project_dir+plot_name,catcolors,colordd=color_dict)"
   ]
  },
  {
   "cell_type": "markdown",
   "metadata": {},
   "source": [
    "# Load coordinates and plot scatter"
   ]
  },
  {
   "cell_type": "code",
   "execution_count": 33,
   "metadata": {
    "scrolled": true
   },
   "outputs": [
    {
     "data": {
      "image/png": "[encoded data removed]",
      "text/plain": [
       "<Figure size 150x450 with 1 Axes>"
      ]
     },
     "metadata": {},
     "output_type": "display_data"
    }
   ],
   "source": [
    "xy = pd.read_csv(project_dir+plot_name+'/coordinates.txt',header=None, index_col=0)\n",
    "x = xy[1]\n",
    "y = -xy[2] # y is flipped for some reason\n",
    "\n",
    "plt.figure(figsize=(1,3))\n",
    "\n",
    "color = [color_dict['population'][i] for i in catcolors['population']]\n",
    "\n",
    "plt.scatter(x,y,color=color,s=2)\n",
    "plt.xticks([])\n",
    "plt.yticks([])\n",
    "plt.show()"
   ]
  },
  {
   "cell_type": "code",
   "execution_count": null,
   "metadata": {},
   "outputs": [],
   "source": []
  }
 ],
 "metadata": {
  "kernelspec": {
   "display_name": "Python 3",
   "language": "python",
   "name": "python3"
  },
  "language_info": {
   "codemirror_mode": {
    "name": "ipython",
    "version": 3
   },
   "file_extension": ".py",
   "mimetype": "text/x-python",
   "name": "python",
   "nbconvert_exporter": "python",
   "pygments_lexer": "ipython3",
   "version": "3.6.7"
  }
 },
 "nbformat": 4,
 "nbformat_minor": 2
}

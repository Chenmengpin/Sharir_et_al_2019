{
 "cells": [
  {
   "cell_type": "markdown",
   "metadata": {},
   "source": [
    "# Save counts for interactive SPRING explorer in \"project directory\"   \n",
    "To use the interactive SPRING explorer[1], a copy of the count data along with a few auxiliary files needs to be saved to a dedicated directory. There is one master file with expression of all cells for all SPRING subplots generated later.   \n",
    "\n",
    "[1] Weinreb C, Wolock S, Klein AM. SPRING: a kinetic interface for visualizing high dimensional single-cell expression data. Bioinformatics. 2018 Apr 1;34(7):1246–8.   \n",
    "\n",
    "\n",
    "Download SPRING_dev from https://github.com/AllonKleinLab/SPRING_dev.   \n",
    "Place the folder SPRING_dev-master in your working directory"
   ]
  },
  {
   "cell_type": "code",
   "execution_count": 1,
   "metadata": {},
   "outputs": [],
   "source": [
    "import os,sys\n",
    "import datetime"
   ]
  },
  {
   "cell_type": "markdown",
   "metadata": {},
   "source": [
    "### Import scanpy"
   ]
  },
  {
   "cell_type": "code",
   "execution_count": 2,
   "metadata": {},
   "outputs": [
    {
     "name": "stdout",
     "output_type": "stream",
     "text": [
      "scanpy==1.3.4 anndata==0.6.13 numpy==1.15.4 scipy==1.1.0 pandas==0.23.4 scikit-learn==0.20.1 statsmodels==0.9.0 python-igraph==0.7.1 louvain==0.6.1 \n",
      "Memory usage: current 0.17 GB, difference +0.17 GB\n"
     ]
    }
   ],
   "source": [
    "import scanpy.api as sc\n",
    "sc.logging.print_versions()\n",
    "sc.logging.print_memory_usage()\n",
    "sc.settings.verbosity = 2"
   ]
  },
  {
   "cell_type": "markdown",
   "metadata": {},
   "source": [
    "### Import my utility functions and import statements from github"
   ]
  },
  {
   "cell_type": "code",
   "execution_count": 3,
   "metadata": {},
   "outputs": [
    {
     "data": {
      "text/plain": [
       "'# This cell is run once to download my custom functions and import statements from github\\n\\n!git clone --depth=1 https://github.com/rapolaszilionis/utility_functions\\n    \\n# github doesn\\'t seem to have an option to download a specific version of the repo from the history.\\n# So I download my utility functions and save the download time by appending it to the directory name.\\n# These utility functions to be shared together with the notebook.\\n\\ntoappend = datetime.datetime.now().strftime(\\'%y%m%d_%Hh%M\\')\\nnewname = \"utility_functions_%s\"%toappend\\nprint(newname)\\n\\n\\n# rename the py file with utility functions\\nos.rename(\"utility_functions\",newname)'"
      ]
     },
     "execution_count": 3,
     "metadata": {},
     "output_type": "execute_result"
    }
   ],
   "source": [
    "\"\"\"# This cell is run once to download my custom functions and import statements from github\n",
    "\n",
    "!git clone --depth=1 https://github.com/rapolaszilionis/utility_functions\n",
    "    \n",
    "# github doesn't seem to have an option to download a specific version of the repo from the history.\n",
    "# So I download my utility functions and save the download time by appending it to the directory name.\n",
    "# These utility functions to be shared together with the notebook.\n",
    "\n",
    "toappend = datetime.datetime.now().strftime('%y%m%d_%Hh%M')\n",
    "newname = \"utility_functions_%s\"%toappend\n",
    "print(newname)\n",
    "\n",
    "\n",
    "# rename the py file with utility functions\n",
    "os.rename(\"utility_functions\",newname)\"\"\""
   ]
  },
  {
   "cell_type": "code",
   "execution_count": 4,
   "metadata": {},
   "outputs": [
    {
     "name": "stdout",
     "output_type": "stream",
     "text": [
      "python version: 3.6.7\n"
     ]
    }
   ],
   "source": [
    "# add the utility function folder to PATH\n",
    "sys.path.append(os.path.abspath(\"utility_functions_190425_11h32\"))\n",
    "\n",
    "from rz_import_statements import *\n",
    "import rz_functions as rz\n",
    "import rz_fig_params # this adjust mpl.rcParams, almost nothing to import\n",
    "import rz_utility_spring as srz"
   ]
  },
  {
   "cell_type": "markdown",
   "metadata": {},
   "source": [
    "# Load data and place into an annData object"
   ]
  },
  {
   "cell_type": "code",
   "execution_count": 5,
   "metadata": {},
   "outputs": [
    {
     "name": "stdout",
     "output_type": "stream",
     "text": [
      "cell_info_8594x25.tsv         injury_barcodes.tsv\r\n",
      "control_barcodes.tsv          injury_genes.tsv\r\n",
      "control_genes.tsv             injury_loom.loom\r\n",
      "control_loom.loom             injury_matrix.mtx\r\n",
      "control_matrix.mtx            raw_counts_8594x27998.mtx\r\n",
      "gene_names_alphabetically.txt\r\n"
     ]
    }
   ],
   "source": [
    "!ls data_from_geo"
   ]
  },
  {
   "cell_type": "code",
   "execution_count": 6,
   "metadata": {},
   "outputs": [],
   "source": [
    "obspath = 'data_from_geo/cell_info_8594x25.tsv'\n",
    "countpath = 'data_from_geo/raw_counts_8594x27998.mtx'\n",
    "genepath = 'data_from_geo/gene_names_alphabetically.txt'"
   ]
  },
  {
   "cell_type": "code",
   "execution_count": 7,
   "metadata": {},
   "outputs": [
    {
     "name": "stdout",
     "output_type": "stream",
     "text": [
      "(8594, 25)\n"
     ]
    },
    {
     "data": {
      "text/html": [
       "<div>\n",
       "<style scoped>\n",
       "    .dataframe tbody tr th:only-of-type {\n",
       "        vertical-align: middle;\n",
       "    }\n",
       "\n",
       "    .dataframe tbody tr th {\n",
       "        vertical-align: top;\n",
       "    }\n",
       "\n",
       "    .dataframe thead th {\n",
       "        text-align: right;\n",
       "    }\n",
       "</style>\n",
       "<table border=\"1\" class=\"dataframe\">\n",
       "  <thead>\n",
       "    <tr style=\"text-align: right;\">\n",
       "      <th></th>\n",
       "      <th>barcode</th>\n",
       "      <th>condition</th>\n",
       "      <th>total_counts</th>\n",
       "      <th>pass_quality_filters</th>\n",
       "      <th>inj_epithelial</th>\n",
       "      <th>ctr_epithelial</th>\n",
       "      <th>excluded_as_immune_or_mesench</th>\n",
       "      <th>class</th>\n",
       "      <th>population</th>\n",
       "      <th>phase</th>\n",
       "      <th>...</th>\n",
       "      <th>x_control</th>\n",
       "      <th>y_control</th>\n",
       "      <th>x_class3_exploded</th>\n",
       "      <th>y_class3_exploded</th>\n",
       "      <th>x_control_injured</th>\n",
       "      <th>y_control_injured</th>\n",
       "      <th>x_class1_CTR_cell_cyc_removed</th>\n",
       "      <th>y_class1_CTR_cell_cyc_removed</th>\n",
       "      <th>x_class1_INJ_cell_cyc_removed</th>\n",
       "      <th>y_class1_INJ_cell_cyc_removed</th>\n",
       "    </tr>\n",
       "  </thead>\n",
       "  <tbody>\n",
       "    <tr>\n",
       "      <th>0</th>\n",
       "      <td>AAACCTGAGTGCTGCC-1</td>\n",
       "      <td>control</td>\n",
       "      <td>2787</td>\n",
       "      <td>True</td>\n",
       "      <td>False</td>\n",
       "      <td>True</td>\n",
       "      <td>False</td>\n",
       "      <td>class3</td>\n",
       "      <td>ctr_DEEx</td>\n",
       "      <td>G1</td>\n",
       "      <td>...</td>\n",
       "      <td>783.705500</td>\n",
       "      <td>-377.074709</td>\n",
       "      <td>1082.172898</td>\n",
       "      <td>-266.303304</td>\n",
       "      <td>709.78614</td>\n",
       "      <td>-325.505019</td>\n",
       "      <td>NaN</td>\n",
       "      <td>NaN</td>\n",
       "      <td>NaN</td>\n",
       "      <td>NaN</td>\n",
       "    </tr>\n",
       "    <tr>\n",
       "      <th>1</th>\n",
       "      <td>AAACCTGAGTGGGTTG-1</td>\n",
       "      <td>control</td>\n",
       "      <td>3325</td>\n",
       "      <td>True</td>\n",
       "      <td>False</td>\n",
       "      <td>True</td>\n",
       "      <td>False</td>\n",
       "      <td>class3</td>\n",
       "      <td>ctr_upper_IEE</td>\n",
       "      <td>G1</td>\n",
       "      <td>...</td>\n",
       "      <td>709.612642</td>\n",
       "      <td>-429.409941</td>\n",
       "      <td>854.230866</td>\n",
       "      <td>-454.025809</td>\n",
       "      <td>529.15516</td>\n",
       "      <td>-471.961493</td>\n",
       "      <td>NaN</td>\n",
       "      <td>NaN</td>\n",
       "      <td>NaN</td>\n",
       "      <td>NaN</td>\n",
       "    </tr>\n",
       "    <tr>\n",
       "      <th>2</th>\n",
       "      <td>AAACCTGCAAGTCTAC-1</td>\n",
       "      <td>control</td>\n",
       "      <td>1781</td>\n",
       "      <td>False</td>\n",
       "      <td>False</td>\n",
       "      <td>False</td>\n",
       "      <td>False</td>\n",
       "      <td>NaN</td>\n",
       "      <td>NaN</td>\n",
       "      <td>NaN</td>\n",
       "      <td>...</td>\n",
       "      <td>NaN</td>\n",
       "      <td>NaN</td>\n",
       "      <td>NaN</td>\n",
       "      <td>NaN</td>\n",
       "      <td>NaN</td>\n",
       "      <td>NaN</td>\n",
       "      <td>NaN</td>\n",
       "      <td>NaN</td>\n",
       "      <td>NaN</td>\n",
       "      <td>NaN</td>\n",
       "    </tr>\n",
       "    <tr>\n",
       "      <th>3</th>\n",
       "      <td>AAACCTGCAATCTGCA-1</td>\n",
       "      <td>control</td>\n",
       "      <td>3468</td>\n",
       "      <td>True</td>\n",
       "      <td>False</td>\n",
       "      <td>False</td>\n",
       "      <td>True</td>\n",
       "      <td>NaN</td>\n",
       "      <td>NaN</td>\n",
       "      <td>NaN</td>\n",
       "      <td>...</td>\n",
       "      <td>NaN</td>\n",
       "      <td>NaN</td>\n",
       "      <td>NaN</td>\n",
       "      <td>NaN</td>\n",
       "      <td>NaN</td>\n",
       "      <td>NaN</td>\n",
       "      <td>NaN</td>\n",
       "      <td>NaN</td>\n",
       "      <td>NaN</td>\n",
       "      <td>NaN</td>\n",
       "    </tr>\n",
       "    <tr>\n",
       "      <th>4</th>\n",
       "      <td>AAACCTGCACGGTGTC-1</td>\n",
       "      <td>control</td>\n",
       "      <td>1745</td>\n",
       "      <td>False</td>\n",
       "      <td>False</td>\n",
       "      <td>False</td>\n",
       "      <td>False</td>\n",
       "      <td>NaN</td>\n",
       "      <td>NaN</td>\n",
       "      <td>NaN</td>\n",
       "      <td>...</td>\n",
       "      <td>NaN</td>\n",
       "      <td>NaN</td>\n",
       "      <td>NaN</td>\n",
       "      <td>NaN</td>\n",
       "      <td>NaN</td>\n",
       "      <td>NaN</td>\n",
       "      <td>NaN</td>\n",
       "      <td>NaN</td>\n",
       "      <td>NaN</td>\n",
       "      <td>NaN</td>\n",
       "    </tr>\n",
       "  </tbody>\n",
       "</table>\n",
       "<p>5 rows × 25 columns</p>\n",
       "</div>"
      ],
      "text/plain": [
       "              barcode condition  total_counts  pass_quality_filters  \\\n",
       "0  AAACCTGAGTGCTGCC-1   control          2787                  True   \n",
       "1  AAACCTGAGTGGGTTG-1   control          3325                  True   \n",
       "2  AAACCTGCAAGTCTAC-1   control          1781                 False   \n",
       "3  AAACCTGCAATCTGCA-1   control          3468                  True   \n",
       "4  AAACCTGCACGGTGTC-1   control          1745                 False   \n",
       "\n",
       "   inj_epithelial  ctr_epithelial  excluded_as_immune_or_mesench   class  \\\n",
       "0           False            True                          False  class3   \n",
       "1           False            True                          False  class3   \n",
       "2           False           False                          False     NaN   \n",
       "3           False           False                           True     NaN   \n",
       "4           False           False                          False     NaN   \n",
       "\n",
       "      population phase              ...                 x_control   y_control  \\\n",
       "0       ctr_DEEx    G1              ...                783.705500 -377.074709   \n",
       "1  ctr_upper_IEE    G1              ...                709.612642 -429.409941   \n",
       "2            NaN   NaN              ...                       NaN         NaN   \n",
       "3            NaN   NaN              ...                       NaN         NaN   \n",
       "4            NaN   NaN              ...                       NaN         NaN   \n",
       "\n",
       "  x_class3_exploded  y_class3_exploded x_control_injured  y_control_injured  \\\n",
       "0       1082.172898        -266.303304         709.78614        -325.505019   \n",
       "1        854.230866        -454.025809         529.15516        -471.961493   \n",
       "2               NaN                NaN               NaN                NaN   \n",
       "3               NaN                NaN               NaN                NaN   \n",
       "4               NaN                NaN               NaN                NaN   \n",
       "\n",
       "   x_class1_CTR_cell_cyc_removed  y_class1_CTR_cell_cyc_removed  \\\n",
       "0                            NaN                            NaN   \n",
       "1                            NaN                            NaN   \n",
       "2                            NaN                            NaN   \n",
       "3                            NaN                            NaN   \n",
       "4                            NaN                            NaN   \n",
       "\n",
       "   x_class1_INJ_cell_cyc_removed  y_class1_INJ_cell_cyc_removed  \n",
       "0                            NaN                            NaN  \n",
       "1                            NaN                            NaN  \n",
       "2                            NaN                            NaN  \n",
       "3                            NaN                            NaN  \n",
       "4                            NaN                            NaN  \n",
       "\n",
       "[5 rows x 25 columns]"
      ]
     },
     "execution_count": 7,
     "metadata": {},
     "output_type": "execute_result"
    }
   ],
   "source": [
    "# load cell info\n",
    "obs = pd.read_csv(obspath,sep='\\t',index_col=0)\n",
    "print(obs.shape)\n",
    "obs.head()"
   ]
  },
  {
   "cell_type": "code",
   "execution_count": 18,
   "metadata": {},
   "outputs": [
    {
     "name": "stdout",
     "output_type": "stream",
     "text": [
      "(8594, 27998)\n"
     ]
    }
   ],
   "source": [
    "# load counts\n",
    "adata = sc.read_mtx(countpath)\n",
    "print(adata.shape)\n",
    "\n",
    "# add genes (annotation of variables)\n",
    "adata.var['genes'] = np.loadtxt(genepath,dtype=str)\n",
    "\n",
    "# make sure var names are genes\n",
    "adata.var_names = adata.var['genes'].values\n",
    "\n",
    "# add obs (annotation of observations)\n",
    "adata.obs = obs\n",
    "\n",
    "# make sure index is unique AND a string\n",
    "adata.obs_names_make_unique()\n",
    "adata.obs_names = adata.obs_names.astype(str)"
   ]
  },
  {
   "cell_type": "markdown",
   "metadata": {},
   "source": [
    "### Scale (normalize) data"
   ]
  },
  {
   "cell_type": "code",
   "execution_count": 22,
   "metadata": {},
   "outputs": [
    {
     "name": "stdout",
     "output_type": "stream",
     "text": [
      "[[2787.]\n",
      " [3325.]\n",
      " [1781.]\n",
      " [3468.]\n",
      " [1745.]]\n",
      "\n",
      "[[10000.   ]\n",
      " [10000.   ]\n",
      " [10000.001]\n",
      " [10000.   ]\n",
      " [ 9999.999]]\n"
     ]
    }
   ],
   "source": [
    "# turn into counts per 10k\n",
    "print(adata.X[:5,:].sum(axis=1))\n",
    "print()\n",
    "sc.pp.normalize_per_cell(adata, counts_per_cell_after=1e4)\n",
    "print(adata.X[:5,:].sum(axis=1))"
   ]
  },
  {
   "cell_type": "markdown",
   "metadata": {},
   "source": [
    "### Save data for SPRING"
   ]
  },
  {
   "cell_type": "code",
   "execution_count": 24,
   "metadata": {},
   "outputs": [],
   "source": [
    "!mkdir -p SPRING_dev-master/datasets/"
   ]
  },
  {
   "cell_type": "code",
   "execution_count": 28,
   "metadata": {},
   "outputs": [],
   "source": [
    "project_dir = 'SPRING_dev-master/datasets/Sharir_et_al_2019/'"
   ]
  },
  {
   "cell_type": "code",
   "execution_count": 29,
   "metadata": {},
   "outputs": [
    {
     "name": "stdout",
     "output_type": "stream",
     "text": [
      "saving for quick loading of genes...\n",
      "saving for quick loading of cells...\n",
      "saving as npz...\n",
      "done\n"
     ]
    }
   ],
   "source": [
    "srz.save_counts_for_spring(adata,project_dir)"
   ]
  }
 ],
 "metadata": {
  "kernelspec": {
   "display_name": "Python 3",
   "language": "python",
   "name": "python3"
  },
  "language_info": {
   "codemirror_mode": {
    "name": "ipython",
    "version": 3
   },
   "file_extension": ".py",
   "mimetype": "text/x-python",
   "name": "python",
   "nbconvert_exporter": "python",
   "pygments_lexer": "ipython3",
   "version": "3.6.7"
  }
 },
 "nbformat": 4,
 "nbformat_minor": 2
}
